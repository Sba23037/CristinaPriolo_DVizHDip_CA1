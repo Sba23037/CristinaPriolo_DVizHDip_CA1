{
 "cells": [
  {
   "cell_type": "markdown",
   "id": "24e452f7",
   "metadata": {},
   "source": [
    "# Introduction: "
   ]
  },
  {
   "cell_type": "markdown",
   "id": "699811ea",
   "metadata": {},
   "source": [
    "In the domain of the retail company of videogames the dataset \"vgsales\" is going to be analized to determinate sales strategy for the coming winter season. In the following notebook it will be covered the following aspects:\n",
    "\n",
    "- Analyzing the dataset thanks to the libraries\n",
    "-  EDA:\n",
    "\n",
    "&rarr; Checking the dataset in its whole:\n",
    "> - type of variables\n",
    "> \n",
    "> - duplicates\n",
    "> \n",
    "> - Missing Variables\n",
    "> \n",
    " &rarr; Handling the missing variables\n",
    "- Part 1: Answering question to have a better overview over the domain of videogames\n",
    "- Part 2: statistical relevant question on the dataset\n",
    "- Conclusion.\n",
    "   "
   ]
  },
  {
   "cell_type": "code",
   "execution_count": 1,
   "id": "f0d6f97d",
   "metadata": {},
   "outputs": [],
   "source": [
    "import pandas as pd\n",
    "%matplotlib inline\n",
    "import numpy as np\n",
    "import matplotlib.pyplot as plt\n",
    "import seaborn as sns\n",
    "sns.set()"
   ]
  },
  {
   "cell_type": "code",
   "execution_count": 2,
   "id": "d995f6f6",
   "metadata": {},
   "outputs": [],
   "source": [
    "df=pd.read_csv(\"vgsales.csv\")"
   ]
  },
  {
   "cell_type": "markdown",
   "id": "4c7e076e-2a4e-4159-8411-636442fb3942",
   "metadata": {},
   "source": [
    "To start understanding the dataset and see the dimentionality of this the function .shape comes to play to give the reader the understanding of the dataset that will be analized."
   ]
  },
  {
   "cell_type": "code",
   "execution_count": 3,
   "id": "3d467f6d",
   "metadata": {},
   "outputs": [
    {
     "data": {
      "text/plain": [
       "(16719, 16)"
      ]
     },
     "execution_count": 3,
     "metadata": {},
     "output_type": "execute_result"
    }
   ],
   "source": [
    "df.shape"
   ]
  },
  {
   "cell_type": "markdown",
   "id": "bca1d671-7fcb-4052-b0d1-7599c2e635fb",
   "metadata": {},
   "source": [
    "The provided dataset has: \n",
    "- 16 features\n",
    "- 16719 Oberservation. "
   ]
  },
  {
   "cell_type": "code",
   "execution_count": 4,
   "id": "d6974bf3",
   "metadata": {},
   "outputs": [
    {
     "name": "stdout",
     "output_type": "stream",
     "text": [
      "<class 'pandas.core.frame.DataFrame'>\n",
      "RangeIndex: 16719 entries, 0 to 16718\n",
      "Data columns (total 16 columns):\n",
      " #   Column           Non-Null Count  Dtype  \n",
      "---  ------           --------------  -----  \n",
      " 0   Name             16717 non-null  object \n",
      " 1   Platform         16719 non-null  object \n",
      " 2   Year_of_Release  16450 non-null  float64\n",
      " 3   Genre            16717 non-null  object \n",
      " 4   Publisher        16665 non-null  object \n",
      " 5   NA_Sales         16719 non-null  float64\n",
      " 6   EU_Sales         16719 non-null  float64\n",
      " 7   JP_Sales         16719 non-null  float64\n",
      " 8   Other_Sales      16719 non-null  float64\n",
      " 9   Global_Sales     16719 non-null  float64\n",
      " 10  Critic_Score     8137 non-null   float64\n",
      " 11  Critic_Count     8137 non-null   float64\n",
      " 12  User_Score       10015 non-null  object \n",
      " 13  User_Count       7590 non-null   float64\n",
      " 14  Developer        10096 non-null  object \n",
      " 15  Rating           9950 non-null   object \n",
      "dtypes: float64(9), object(7)\n",
      "memory usage: 2.0+ MB\n"
     ]
    }
   ],
   "source": [
    "df.info()"
   ]
  },
  {
   "cell_type": "markdown",
   "id": "d7ff9825-de89-4e31-8c32-3473bef8c067",
   "metadata": {},
   "source": [
    "the function .info gives the picture of the features that are present in the DataFrame the dtype and non missing values in the column. This shows already that the dataset has floats and objectes. It gives already the information that there are numerical variables that are floats so decimal numbers and categorical variable object. \n",
    "\n",
    "To have a better understanding of the object and floats  variables the following function comes to help:"
   ]
  },
  {
   "cell_type": "code",
   "execution_count": 7,
   "id": "db7a49ea",
   "metadata": {},
   "outputs": [
    {
     "data": {
      "text/html": [
       "<div>\n",
       "<style scoped>\n",
       "    .dataframe tbody tr th:only-of-type {\n",
       "        vertical-align: middle;\n",
       "    }\n",
       "\n",
       "    .dataframe tbody tr th {\n",
       "        vertical-align: top;\n",
       "    }\n",
       "\n",
       "    .dataframe thead th {\n",
       "        text-align: right;\n",
       "    }\n",
       "</style>\n",
       "<table border=\"1\" class=\"dataframe\">\n",
       "  <thead>\n",
       "    <tr style=\"text-align: right;\">\n",
       "      <th></th>\n",
       "      <th>Name</th>\n",
       "      <th>Platform</th>\n",
       "      <th>Genre</th>\n",
       "      <th>Publisher</th>\n",
       "      <th>User_Score</th>\n",
       "      <th>Developer</th>\n",
       "      <th>Rating</th>\n",
       "    </tr>\n",
       "  </thead>\n",
       "  <tbody>\n",
       "    <tr>\n",
       "      <th>count</th>\n",
       "      <td>16717</td>\n",
       "      <td>16719</td>\n",
       "      <td>16717</td>\n",
       "      <td>16665</td>\n",
       "      <td>10015</td>\n",
       "      <td>10096</td>\n",
       "      <td>9950</td>\n",
       "    </tr>\n",
       "    <tr>\n",
       "      <th>unique</th>\n",
       "      <td>11562</td>\n",
       "      <td>31</td>\n",
       "      <td>12</td>\n",
       "      <td>581</td>\n",
       "      <td>96</td>\n",
       "      <td>1696</td>\n",
       "      <td>8</td>\n",
       "    </tr>\n",
       "    <tr>\n",
       "      <th>top</th>\n",
       "      <td>Need for Speed: Most Wanted</td>\n",
       "      <td>PS2</td>\n",
       "      <td>Action</td>\n",
       "      <td>Electronic Arts</td>\n",
       "      <td>tbd</td>\n",
       "      <td>Ubisoft</td>\n",
       "      <td>E</td>\n",
       "    </tr>\n",
       "    <tr>\n",
       "      <th>freq</th>\n",
       "      <td>12</td>\n",
       "      <td>2161</td>\n",
       "      <td>3370</td>\n",
       "      <td>1356</td>\n",
       "      <td>2425</td>\n",
       "      <td>204</td>\n",
       "      <td>3991</td>\n",
       "    </tr>\n",
       "  </tbody>\n",
       "</table>\n",
       "</div>"
      ],
      "text/plain": [
       "                               Name Platform   Genre        Publisher  \\\n",
       "count                         16717    16719   16717            16665   \n",
       "unique                        11562       31      12              581   \n",
       "top     Need for Speed: Most Wanted      PS2  Action  Electronic Arts   \n",
       "freq                             12     2161    3370             1356   \n",
       "\n",
       "       User_Score Developer Rating  \n",
       "count       10015     10096   9950  \n",
       "unique         96      1696      8  \n",
       "top           tbd   Ubisoft      E  \n",
       "freq         2425       204   3991  "
      ]
     },
     "execution_count": 7,
     "metadata": {},
     "output_type": "execute_result"
    }
   ],
   "source": [
    "df.describe(include=object)"
   ]
  },
  {
   "cell_type": "code",
   "execution_count": 8,
   "id": "c769665e",
   "metadata": {},
   "outputs": [
    {
     "data": {
      "text/html": [
       "<div>\n",
       "<style scoped>\n",
       "    .dataframe tbody tr th:only-of-type {\n",
       "        vertical-align: middle;\n",
       "    }\n",
       "\n",
       "    .dataframe tbody tr th {\n",
       "        vertical-align: top;\n",
       "    }\n",
       "\n",
       "    .dataframe thead th {\n",
       "        text-align: right;\n",
       "    }\n",
       "</style>\n",
       "<table border=\"1\" class=\"dataframe\">\n",
       "  <thead>\n",
       "    <tr style=\"text-align: right;\">\n",
       "      <th></th>\n",
       "      <th>Year_of_Release</th>\n",
       "      <th>NA_Sales</th>\n",
       "      <th>EU_Sales</th>\n",
       "      <th>JP_Sales</th>\n",
       "      <th>Other_Sales</th>\n",
       "      <th>Global_Sales</th>\n",
       "      <th>Critic_Score</th>\n",
       "      <th>Critic_Count</th>\n",
       "      <th>User_Count</th>\n",
       "    </tr>\n",
       "  </thead>\n",
       "  <tbody>\n",
       "    <tr>\n",
       "      <th>count</th>\n",
       "      <td>16450.000000</td>\n",
       "      <td>16719.000000</td>\n",
       "      <td>16719.000000</td>\n",
       "      <td>16719.000000</td>\n",
       "      <td>16719.000000</td>\n",
       "      <td>16719.000000</td>\n",
       "      <td>8137.000000</td>\n",
       "      <td>8137.000000</td>\n",
       "      <td>7590.000000</td>\n",
       "    </tr>\n",
       "    <tr>\n",
       "      <th>mean</th>\n",
       "      <td>2006.487356</td>\n",
       "      <td>0.263330</td>\n",
       "      <td>0.145025</td>\n",
       "      <td>0.077602</td>\n",
       "      <td>0.047332</td>\n",
       "      <td>0.533543</td>\n",
       "      <td>68.967679</td>\n",
       "      <td>26.360821</td>\n",
       "      <td>162.229908</td>\n",
       "    </tr>\n",
       "    <tr>\n",
       "      <th>std</th>\n",
       "      <td>5.878995</td>\n",
       "      <td>0.813514</td>\n",
       "      <td>0.503283</td>\n",
       "      <td>0.308818</td>\n",
       "      <td>0.186710</td>\n",
       "      <td>1.547935</td>\n",
       "      <td>13.938165</td>\n",
       "      <td>18.980495</td>\n",
       "      <td>561.282326</td>\n",
       "    </tr>\n",
       "    <tr>\n",
       "      <th>min</th>\n",
       "      <td>1980.000000</td>\n",
       "      <td>0.000000</td>\n",
       "      <td>0.000000</td>\n",
       "      <td>0.000000</td>\n",
       "      <td>0.000000</td>\n",
       "      <td>0.010000</td>\n",
       "      <td>13.000000</td>\n",
       "      <td>3.000000</td>\n",
       "      <td>4.000000</td>\n",
       "    </tr>\n",
       "    <tr>\n",
       "      <th>25%</th>\n",
       "      <td>2003.000000</td>\n",
       "      <td>0.000000</td>\n",
       "      <td>0.000000</td>\n",
       "      <td>0.000000</td>\n",
       "      <td>0.000000</td>\n",
       "      <td>0.060000</td>\n",
       "      <td>60.000000</td>\n",
       "      <td>12.000000</td>\n",
       "      <td>10.000000</td>\n",
       "    </tr>\n",
       "    <tr>\n",
       "      <th>50%</th>\n",
       "      <td>2007.000000</td>\n",
       "      <td>0.080000</td>\n",
       "      <td>0.020000</td>\n",
       "      <td>0.000000</td>\n",
       "      <td>0.010000</td>\n",
       "      <td>0.170000</td>\n",
       "      <td>71.000000</td>\n",
       "      <td>21.000000</td>\n",
       "      <td>24.000000</td>\n",
       "    </tr>\n",
       "    <tr>\n",
       "      <th>75%</th>\n",
       "      <td>2010.000000</td>\n",
       "      <td>0.240000</td>\n",
       "      <td>0.110000</td>\n",
       "      <td>0.040000</td>\n",
       "      <td>0.030000</td>\n",
       "      <td>0.470000</td>\n",
       "      <td>79.000000</td>\n",
       "      <td>36.000000</td>\n",
       "      <td>81.000000</td>\n",
       "    </tr>\n",
       "    <tr>\n",
       "      <th>max</th>\n",
       "      <td>2020.000000</td>\n",
       "      <td>41.360000</td>\n",
       "      <td>28.960000</td>\n",
       "      <td>10.220000</td>\n",
       "      <td>10.570000</td>\n",
       "      <td>82.530000</td>\n",
       "      <td>98.000000</td>\n",
       "      <td>113.000000</td>\n",
       "      <td>10665.000000</td>\n",
       "    </tr>\n",
       "  </tbody>\n",
       "</table>\n",
       "</div>"
      ],
      "text/plain": [
       "       Year_of_Release      NA_Sales      EU_Sales      JP_Sales  \\\n",
       "count     16450.000000  16719.000000  16719.000000  16719.000000   \n",
       "mean       2006.487356      0.263330      0.145025      0.077602   \n",
       "std           5.878995      0.813514      0.503283      0.308818   \n",
       "min        1980.000000      0.000000      0.000000      0.000000   \n",
       "25%        2003.000000      0.000000      0.000000      0.000000   \n",
       "50%        2007.000000      0.080000      0.020000      0.000000   \n",
       "75%        2010.000000      0.240000      0.110000      0.040000   \n",
       "max        2020.000000     41.360000     28.960000     10.220000   \n",
       "\n",
       "        Other_Sales  Global_Sales  Critic_Score  Critic_Count    User_Count  \n",
       "count  16719.000000  16719.000000   8137.000000   8137.000000   7590.000000  \n",
       "mean       0.047332      0.533543     68.967679     26.360821    162.229908  \n",
       "std        0.186710      1.547935     13.938165     18.980495    561.282326  \n",
       "min        0.000000      0.010000     13.000000      3.000000      4.000000  \n",
       "25%        0.000000      0.060000     60.000000     12.000000     10.000000  \n",
       "50%        0.010000      0.170000     71.000000     21.000000     24.000000  \n",
       "75%        0.030000      0.470000     79.000000     36.000000     81.000000  \n",
       "max       10.570000     82.530000     98.000000    113.000000  10665.000000  "
      ]
     },
     "execution_count": 8,
     "metadata": {},
     "output_type": "execute_result"
    }
   ],
   "source": [
    "df.describe(include=float)"
   ]
  },
  {
   "cell_type": "markdown",
   "id": "24bd0b1a-b549-4036-9d73-46d8282fc61e",
   "metadata": {},
   "source": [
    "It can be noticed already that  User_Score seems to be a float but it is market as object where lots of the present obeservation are \"tbd\" To be confirmed and this already gives hints about the nexts steps to handle the variable. Also it gived a bit of general overview over the dataset.\n",
    "In the domain of videgames on the provided dataFrame the most frequent Genre is Action for PS2 platform and developer Ubisoft. For the floats we can already have an overview of the sales and the critic score  over the games. The following till recap everything of the dataset: "
   ]
  },
  {
   "cell_type": "code",
   "execution_count": 9,
   "id": "2c61b483",
   "metadata": {
    "scrolled": true
   },
   "outputs": [
    {
     "name": "stdout",
     "output_type": "stream",
     "text": [
      "The data set has 16719 rows and 16 columns\n"
     ]
    },
    {
     "data": {
      "text/html": [
       "<div>\n",
       "<style scoped>\n",
       "    .dataframe tbody tr th:only-of-type {\n",
       "        vertical-align: middle;\n",
       "    }\n",
       "\n",
       "    .dataframe tbody tr th {\n",
       "        vertical-align: top;\n",
       "    }\n",
       "\n",
       "    .dataframe thead th {\n",
       "        text-align: right;\n",
       "    }\n",
       "</style>\n",
       "<table border=\"1\" class=\"dataframe\">\n",
       "  <thead>\n",
       "    <tr style=\"text-align: right;\">\n",
       "      <th></th>\n",
       "      <th>Year_of_Release</th>\n",
       "      <th>NA_Sales</th>\n",
       "      <th>EU_Sales</th>\n",
       "      <th>JP_Sales</th>\n",
       "      <th>Other_Sales</th>\n",
       "      <th>Global_Sales</th>\n",
       "      <th>Critic_Score</th>\n",
       "      <th>Critic_Count</th>\n",
       "      <th>User_Count</th>\n",
       "    </tr>\n",
       "  </thead>\n",
       "  <tbody>\n",
       "    <tr>\n",
       "      <th>count</th>\n",
       "      <td>16450.000000</td>\n",
       "      <td>16719.000000</td>\n",
       "      <td>16719.000000</td>\n",
       "      <td>16719.000000</td>\n",
       "      <td>16719.000000</td>\n",
       "      <td>16719.000000</td>\n",
       "      <td>8137.000000</td>\n",
       "      <td>8137.000000</td>\n",
       "      <td>7590.000000</td>\n",
       "    </tr>\n",
       "    <tr>\n",
       "      <th>mean</th>\n",
       "      <td>2006.487356</td>\n",
       "      <td>0.263330</td>\n",
       "      <td>0.145025</td>\n",
       "      <td>0.077602</td>\n",
       "      <td>0.047332</td>\n",
       "      <td>0.533543</td>\n",
       "      <td>68.967679</td>\n",
       "      <td>26.360821</td>\n",
       "      <td>162.229908</td>\n",
       "    </tr>\n",
       "    <tr>\n",
       "      <th>std</th>\n",
       "      <td>5.878995</td>\n",
       "      <td>0.813514</td>\n",
       "      <td>0.503283</td>\n",
       "      <td>0.308818</td>\n",
       "      <td>0.186710</td>\n",
       "      <td>1.547935</td>\n",
       "      <td>13.938165</td>\n",
       "      <td>18.980495</td>\n",
       "      <td>561.282326</td>\n",
       "    </tr>\n",
       "    <tr>\n",
       "      <th>min</th>\n",
       "      <td>1980.000000</td>\n",
       "      <td>0.000000</td>\n",
       "      <td>0.000000</td>\n",
       "      <td>0.000000</td>\n",
       "      <td>0.000000</td>\n",
       "      <td>0.010000</td>\n",
       "      <td>13.000000</td>\n",
       "      <td>3.000000</td>\n",
       "      <td>4.000000</td>\n",
       "    </tr>\n",
       "    <tr>\n",
       "      <th>25%</th>\n",
       "      <td>2003.000000</td>\n",
       "      <td>0.000000</td>\n",
       "      <td>0.000000</td>\n",
       "      <td>0.000000</td>\n",
       "      <td>0.000000</td>\n",
       "      <td>0.060000</td>\n",
       "      <td>60.000000</td>\n",
       "      <td>12.000000</td>\n",
       "      <td>10.000000</td>\n",
       "    </tr>\n",
       "    <tr>\n",
       "      <th>50%</th>\n",
       "      <td>2007.000000</td>\n",
       "      <td>0.080000</td>\n",
       "      <td>0.020000</td>\n",
       "      <td>0.000000</td>\n",
       "      <td>0.010000</td>\n",
       "      <td>0.170000</td>\n",
       "      <td>71.000000</td>\n",
       "      <td>21.000000</td>\n",
       "      <td>24.000000</td>\n",
       "    </tr>\n",
       "    <tr>\n",
       "      <th>75%</th>\n",
       "      <td>2010.000000</td>\n",
       "      <td>0.240000</td>\n",
       "      <td>0.110000</td>\n",
       "      <td>0.040000</td>\n",
       "      <td>0.030000</td>\n",
       "      <td>0.470000</td>\n",
       "      <td>79.000000</td>\n",
       "      <td>36.000000</td>\n",
       "      <td>81.000000</td>\n",
       "    </tr>\n",
       "    <tr>\n",
       "      <th>max</th>\n",
       "      <td>2020.000000</td>\n",
       "      <td>41.360000</td>\n",
       "      <td>28.960000</td>\n",
       "      <td>10.220000</td>\n",
       "      <td>10.570000</td>\n",
       "      <td>82.530000</td>\n",
       "      <td>98.000000</td>\n",
       "      <td>113.000000</td>\n",
       "      <td>10665.000000</td>\n",
       "    </tr>\n",
       "  </tbody>\n",
       "</table>\n",
       "</div>"
      ],
      "text/plain": [
       "       Year_of_Release      NA_Sales      EU_Sales      JP_Sales  \\\n",
       "count     16450.000000  16719.000000  16719.000000  16719.000000   \n",
       "mean       2006.487356      0.263330      0.145025      0.077602   \n",
       "std           5.878995      0.813514      0.503283      0.308818   \n",
       "min        1980.000000      0.000000      0.000000      0.000000   \n",
       "25%        2003.000000      0.000000      0.000000      0.000000   \n",
       "50%        2007.000000      0.080000      0.020000      0.000000   \n",
       "75%        2010.000000      0.240000      0.110000      0.040000   \n",
       "max        2020.000000     41.360000     28.960000     10.220000   \n",
       "\n",
       "        Other_Sales  Global_Sales  Critic_Score  Critic_Count    User_Count  \n",
       "count  16719.000000  16719.000000   8137.000000   8137.000000   7590.000000  \n",
       "mean       0.047332      0.533543     68.967679     26.360821    162.229908  \n",
       "std        0.186710      1.547935     13.938165     18.980495    561.282326  \n",
       "min        0.000000      0.010000     13.000000      3.000000      4.000000  \n",
       "25%        0.000000      0.060000     60.000000     12.000000     10.000000  \n",
       "50%        0.010000      0.170000     71.000000     21.000000     24.000000  \n",
       "75%        0.030000      0.470000     79.000000     36.000000     81.000000  \n",
       "max       10.570000     82.530000     98.000000    113.000000  10665.000000  "
      ]
     },
     "metadata": {},
     "output_type": "display_data"
    },
    {
     "data": {
      "text/html": [
       "<div>\n",
       "<style scoped>\n",
       "    .dataframe tbody tr th:only-of-type {\n",
       "        vertical-align: middle;\n",
       "    }\n",
       "\n",
       "    .dataframe tbody tr th {\n",
       "        vertical-align: top;\n",
       "    }\n",
       "\n",
       "    .dataframe thead th {\n",
       "        text-align: right;\n",
       "    }\n",
       "</style>\n",
       "<table border=\"1\" class=\"dataframe\">\n",
       "  <thead>\n",
       "    <tr style=\"text-align: right;\">\n",
       "      <th></th>\n",
       "      <th>Name</th>\n",
       "      <th>Platform</th>\n",
       "      <th>Year_of_Release</th>\n",
       "      <th>Genre</th>\n",
       "      <th>Publisher</th>\n",
       "      <th>NA_Sales</th>\n",
       "      <th>EU_Sales</th>\n",
       "      <th>JP_Sales</th>\n",
       "      <th>Other_Sales</th>\n",
       "      <th>Global_Sales</th>\n",
       "      <th>Critic_Score</th>\n",
       "      <th>Critic_Count</th>\n",
       "      <th>User_Score</th>\n",
       "      <th>User_Count</th>\n",
       "      <th>Developer</th>\n",
       "      <th>Rating</th>\n",
       "    </tr>\n",
       "  </thead>\n",
       "  <tbody>\n",
       "    <tr>\n",
       "      <th>0</th>\n",
       "      <td>Wii Sports</td>\n",
       "      <td>Wii</td>\n",
       "      <td>2006.0</td>\n",
       "      <td>Sports</td>\n",
       "      <td>Nintendo</td>\n",
       "      <td>41.36</td>\n",
       "      <td>28.96</td>\n",
       "      <td>3.77</td>\n",
       "      <td>8.45</td>\n",
       "      <td>82.53</td>\n",
       "      <td>76.0</td>\n",
       "      <td>51.0</td>\n",
       "      <td>8</td>\n",
       "      <td>322.0</td>\n",
       "      <td>Nintendo</td>\n",
       "      <td>E</td>\n",
       "    </tr>\n",
       "    <tr>\n",
       "      <th>1</th>\n",
       "      <td>Super Mario Bros.</td>\n",
       "      <td>NES</td>\n",
       "      <td>1985.0</td>\n",
       "      <td>Platform</td>\n",
       "      <td>Nintendo</td>\n",
       "      <td>29.08</td>\n",
       "      <td>3.58</td>\n",
       "      <td>6.81</td>\n",
       "      <td>0.77</td>\n",
       "      <td>40.24</td>\n",
       "      <td>NaN</td>\n",
       "      <td>NaN</td>\n",
       "      <td>NaN</td>\n",
       "      <td>NaN</td>\n",
       "      <td>NaN</td>\n",
       "      <td>NaN</td>\n",
       "    </tr>\n",
       "    <tr>\n",
       "      <th>2</th>\n",
       "      <td>Mario Kart Wii</td>\n",
       "      <td>Wii</td>\n",
       "      <td>2008.0</td>\n",
       "      <td>Racing</td>\n",
       "      <td>Nintendo</td>\n",
       "      <td>15.68</td>\n",
       "      <td>12.76</td>\n",
       "      <td>3.79</td>\n",
       "      <td>3.29</td>\n",
       "      <td>35.52</td>\n",
       "      <td>82.0</td>\n",
       "      <td>73.0</td>\n",
       "      <td>8.3</td>\n",
       "      <td>709.0</td>\n",
       "      <td>Nintendo</td>\n",
       "      <td>E</td>\n",
       "    </tr>\n",
       "    <tr>\n",
       "      <th>3</th>\n",
       "      <td>Wii Sports Resort</td>\n",
       "      <td>Wii</td>\n",
       "      <td>2009.0</td>\n",
       "      <td>Sports</td>\n",
       "      <td>Nintendo</td>\n",
       "      <td>15.61</td>\n",
       "      <td>10.93</td>\n",
       "      <td>3.28</td>\n",
       "      <td>2.95</td>\n",
       "      <td>32.77</td>\n",
       "      <td>80.0</td>\n",
       "      <td>73.0</td>\n",
       "      <td>8</td>\n",
       "      <td>192.0</td>\n",
       "      <td>Nintendo</td>\n",
       "      <td>E</td>\n",
       "    </tr>\n",
       "    <tr>\n",
       "      <th>4</th>\n",
       "      <td>Pokemon Red/Pokemon Blue</td>\n",
       "      <td>GB</td>\n",
       "      <td>1996.0</td>\n",
       "      <td>Role-Playing</td>\n",
       "      <td>Nintendo</td>\n",
       "      <td>11.27</td>\n",
       "      <td>8.89</td>\n",
       "      <td>10.22</td>\n",
       "      <td>1.00</td>\n",
       "      <td>31.37</td>\n",
       "      <td>NaN</td>\n",
       "      <td>NaN</td>\n",
       "      <td>NaN</td>\n",
       "      <td>NaN</td>\n",
       "      <td>NaN</td>\n",
       "      <td>NaN</td>\n",
       "    </tr>\n",
       "  </tbody>\n",
       "</table>\n",
       "</div>"
      ],
      "text/plain": [
       "                       Name Platform  Year_of_Release         Genre Publisher  \\\n",
       "0                Wii Sports      Wii           2006.0        Sports  Nintendo   \n",
       "1         Super Mario Bros.      NES           1985.0      Platform  Nintendo   \n",
       "2            Mario Kart Wii      Wii           2008.0        Racing  Nintendo   \n",
       "3         Wii Sports Resort      Wii           2009.0        Sports  Nintendo   \n",
       "4  Pokemon Red/Pokemon Blue       GB           1996.0  Role-Playing  Nintendo   \n",
       "\n",
       "   NA_Sales  EU_Sales  JP_Sales  Other_Sales  Global_Sales  Critic_Score  \\\n",
       "0     41.36     28.96      3.77         8.45         82.53          76.0   \n",
       "1     29.08      3.58      6.81         0.77         40.24           NaN   \n",
       "2     15.68     12.76      3.79         3.29         35.52          82.0   \n",
       "3     15.61     10.93      3.28         2.95         32.77          80.0   \n",
       "4     11.27      8.89     10.22         1.00         31.37           NaN   \n",
       "\n",
       "   Critic_Count User_Score  User_Count Developer Rating  \n",
       "0          51.0          8       322.0  Nintendo      E  \n",
       "1           NaN        NaN         NaN       NaN    NaN  \n",
       "2          73.0        8.3       709.0  Nintendo      E  \n",
       "3          73.0          8       192.0  Nintendo      E  \n",
       "4           NaN        NaN         NaN       NaN    NaN  "
      ]
     },
     "metadata": {},
     "output_type": "display_data"
    },
    {
     "data": {
      "text/plain": [
       "float64    9\n",
       "object     7\n",
       "Name: count, dtype: int64"
      ]
     },
     "metadata": {},
     "output_type": "display_data"
    }
   ],
   "source": [
    "print(\"The data set has {} rows and {} columns\".format(df.shape[0], df.shape[1]))\n",
    "display(df.describe())\n",
    "display(df.head())\n",
    "display(df.dtypes.value_counts())"
   ]
  },
  {
   "cell_type": "code",
   "execution_count": 10,
   "id": "caf0dc91",
   "metadata": {},
   "outputs": [
    {
     "data": {
      "text/plain": [
       "Name                object\n",
       "Platform            object\n",
       "Year_of_Release    float64\n",
       "Genre               object\n",
       "Publisher           object\n",
       "NA_Sales           float64\n",
       "EU_Sales           float64\n",
       "JP_Sales           float64\n",
       "Other_Sales        float64\n",
       "Global_Sales       float64\n",
       "Critic_Score       float64\n",
       "Critic_Count       float64\n",
       "User_Score          object\n",
       "User_Count         float64\n",
       "Developer           object\n",
       "Rating              object\n",
       "dtype: object"
      ]
     },
     "execution_count": 10,
     "metadata": {},
     "output_type": "execute_result"
    }
   ],
   "source": [
    "df.dtypes"
   ]
  },
  {
   "cell_type": "markdown",
   "id": "1f76c06f-0659-456d-a0dc-6a170987fd38",
   "metadata": {},
   "source": [
    "# EDA: "
   ]
  },
  {
   "cell_type": "markdown",
   "id": "aa026928-9ee2-4123-b07a-1d6de9d5680a",
   "metadata": {},
   "source": [
    "Before handling statistical question and deep diving into the dataset to see trends in the domain of the videogames it is vital to have the step of EDA. The reason behind is to have accurate datas and understand the data structure and patterns. This sectin will cover checking for duplicates and missing variable that will be crucial to handle in order to have a clean dataset to obtain trends that are accurate."
   ]
  },
  {
   "cell_type": "markdown",
   "id": "495779a3",
   "metadata": {},
   "source": [
    "## Checking for Duplicates: "
   ]
  },
  {
   "cell_type": "markdown",
   "id": "64f8422a-9927-4890-b9e9-f9b4108ecaaf",
   "metadata": {},
   "source": [
    "checking for duplicates is important to understand the structure of the dataset and their impact in it. It is important to check if there are observation that the same in the whole dataset, which are not present. Duplicates can impact the skew statistical and mislead the bigger picture leading to have the wrong results.  and understand also how many duplicates are for the same observation for features to have a better overview also about the frequency of them. For example in the dataset there are present 5156 duplicates in the feature names. It has been taken the decision to don't handle the column duplicates because these could be relevant in statical questions and visualization. Example if we are having the same duplicate in names it means that the name of the game has been evaluated and bought for example in different sales location. "
   ]
  },
  {
   "cell_type": "code",
   "execution_count": 11,
   "id": "5685be25",
   "metadata": {},
   "outputs": [
    {
     "data": {
      "text/plain": [
       "0"
      ]
     },
     "execution_count": 11,
     "metadata": {},
     "output_type": "execute_result"
    }
   ],
   "source": [
    "df.duplicated().sum() "
   ]
  },
  {
   "cell_type": "code",
   "execution_count": 12,
   "id": "24a53d4b",
   "metadata": {},
   "outputs": [
    {
     "name": "stdout",
     "output_type": "stream",
     "text": [
      "Duplicate sum in Name: 5156\n",
      "Duplicate sum in Platform: 16688\n",
      "Duplicate sum in Year_of_Release: 16679\n",
      "Duplicate sum in Genre: 16706\n",
      "Duplicate sum in Publisher: 16137\n",
      "Duplicate sum in NA_Sales: 16317\n",
      "Duplicate sum in EU_Sales: 16412\n",
      "Duplicate sum in JP_Sales: 16475\n",
      "Duplicate sum in Other_Sales: 16564\n",
      "Duplicate sum in Global_Sales: 16090\n",
      "Duplicate sum in Critic_Score: 16636\n",
      "Duplicate sum in Critic_Count: 16612\n",
      "Duplicate sum in User_Score: 16622\n",
      "Duplicate sum in User_Count: 15830\n",
      "Duplicate sum in Developer: 15022\n",
      "Duplicate sum in Rating: 16710\n"
     ]
    }
   ],
   "source": [
    "for col in df.columns:\n",
    "    dup_sum = df.duplicated(subset=col).sum()\n",
    "    print(f\"Duplicate sum in {col}: {dup_sum}\")"
   ]
  },
  {
   "cell_type": "markdown",
   "id": "96b7a99d",
   "metadata": {},
   "source": [
    "## Missing Variables: "
   ]
  },
  {
   "cell_type": "markdown",
   "id": "f795f218-24b4-40c1-af4a-919a4753abdc",
   "metadata": {},
   "source": [
    "Checking Missing Variables is important to see what is the tendency of the dataset and which approach could be used to handle them."
   ]
  },
  {
   "cell_type": "code",
   "execution_count": 13,
   "id": "393439db",
   "metadata": {},
   "outputs": [
    {
     "data": {
      "text/plain": [
       "Name                  2\n",
       "Platform              0\n",
       "Year_of_Release     269\n",
       "Genre                 2\n",
       "Publisher            54\n",
       "NA_Sales              0\n",
       "EU_Sales              0\n",
       "JP_Sales              0\n",
       "Other_Sales           0\n",
       "Global_Sales          0\n",
       "Critic_Score       8582\n",
       "Critic_Count       8582\n",
       "User_Score         6704\n",
       "User_Count         9129\n",
       "Developer          6623\n",
       "Rating             6769\n",
       "dtype: int64"
      ]
     },
     "execution_count": 13,
     "metadata": {},
     "output_type": "execute_result"
    }
   ],
   "source": [
    "df.isnull().sum()"
   ]
  },
  {
   "cell_type": "markdown",
   "id": "abcb4339-5529-450b-b08b-03799cc02a65",
   "metadata": {},
   "source": [
    "After this premiliminary check it is noticable which column *don't* have missing variables and which one have quite a bit of missing variables:\n",
    "\n",
    "&rarr; Feature with 0 missing variables are:\n",
    "- Platform   \n",
    "- NA_Sales \n",
    "- EU_Sales    \n",
    "- JP_Sales                           \n",
    "- Other_Sales\n",
    "- Global_Sales\n",
    "\n",
    "This is important because these variables could be left as they are at the moment due for their structure that don't have blanks attributes. \n",
    "\n",
    "However we have quite few features with missing variables: \n",
    "| feature        | type | \n",
    "| ---------- | ------- |\n",
    "| Name               | object|\n",
    "| Year_of_Release  | float64|\n",
    "| Genre              | object|\n",
    "| Publisher          | object|\n",
    "| Critic_Count       | float64|\n",
    "| Critic_Score       | float64|\n",
    "| User_Score         | object |\n",
    "| User_Count         | float64|\n",
    "| Developer          | object|\n",
    "| Rating             | object|\n",
    "Depending if they are float or object the decision in filling them will be different and it is going to be analized keep going into the analysis.ized keep going into the analysis. \n"
   ]
  },
  {
   "cell_type": "markdown",
   "id": "0acff8c8",
   "metadata": {},
   "source": [
    "Checking the percentace of the missing variable is important to have the whole picture of how much amount is missing from the provided dataset"
   ]
  },
  {
   "cell_type": "code",
   "execution_count": 14,
   "id": "5b4348e0",
   "metadata": {},
   "outputs": [
    {
     "name": "stdout",
     "output_type": "stream",
     "text": [
      "Name                0.011962\n",
      "Platform            0.000000\n",
      "Year_of_Release     1.608948\n",
      "Genre               0.011962\n",
      "Publisher           0.322986\n",
      "NA_Sales            0.000000\n",
      "EU_Sales            0.000000\n",
      "JP_Sales            0.000000\n",
      "Other_Sales         0.000000\n",
      "Global_Sales        0.000000\n",
      "Critic_Score       51.330821\n",
      "Critic_Count       51.330821\n",
      "User_Score         40.098092\n",
      "User_Count         54.602548\n",
      "Developer          39.613613\n",
      "Rating             40.486871\n",
      "dtype: float64\n"
     ]
    }
   ],
   "source": [
    "missing_values = df.isnull().sum()\n",
    "total_values = df.shape[0]\n",
    "\n",
    "percentage_missing = (missing_values / total_values) * 100\n",
    "\n",
    "print(percentage_missing)"
   ]
  },
  {
   "cell_type": "code",
   "execution_count": 15,
   "id": "83e807f5",
   "metadata": {},
   "outputs": [
    {
     "data": {
      "text/plain": [
       "46716"
      ]
     },
     "execution_count": 15,
     "metadata": {},
     "output_type": "execute_result"
    }
   ],
   "source": [
    "df.isnull().sum().sum()"
   ]
  },
  {
   "cell_type": "markdown",
   "id": "e1b0413d-11a1-4bd8-9a5b-6e7d729f39c8",
   "metadata": {},
   "source": [
    "The total of the missing variables are 46716 which means that they have a significantly impact into the integrety of the analysis leading to unaccurate results and wrong conclsusions. Handling strategy will be carefully considered to handle them "
   ]
  },
  {
   "cell_type": "markdown",
   "id": "a0e48dd3",
   "metadata": {},
   "source": [
    "# Handling Missing Variables: "
   ]
  },
  {
   "cell_type": "markdown",
   "id": "c6bbc1f1",
   "metadata": {},
   "source": [
    "To understand how to handle this missing variable is important before to understand which type of variable are; float and object. This is important to understand the correct approach to handle them. It is crucial to handle this before passing to core of this analysis which is the visualization to part to avoid having naan values in the graphs."
   ]
  },
  {
   "attachments": {},
   "cell_type": "markdown",
   "id": "1dddd395",
   "metadata": {},
   "source": [
    "To start the it is important to consider what are numerical and what are categorical variable. Back to the beggining thanks to the function \"df.info()\" the system provided what categories are:\n",
    "\n",
    "- Float: Which are numerical variable\n",
    "- Object: Which are categorical variable. This primary distion already gives the hint of how to start handling what is missing.\n",
    "\n",
    "**Float Missing Variables:**\n",
    "\n",
    "- Critic_Score\n",
    "- Critic_Count\n",
    "- User_Count\n",
    "\n",
    "It has been left at the moment User_Score aside even tho it is a float and it will be covered later on why. \n",
    "\n",
    "To understand how to fill the missing variable understanding if they are skewed or normally distributed comes to help. If the variable are normally distributed it should be used the mean, if they are skewed the mediam is a better choice. \n",
    "\n",
    "Before proceding it is going to be checked if Critic_Score, Critic_Count and User_count are skewed:\n",
    "\n",
    " "
   ]
  },
  {
   "cell_type": "code",
   "execution_count": 16,
   "id": "b840c5e2-7a5d-4e14-b93a-06512ad7cf27",
   "metadata": {},
   "outputs": [
    {
     "data": {
      "text/plain": [
       "-0.6136462286413596"
      ]
     },
     "execution_count": 16,
     "metadata": {},
     "output_type": "execute_result"
    }
   ],
   "source": [
    "df['Critic_Score'].skew()"
   ]
  },
  {
   "cell_type": "code",
   "execution_count": 17,
   "id": "14c883ef-b0dd-458a-8fac-8a96d1430d1e",
   "metadata": {},
   "outputs": [
    {
     "data": {
      "text/plain": [
       "1.155124865446552"
      ]
     },
     "execution_count": 17,
     "metadata": {},
     "output_type": "execute_result"
    }
   ],
   "source": [
    "df['Critic_Count'].skew()"
   ]
  },
  {
   "cell_type": "code",
   "execution_count": 18,
   "id": "77191330-1d86-46e7-95bf-7c7fd8e94b87",
   "metadata": {},
   "outputs": [
    {
     "data": {
      "text/plain": [
       "9.033248924876531"
      ]
     },
     "execution_count": 18,
     "metadata": {},
     "output_type": "execute_result"
    }
   ],
   "source": [
    "df['User_Count'].skew()"
   ]
  },
  {
   "attachments": {
    "ee7b2e3c-ffb4-40e9-9c09-3b0f972c4784.png": {
     "image/png": "[encoded data removed]"
    }
   },
   "cell_type": "markdown",
   "id": "d17b8f84-8bbf-427a-a56e-f155ec15bf32",
   "metadata": {},
   "source": [
    "After checking the skewness it can be affirmed that:\n",
    "\n",
    "- Critic_Score is negatively skewed \n",
    "- Critic_Count is positively skewed\n",
    "- User_Count is high positively skewed. \n",
    "\n",
    "Which means: \n",
    "\n",
    "- Positively Skewed: the value distribution is greater than 0 \n",
    "- Negatively: the distribution skewed is less than zero \n",
    "\n",
    "This information is important to understand that these variable needs to be fillewd with the Median which is the middle value un the dataset repressenting the central tendency. Due that the features are skewed using the mean will results in not gaving the proper filling:\n",
    "\n",
    "![sk1.png](attachment:ee7b2e3c-ffb4-40e9-9c09-3b0f972c4784.png)\n",
    "*(Sharma)\n",
    "\n",
    "The Median is the middle value of the dataset and it is not affected by outliers \n"
   ]
  },
  {
   "cell_type": "code",
   "execution_count": 19,
   "id": "198bc171",
   "metadata": {},
   "outputs": [],
   "source": [
    "numerical_column=['Critic_Score', 'Critic_Count', 'User_Count']"
   ]
  },
  {
   "cell_type": "code",
   "execution_count": 20,
   "id": "c42fdb88",
   "metadata": {},
   "outputs": [
    {
     "name": "stderr",
     "output_type": "stream",
     "text": [
      "C:\\Users\\cristinap\\AppData\\Local\\Temp\\ipykernel_18084\\952742017.py:2: FutureWarning: A value is trying to be set on a copy of a DataFrame or Series through chained assignment using an inplace method.\n",
      "The behavior will change in pandas 3.0. This inplace method will never work because the intermediate object on which we are setting values always behaves as a copy.\n",
      "\n",
      "For example, when doing 'df[col].method(value, inplace=True)', try using 'df.method({col: value}, inplace=True)' or df[col] = df[col].method(value) instead, to perform the operation inplace on the original object.\n",
      "\n",
      "\n",
      "  df[column].fillna(df[column].median(), inplace=True)\n"
     ]
    }
   ],
   "source": [
    "for column  in numerical_column:\n",
    "    df[column].fillna(df[column].median(), inplace=True)"
   ]
  },
  {
   "cell_type": "code",
   "execution_count": 21,
   "id": "c3d98b21",
   "metadata": {},
   "outputs": [
    {
     "data": {
      "text/plain": [
       "Name                  2\n",
       "Platform              0\n",
       "Year_of_Release     269\n",
       "Genre                 2\n",
       "Publisher            54\n",
       "NA_Sales              0\n",
       "EU_Sales              0\n",
       "JP_Sales              0\n",
       "Other_Sales           0\n",
       "Global_Sales          0\n",
       "Critic_Score          0\n",
       "Critic_Count          0\n",
       "User_Score         6704\n",
       "User_Count            0\n",
       "Developer          6623\n",
       "Rating             6769\n",
       "dtype: int64"
      ]
     },
     "execution_count": 21,
     "metadata": {},
     "output_type": "execute_result"
    }
   ],
   "source": [
    "df.isnull().sum()"
   ]
  },
  {
   "cell_type": "markdown",
   "id": "969ba9dc",
   "metadata": {},
   "source": [
    "Checking the variable \" Years_of_release\" it will be noticed that it is negatively skewed. Althought instead of the median it will be filled with the mode. Due that Years of release referes to actual data filling with the mediam doesn't seems appropriate due that it is not needed to have the middle value of the data althoutd speaking of years it is more appropriate to fill with the number that most ossurs  in the dataset: the mode "
   ]
  },
  {
   "cell_type": "code",
   "execution_count": 22,
   "id": "38659fa4-92c0-47c0-9bfc-95188c33d03a",
   "metadata": {},
   "outputs": [
    {
     "data": {
      "text/plain": [
       "-0.9731508298532474"
      ]
     },
     "execution_count": 22,
     "metadata": {},
     "output_type": "execute_result"
    }
   ],
   "source": [
    "df['Year_of_Release'].skew()"
   ]
  },
  {
   "cell_type": "code",
   "execution_count": 25,
   "id": "a77d339a-f8fb-46c6-bf09-4d8576dd5ce6",
   "metadata": {},
   "outputs": [],
   "source": [
    "most_frequent_year = df['Year_of_Release'].mode()[0]  # Get the mode\n",
    "df['Year_of_Release'] = df['Year_of_Release'].fillna(most_frequent_year)  # Fill with mode"
   ]
  },
  {
   "cell_type": "code",
   "execution_count": 26,
   "id": "09d87f6c",
   "metadata": {},
   "outputs": [
    {
     "data": {
      "text/plain": [
       "Name                  2\n",
       "Platform              0\n",
       "Year_of_Release       0\n",
       "Genre                 2\n",
       "Publisher            54\n",
       "NA_Sales              0\n",
       "EU_Sales              0\n",
       "JP_Sales              0\n",
       "Other_Sales           0\n",
       "Global_Sales          0\n",
       "Critic_Score          0\n",
       "Critic_Count          0\n",
       "User_Score         6704\n",
       "User_Count            0\n",
       "Developer          6623\n",
       "Rating             6769\n",
       "dtype: int64"
      ]
     },
     "execution_count": 26,
     "metadata": {},
     "output_type": "execute_result"
    }
   ],
   "source": [
    "df.isnull().sum()"
   ]
  },
  {
   "cell_type": "markdown",
   "id": "dc36f978",
   "metadata": {},
   "source": [
    "Object features missing variable. Due to the nature of visualization it has been avoided encode the variable to be filled after with the median the mode or the mean but it will be used \"Unknown\" so it will be noticed in the visualization. it has been avoided the dropna function due to the amount of missin variables "
   ]
  },
  {
   "cell_type": "code",
   "execution_count": 27,
   "id": "b60d3e53",
   "metadata": {},
   "outputs": [
    {
     "data": {
      "text/plain": [
       "Name                  2\n",
       "Platform              0\n",
       "Year_of_Release       0\n",
       "Genre                 2\n",
       "Publisher            54\n",
       "NA_Sales              0\n",
       "EU_Sales              0\n",
       "JP_Sales              0\n",
       "Other_Sales           0\n",
       "Global_Sales          0\n",
       "Critic_Score          0\n",
       "Critic_Count          0\n",
       "User_Score         6704\n",
       "User_Count            0\n",
       "Developer          6623\n",
       "Rating             6769\n",
       "dtype: int64"
      ]
     },
     "execution_count": 27,
     "metadata": {},
     "output_type": "execute_result"
    }
   ],
   "source": [
    "df.isnull().sum()"
   ]
  },
  {
   "cell_type": "markdown",
   "id": "0f29e7af-922a-43ce-bfe8-d18dd740365d",
   "metadata": {},
   "source": [
    "**Handling missing variables in categorical features:**\n",
    "when it comes to deal with categorical data normally missing variable are transformed into categorical maintaining the pattern inside the data and after handled as categorical. Due to the nature of the domain and the final aim of this that is reporting visualization and clear a concize analysis about the sales for videogames the choise do don't label encode the categorical variable has been taken.\n",
    "\n",
    "As workaround the missing variable are filled with the value \"Unknown\" \n",
    "\n",
    "    \n"
   ]
  },
  {
   "cell_type": "code",
   "execution_count": null,
   "id": "b42727ec",
   "metadata": {},
   "outputs": [],
   "source": [
    "categorical_columns = ['Name','Genre', 'Publisher', 'Developer', 'Rating']"
   ]
  },
  {
   "cell_type": "code",
   "execution_count": null,
   "id": "64ecf004",
   "metadata": {},
   "outputs": [],
   "source": [
    "for column in categorical_columns:\n",
    "    df[column].fillna('Unknown', inplace=True)"
   ]
  },
  {
   "cell_type": "markdown",
   "id": "91c73c6b",
   "metadata": {},
   "source": [
    "Handling User Score due analyzing it has numerical variable but as a type it is an object. To do so before \"User Score\" Obeservation are analized: "
   ]
  },
  {
   "cell_type": "code",
   "execution_count": null,
   "id": "935ec9b5",
   "metadata": {},
   "outputs": [],
   "source": [
    "df['User_Score'].unique()"
   ]
  },
  {
   "cell_type": "code",
   "execution_count": null,
   "id": "002f47d9",
   "metadata": {},
   "outputs": [],
   "source": [
    "df['User_Score'].replace('tbd', pd.NA, inplace=True)"
   ]
  },
  {
   "cell_type": "code",
   "execution_count": null,
   "id": "229e50e8",
   "metadata": {},
   "outputs": [],
   "source": [
    "df['User_Score'] = pd.to_numeric(df['User_Score'], errors='coerce')"
   ]
  },
  {
   "cell_type": "code",
   "execution_count": null,
   "id": "eba0bbbd",
   "metadata": {},
   "outputs": [],
   "source": [
    "mean_value = df['User_Score'].mean()"
   ]
  },
  {
   "cell_type": "code",
   "execution_count": null,
   "id": "ef6c2d7b",
   "metadata": {},
   "outputs": [],
   "source": [
    "df['User_Score'].fillna(mean_value, inplace=True)"
   ]
  },
  {
   "cell_type": "markdown",
   "id": "71f39efe",
   "metadata": {},
   "source": [
    "Change Object into Float:"
   ]
  },
  {
   "cell_type": "code",
   "execution_count": null,
   "id": "82d10656",
   "metadata": {},
   "outputs": [],
   "source": [
    "df['User_Score']=df['User_Score'].astype(float)"
   ]
  },
  {
   "cell_type": "code",
   "execution_count": null,
   "id": "d1ce14c1",
   "metadata": {},
   "outputs": [],
   "source": [
    "unique_user_scores = df[\"User_Score\"].unique()\n",
    "print(unique_user_scores)"
   ]
  },
  {
   "cell_type": "markdown",
   "id": "eff52590",
   "metadata": {},
   "source": [
    "Checking if some missing variable are left: "
   ]
  },
  {
   "cell_type": "code",
   "execution_count": null,
   "id": "90254569",
   "metadata": {},
   "outputs": [],
   "source": [
    "df.isnull().sum()"
   ]
  },
  {
   "cell_type": "code",
   "execution_count": null,
   "id": "d70d4ae9",
   "metadata": {},
   "outputs": [],
   "source": [
    "df.head()"
   ]
  },
  {
   "cell_type": "code",
   "execution_count": null,
   "id": "e6a3b244",
   "metadata": {},
   "outputs": [],
   "source": [
    "df.dtypes"
   ]
  },
  {
   "cell_type": "markdown",
   "id": "94471ff1",
   "metadata": {},
   "source": [
    "It is important now to consider that some of the variables that are float should be integers. like years of release, critic score critic count and user count "
   ]
  },
  {
   "cell_type": "markdown",
   "id": "09e25d26",
   "metadata": {},
   "source": [
    "# Change float into Integers: "
   ]
  },
  {
   "cell_type": "code",
   "execution_count": null,
   "id": "1d3b2d77",
   "metadata": {},
   "outputs": [],
   "source": [
    "df['Year_of_Release'] = df['Year_of_Release'].apply(np.int64)\n",
    "df['Critic_Score'] = df['Critic_Score'].apply(np.int64)\n",
    "df['Critic_Count'] = df['Critic_Count'].apply(np.int64)\n",
    "df['User_Count'] = df['User_Count'].apply(np.int64)\n",
    "df['User_Score'] = df['User_Score'].apply(np.int64)"
   ]
  },
  {
   "cell_type": "code",
   "execution_count": null,
   "id": "a6e8c91b",
   "metadata": {},
   "outputs": [],
   "source": [
    "df.dtypes"
   ]
  },
  {
   "cell_type": "code",
   "execution_count": null,
   "id": "dd25a6a9",
   "metadata": {
    "scrolled": true
   },
   "outputs": [],
   "source": [
    "df.head()"
   ]
  },
  {
   "cell_type": "markdown",
   "id": "0cff4f9c",
   "metadata": {},
   "source": [
    "PART 1: Answering questions"
   ]
  },
  {
   "cell_type": "markdown",
   "id": "1f203640",
   "metadata": {},
   "source": [
    "# What are the top 5 games by global sales?"
   ]
  },
  {
   "cell_type": "markdown",
   "id": "d07b831d",
   "metadata": {},
   "source": [
    "The dataset will be reduced for the global sales that have more value than 30. The reason behind is to optimize the running of the karnel and start reducing the dataset to see the information needed"
   ]
  },
  {
   "cell_type": "code",
   "execution_count": null,
   "id": "a598f5f9",
   "metadata": {},
   "outputs": [],
   "source": [
    "GlobalSales_df=df.loc[df[\"Global_Sales\"]>30]"
   ]
  },
  {
   "cell_type": "code",
   "execution_count": null,
   "id": "fd1f662c",
   "metadata": {},
   "outputs": [],
   "source": [
    "GlobalSales_df.head(5)"
   ]
  },
  {
   "cell_type": "code",
   "execution_count": null,
   "id": "2d619cd4",
   "metadata": {},
   "outputs": [],
   "source": [
    "from numpy import mean\n",
    "sns.barplot(data=GlobalSales_df, x=\"Global_Sales\", y=\"Name\", color=\"blue\", estimator=mean );\n",
    "plt.title(\"Top Games by Global Sales\")\n",
    "plt.show"
   ]
  },
  {
   "cell_type": "markdown",
   "id": "5add9981",
   "metadata": {},
   "source": [
    "# Is there a correlation between the “na_sales” and “jp_sales” for the years 2010-2014?  "
   ]
  },
  {
   "cell_type": "markdown",
   "id": "0b95f5c4",
   "metadata": {},
   "source": [
    "The correlation is the Comparison between observations represented by two variables (in this case NA_sales and jp_sales) to determine if they tend to move in the same or opposite directions.To show this it is used a scatterplot. A scatterplot shows the relationshop between the variables where everydots reppresent an observation: \n"
   ]
  },
  {
   "cell_type": "code",
   "execution_count": null,
   "id": "d725e125",
   "metadata": {},
   "outputs": [],
   "source": [
    "Specific_Years = [2010,2011,2012,2013,2014]\n",
    "df_years = df[df['Year_of_Release'].isin(Specific_Years)]\n",
    "plt.figure(figsize=(9,5))\n",
    "sns.scatterplot(data=df_years, x='NA_Sales', y='JP_Sales', alpha=0.7, hue='Year_of_Release');"
   ]
  },
  {
   "cell_type": "markdown",
   "id": "e6dbabb9",
   "metadata": {},
   "source": [
    "based on the scatterplot results don't show correlation between the sales for these specific years. It is important to consider that the lack of correletation not necessary means the lack of causation. "
   ]
  },
  {
   "cell_type": "markdown",
   "id": "32d0e716",
   "metadata": {},
   "source": [
    "# What is the distribution of the most popular 4 game genres?  "
   ]
  },
  {
   "cell_type": "markdown",
   "id": "ab4e72c2",
   "metadata": {},
   "source": [
    "histogram is the most useful visualization for distribution "
   ]
  },
  {
   "cell_type": "code",
   "execution_count": null,
   "id": "e8222532",
   "metadata": {
    "scrolled": true
   },
   "outputs": [],
   "source": [
    "df.head()"
   ]
  },
  {
   "cell_type": "code",
   "execution_count": null,
   "id": "652f574f",
   "metadata": {},
   "outputs": [],
   "source": [
    "plt.figure(figsize=(20, 10))\n",
    "sns.histplot(df[\"Genre\"]);\n",
    "plt.title('Distribution of Genre')\n",
    "plt.grid(True)\n",
    "plt.show()"
   ]
  },
  {
   "cell_type": "code",
   "execution_count": null,
   "id": "7a2ef2bb",
   "metadata": {},
   "outputs": [],
   "source": [
    "genre_counts = df['Genre'].value_counts().nlargest(4)\n",
    "top_genres = genre_counts.index.to_list()"
   ]
  },
  {
   "cell_type": "code",
   "execution_count": null,
   "id": "4784ee1d",
   "metadata": {},
   "outputs": [],
   "source": [
    "top_genres"
   ]
  },
  {
   "cell_type": "markdown",
   "id": "2bbb3266",
   "metadata": {},
   "source": [
    "# Do older games (2005 and earlier) have a higher MEAN “eu_sales” than newer games (after 2005)?  "
   ]
  },
  {
   "cell_type": "markdown",
   "id": "06d54e4a",
   "metadata": {},
   "source": [
    "To show and obtain the mean Boxplot are the visualization that we need to use "
   ]
  },
  {
   "cell_type": "code",
   "execution_count": null,
   "id": "ce06f1c4",
   "metadata": {},
   "outputs": [],
   "source": [
    "Oldergames_df=df.loc[df[\"Year_of_Release\"]<=2005]"
   ]
  },
  {
   "cell_type": "code",
   "execution_count": null,
   "id": "ecfdeff0",
   "metadata": {},
   "outputs": [],
   "source": [
    "Oldergames_df.head(100)"
   ]
  },
  {
   "cell_type": "code",
   "execution_count": null,
   "id": "38ad27c0",
   "metadata": {},
   "outputs": [],
   "source": [
    "Newergames_df=df.loc[df[\"Year_of_Release\"]>2005]"
   ]
  },
  {
   "cell_type": "code",
   "execution_count": null,
   "id": "20fa3cb2",
   "metadata": {},
   "outputs": [],
   "source": [
    "Newergames_df.head()"
   ]
  },
  {
   "cell_type": "code",
   "execution_count": null,
   "id": "c0a06684",
   "metadata": {},
   "outputs": [],
   "source": [
    "Oldergames_mean= Oldergames_df['EU_Sales'].mean()\n",
    "Newergames_mean= Newergames_df['EU_Sales'].mean()\n",
    "print(Oldergames_mean)\n",
    "print(Newergames_mean)"
   ]
  },
  {
   "cell_type": "markdown",
   "id": "994a8b22",
   "metadata": {},
   "source": [
    "For EU sales Data the means to be calculating aggregating the data by years"
   ]
  },
  {
   "cell_type": "code",
   "execution_count": null,
   "id": "031d47c4",
   "metadata": {},
   "outputs": [],
   "source": [
    "older_sales_by_year = Oldergames_df.groupby('Year_of_Release')['EU_Sales'].mean().reset_index()\n",
    "newer_sales_by_year = Newergames_df.groupby('Year_of_Release')['EU_Sales'].mean().reset_index()"
   ]
  },
  {
   "cell_type": "markdown",
   "id": "90ae6168",
   "metadata": {},
   "source": [
    "Now using a barplot to show the mean for both new datasets for older and newer games: "
   ]
  },
  {
   "cell_type": "code",
   "execution_count": null,
   "id": "4f017a3b",
   "metadata": {},
   "outputs": [],
   "source": [
    "\n",
    "sns.barplot(data=older_sales_by_year, x=\"Year_of_Release\", y=\"EU_Sales\")\n",
    "plt.title('Mean EU Sales for Older Games (<= 2005)')\n",
    "plt.xlabel('Year of Release')\n",
    "plt.ylabel('Mean EU Sales')\n",
    "plt.xticks(rotation=45)\n",
    "plt.show()\n",
    "sns.barplot(data=newer_sales_by_year, x=\"Year_of_Release\", y=\"EU_Sales\")\n",
    "plt.title('Mean EU Sales for Newer Games (> 2005)')\n",
    "plt.xlabel('Year of Release')\n",
    "plt.ylabel('Mean EU Sales')\n",
    "plt.xticks(rotation=45)\n",
    "plt.show()"
   ]
  },
  {
   "cell_type": "markdown",
   "id": "28b33de1",
   "metadata": {},
   "source": [
    "# What are the 3 most common “developer” in the dataset?  "
   ]
  },
  {
   "cell_type": "code",
   "execution_count": null,
   "id": "77d4ffbe-8e68-42e2-a7d1-a127d60a4089",
   "metadata": {},
   "outputs": [],
   "source": [
    "df[\"Developer\"].unique"
   ]
  },
  {
   "cell_type": "code",
   "execution_count": null,
   "id": "df084a12-f056-419f-904f-3515e5a3a2f2",
   "metadata": {},
   "outputs": [],
   "source": [
    "developer_counts = df[\"Developer\"].value_counts().sort_values(ascending=False)\n",
    "print(developer_counts)"
   ]
  },
  {
   "cell_type": "code",
   "execution_count": null,
   "id": "8fac2c94-c8a6-4f96-bc3e-7e1225094ab4",
   "metadata": {},
   "outputs": [],
   "source": [
    "most_common_developers = df[df[\"Developer\"].isin(developer_counts[developer_counts <1000].index)]"
   ]
  },
  {
   "cell_type": "code",
   "execution_count": null,
   "id": "3c5fc734-8853-4229-827b-b4efbe8e6c3d",
   "metadata": {},
   "outputs": [],
   "source": [
    "Developer_counts = most_common_developers['Developer'].value_counts().nlargest(3)\n",
    "top_Developer_counts = Developer_counts.index.to_list()\n",
    "top_Developer_counts"
   ]
  },
  {
   "cell_type": "code",
   "execution_count": null,
   "id": "2e3a203e-3182-4b82-b03c-3f58eb2494ac",
   "metadata": {},
   "outputs": [],
   "source": [
    "plt.figure(figsize=(12, 6))\n",
    "sns.barplot(x=top_Developer_counts, y=Developer_counts.values)\n",
    "plt.title('Top 3 Developers in Dataset')\n",
    "plt.xlabel('Developer')\n",
    "plt.ylabel('Count')\n",
    "plt.grid(True)\n",
    "plt.xticks(rotation=45)\n",
    "plt.show()"
   ]
  },
  {
   "cell_type": "markdown",
   "id": "a438e087",
   "metadata": {},
   "source": [
    "# Part 2: "
   ]
  },
  {
   "cell_type": "markdown",
   "id": "d9903803",
   "metadata": {},
   "source": [
    "From where was the most amount of sales? EU_Sales? NA_Sales or JP_Sales on Global Sales? "
   ]
  },
  {
   "cell_type": "code",
   "execution_count": null,
   "id": "f65255af",
   "metadata": {},
   "outputs": [],
   "source": [
    "total_eu_sales = df[\"EU_Sales\"].sum()\n",
    "total_na_sales = df[\"NA_Sales\"].sum()\n",
    "total_jp_sales = df[\"JP_Sales\"].sum()\n",
    "total_other_sales=df[\"Other_Sales\"].sum()\n",
    "print(f\"Total EU Sales: {total_eu_sales}\")\n",
    "print(f\"Total NA Sales: {total_na_sales}\")\n",
    "print(f\"Total JP Sales: {total_jp_sales}\")\n",
    "print(f\"Total other sales: {total_other_sales}\")"
   ]
  },
  {
   "cell_type": "code",
   "execution_count": null,
   "id": "e3b77588",
   "metadata": {},
   "outputs": [],
   "source": [
    "sales_data = pd.DataFrame({\n",
    "    'Region': ['EU', 'NA', 'JP', 'Other'],\n",
    "    'Total Sales': [total_eu_sales, total_na_sales, total_jp_sales, total_other_sales]\n",
    "})"
   ]
  },
  {
   "cell_type": "code",
   "execution_count": null,
   "id": "8e244881",
   "metadata": {},
   "outputs": [],
   "source": [
    "plt.figure(figsize=(10, 6))\n",
    "sns.barplot(data=sales_data, x='Region', y='Total Sales')\n",
    "plt.xlabel('Region')\n",
    "plt.ylabel('Total Sales')\n",
    "plt.title(\"Sales by Region\")\n",
    "plt.legend(labels=['EU:European','NA: North America', 'JP:Japan',\"other: Other Countries not included before\"], loc='upper right')\n",
    "plt.show()"
   ]
  },
  {
   "cell_type": "markdown",
   "id": "2423c474",
   "metadata": {},
   "source": [
    "lineplot?"
   ]
  },
  {
   "cell_type": "code",
   "execution_count": null,
   "id": "7812e6e2",
   "metadata": {},
   "outputs": [],
   "source": [
    "plt.figure(figsize=(10, 6))\n",
    "sns.lineplot(data=sales_data, x='Region', y='Total Sales')\n",
    "plt.xlabel('Region')\n",
    "plt.ylabel('Total Sales')\n",
    "plt.title(\"Sales by Region\")\n",
    "plt.legend(labels=['EU:European','NA: North America', 'JP:Japan',\"other: Other Countries not included before\"], loc='upper right')\n",
    "plt.show()"
   ]
  },
  {
   "cell_type": "markdown",
   "id": "cbfb48cd",
   "metadata": {},
   "source": [
    "Does some genre have better sales in a specific region? "
   ]
  },
  {
   "cell_type": "code",
   "execution_count": null,
   "id": "337c51aa-1e6d-4466-8771-c68026e35b34",
   "metadata": {},
   "outputs": [],
   "source": []
  },
  {
   "cell_type": "code",
   "execution_count": null,
   "id": "b413c6d5",
   "metadata": {},
   "outputs": [],
   "source": [
    "genre_sales = df.groupby('Genre')[['EU_Sales', 'NA_Sales', 'JP_Sales', 'Other_Sales']].sum().reset_index()\n",
    "\n",
    "# Melt the DataFrame to have 'Genre' as a column and 'Region' as another column\n",
    "genre_sales_melted = genre_sales.melt(id_vars='Genre', var_name='Region', value_name='Total_Sales')\n",
    "\n",
    "# Create a grouped bar plot\n",
    "plt.figure(figsize=(12, 6))\n",
    "sns.barplot(data=genre_sales_melted, x='Genre', y='Total_Sales', hue='Region', palette='viridis')\n",
    "plt.xlabel('Genre')\n",
    "plt.ylabel('Total Sales')\n",
    "plt.title('Total Sales of Each Genre in Each Region')\n",
    "plt.legend(title='Region', loc='upper right')\n",
    "plt.xticks(rotation=45)\n",
    "plt.tight_layout()\n",
    "plt.show()"
   ]
  },
  {
   "cell_type": "markdown",
   "id": "5e67e5c6",
   "metadata": {},
   "source": [
    "what is the distribution of age rating into the global sales? "
   ]
  },
  {
   "cell_type": "code",
   "execution_count": null,
   "id": "74543501",
   "metadata": {},
   "outputs": [],
   "source": [
    "plt.figure(figsize=(10, 6))\n",
    "sns.boxplot(data=df, x='Rating', y='Global_Sales')\n",
    "plt.xlabel('Age Rating')\n",
    "plt.ylabel('Global Sales')\n",
    "plt.title('Distribution of Age Ratings in Relation to Global Sales')\n",
    "plt.show()"
   ]
  },
  {
   "cell_type": "markdown",
   "id": "482886e5-30eb-4752-a4c1-5941e3c201d3",
   "metadata": {},
   "source": [
    "What is the most common Publisher? "
   ]
  },
  {
   "cell_type": "code",
   "execution_count": null,
   "id": "67b6e0a4-a825-4e75-8179-a01c6e9c0608",
   "metadata": {},
   "outputs": [],
   "source": [
    "df[\"Publisher\"].unique"
   ]
  },
  {
   "cell_type": "code",
   "execution_count": null,
   "id": "c00eeaff-b2f0-42ca-9e1e-97ed2015ea9b",
   "metadata": {},
   "outputs": [],
   "source": [
    "publisher_counts = df[\"Publisher\"].value_counts().sort_values(ascending=False)\n",
    "print(publisher_counts)"
   ]
  },
  {
   "cell_type": "code",
   "execution_count": null,
   "id": "32481bb3-b255-4f81-ac38-9ede364ce222",
   "metadata": {},
   "outputs": [],
   "source": [
    "most_common_publisher= df[df[\"Publisher\"].isin(publisher_counts[publisher_counts > 900].index)]"
   ]
  },
  {
   "cell_type": "code",
   "execution_count": null,
   "id": "ff74129f-a587-455d-a6d3-2b42ea1c0aef",
   "metadata": {},
   "outputs": [],
   "source": [
    "plt.figure(figsize=(30, 15))\n",
    "sns.displot(most_common_publisher[\"Publisher\"]);\n",
    "plt.title('Most Commun Publisher in dataset')\n",
    "plt.grid(True)\n",
    "plt.xticks(rotation=45)\n",
    "plt.show()"
   ]
  },
  {
   "cell_type": "markdown",
   "id": "85c13679",
   "metadata": {},
   "source": [
    "what are the games that have the highest rate? "
   ]
  },
  {
   "cell_type": "code",
   "execution_count": null,
   "id": "ddcae9c8",
   "metadata": {},
   "outputs": [],
   "source": [
    "unique_user_scores = df[\"User_Score\"].unique()\n",
    "print(unique_user_scores)"
   ]
  },
  {
   "cell_type": "code",
   "execution_count": null,
   "id": "76acb47d",
   "metadata": {},
   "outputs": [],
   "source": [
    "from numpy import mean\n",
    "sns.barplot(data=df, x=\"Genre\", y=\"User_Score\", color=\"green\", estimator=mean );\n",
    "plt.title(\"Top Genre by User Score\")\n",
    "plt.xticks(rotation=45)\n",
    "plt.show"
   ]
  },
  {
   "cell_type": "markdown",
   "id": "8b766727",
   "metadata": {},
   "source": [
    "# References: "
   ]
  },
  {
   "cell_type": "markdown",
   "id": "c4e3b9f8",
   "metadata": {},
   "source": [
    "- Chia, Austin . “How to Make a Seaborn Histogram: A Detailed Guide.” Https://Www.datacamp.com/Tutorial/How-To-Make-a-Seaborn-Histogram, Austin Chia , Jan. 2024, www.datacamp.com/tutorial/how-to-make-a-seaborn-histogram. Accessed 24 Mar. 2024.\n",
    "- “How to Sum Columns with a Duplicate Name with Pandas?” Stack Overflow, stackoverflow.com/questions/61161241/how-to-sum-columns-with-a-duplicate-name-with-pandas. Accessed 24 Mar. 2024. \n",
    "- “Seaborn.barplot — Seaborn 0.11.1 Documentation.” Seaborn.pydata.org, seaborn.pydata.org/generated/seaborn.barplot.html.\n",
    "- “Matplotlib.pyplot.legend — Matplotlib 3.3.4 Documentation.” Matplotlib.org, matplotlib.org/stable/api/_as_gen/matplotlib.pyplot.legend.html.\n",
    "- “Pandas.DataFrame.shape — Pandas 2.2.1 Documentation.” Pandas.pydata.org, pandas.pydata.org/pandas-docs/stable/reference/api/pandas.DataFrame.shape.html#pandas.DataFrame.shape. Accessed 24 Mar. 2024.\n",
    "-  “How to Do Arrows in Markdown.” Reimbar.org, 7 Aug. 2019, reimbar.org/dev/arrows/.\n",
    "-  “How to Do Arrows in Markdown.” Reimbar.org, 7 Aug. 2019, reimbar.org/dev/arrows/.\n",
    "-  Sharma, Abhishek. “What Is Skewness in Statistics? | Statistics for Data Science.” Analytics Vidhya, 5 July 2020, www.analyticsvidhya.com/blog/2020/07/what-is-skewness-statistics/.\n",
    "-  Firdose, Tahera. “Filling Missing Values with Mean and Median.” Medium, 29 May 2023, tahera-firdose.medium.com/filling-missing-values-with-mean-and-median-76635d55c1bc."
   ]
  },
  {
   "cell_type": "code",
   "execution_count": null,
   "id": "9e2177db",
   "metadata": {},
   "outputs": [],
   "source": []
  }
 ],
 "metadata": {
  "kernelspec": {
   "display_name": "Python 3 (ipykernel)",
   "language": "python",
   "name": "python3"
  },
  "language_info": {
   "codemirror_mode": {
    "name": "ipython",
    "version": 3
   },
   "file_extension": ".py",
   "mimetype": "text/x-python",
   "name": "python",
   "nbconvert_exporter": "python",
   "pygments_lexer": "ipython3",
   "version": "3.11.5"
  }
 },
 "nbformat": 4,
 "nbformat_minor": 5
}

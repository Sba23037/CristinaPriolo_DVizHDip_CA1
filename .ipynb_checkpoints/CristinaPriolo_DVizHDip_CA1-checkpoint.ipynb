{
 "cells": [
  {
   "cell_type": "markdown",
   "id": "cd471109-3878-4c99-a703-c8e5d0e99452",
   "metadata": {},
   "source": [
    "## Cristina Priolo\n",
    "\n",
    "## SBA23037\n",
    "\n",
    "## Github link: https://github.com/Sba23037/CristinaPriolo_DVizHDip_CA1.git\n"
   ]
  },
  {
   "cell_type": "markdown",
   "id": "454504de-8e25-4f56-94e2-c556ae185d63",
   "metadata": {},
   "source": [
    "--------------------------------------------------------------------------------------------------------\n",
    "--------------------------------------------------------------------------------------------------------"
   ]
  },
  {
   "cell_type": "markdown",
   "id": "24e452f7",
   "metadata": {},
   "source": [
    "# Introduction: "
   ]
  },
  {
   "cell_type": "markdown",
   "id": "5ff56e0e-0eec-4367-b616-4f4d730d993e",
   "metadata": {},
   "source": [
    "--------------------------------------------------------------------------------------------------------\n",
    "--------------------------------------------------------------------------------------------------------"
   ]
  },
  {
   "cell_type": "markdown",
   "id": "699811ea",
   "metadata": {},
   "source": [
    "In the domain of the retail company of videogames the dataset \"vgsales\" is going to be analyzed to determine sales strategy for the coming winter season. In the following notebook, it will be covered the following aspects:\r\n",
    "\r\n",
    "- **Analyzing the dataset**\r\n",
    "-  **EDA:**\r\n",
    "\r\n",
    "&rarr; Checking the dataset in its whole:\r\n",
    "> - *type of variables*\r\n",
    "> \r\n",
    "> - *Duplicates*\r\n",
    "> \r\n",
    "> - *Missing Varirysis\n",
    "  d the discoverianalysisnalysision.**\n",
    "   "
   ]
  },
  {
   "cell_type": "markdown",
   "id": "2b581892-999a-4743-9590-c8ca42245870",
   "metadata": {},
   "source": [
    " &rarr; Handling the missing variables\n",
    "- **Part 1:** Answering questions to have a better overview of the domain of videogames\n",
    "  >- What are the top 5 games by global sales?  \n",
    "  >- \tIs there a correlation between the “na_sales” and “jp_sales” for the years 2010-2014?\n",
    "  >- What is the distribution of the most popular 4 game genres?   \n",
    "  >- Do older games (2005 and earlier) have a higher MEAN “eu_sales” than newer games (after 2005)?\n",
    "  >- What are the 3 most common “developers” in the dataset?\n",
    "\t"
   ]
  },
  {
   "cell_type": "markdown",
   "id": "df442f20-3cdb-470a-9b2b-2ebcf2148840",
   "metadata": {},
   "source": [
    "- **Part 2:** Exploring Statistically relevant questions on the dataset:\n",
    "\n",
    "  >- Does some genre have better sales in a specific region?\n",
    "  >- From where was the most amount of sales? EU_Sales? NA_Sales or JP_Sales on Global Sales?\n",
    "  >- What is the most common Publisher?"
   ]
  },
  {
   "cell_type": "markdown",
   "id": "5f0eb02e-43dd-41ea-ba3c-c930775e0f44",
   "metadata": {},
   "source": [
    "- **Conclusion:**\n",
    "\n",
    "In this section could be found the discoveries of the analysis."
   ]
  },
  {
   "cell_type": "markdown",
   "id": "efcc9afc-01ab-4e79-a40d-b3709a00f7e5",
   "metadata": {},
   "source": [
    "--------------------------------------------------------------------------------------------------------"
   ]
  },
  {
   "cell_type": "code",
   "execution_count": 1,
   "id": "f0d6f97d",
   "metadata": {},
   "outputs": [],
   "source": [
    "import pandas as pd\n",
    "%matplotlib inline\n",
    "import numpy as np\n",
    "import matplotlib.pyplot as plt\n",
    "import seaborn as sns\n",
    "sns.set()"
   ]
  },
  {
   "cell_type": "code",
   "execution_count": 2,
   "id": "d995f6f6",
   "metadata": {},
   "outputs": [],
   "source": [
    "df=pd.read_csv(\"vgsales.csv\")"
   ]
  },
  {
   "cell_type": "markdown",
   "id": "4c7e076e-2a4e-4159-8411-636442fb3942",
   "metadata": {},
   "source": [
    "To begin understanding the dataset and see the dimensionality, the function .shape comes into play to provide the reader with an understanding of the dataset that will be analyzed."
   ]
  },
  {
   "cell_type": "code",
   "execution_count": 3,
   "id": "3d467f6d",
   "metadata": {},
   "outputs": [
    {
     "data": {
      "text/plain": [
       "(16719, 16)"
      ]
     },
     "execution_count": 3,
     "metadata": {},
     "output_type": "execute_result"
    }
   ],
   "source": [
    "df.shape"
   ]
  },
  {
   "cell_type": "markdown",
   "id": "bca1d671-7fcb-4052-b0d1-7599c2e635fb",
   "metadata": {},
   "source": [
    "The provided dataset has: \n",
    "- 16 features\n",
    "- 16719 Oberservation. "
   ]
  },
  {
   "cell_type": "code",
   "execution_count": 4,
   "id": "d6974bf3",
   "metadata": {},
   "outputs": [
    {
     "name": "stdout",
     "output_type": "stream",
     "text": [
      "<class 'pandas.core.frame.DataFrame'>\n",
      "RangeIndex: 16719 entries, 0 to 16718\n",
      "Data columns (total 16 columns):\n",
      " #   Column           Non-Null Count  Dtype  \n",
      "---  ------           --------------  -----  \n",
      " 0   Name             16717 non-null  object \n",
      " 1   Platform         16719 non-null  object \n",
      " 2   Year_of_Release  16450 non-null  float64\n",
      " 3   Genre            16717 non-null  object \n",
      " 4   Publisher        16665 non-null  object \n",
      " 5   NA_Sales         16719 non-null  float64\n",
      " 6   EU_Sales         16719 non-null  float64\n",
      " 7   JP_Sales         16719 non-null  float64\n",
      " 8   Other_Sales      16719 non-null  float64\n",
      " 9   Global_Sales     16719 non-null  float64\n",
      " 10  Critic_Score     8137 non-null   float64\n",
      " 11  Critic_Count     8137 non-null   float64\n",
      " 12  User_Score       10015 non-null  object \n",
      " 13  User_Count       7590 non-null   float64\n",
      " 14  Developer        10096 non-null  object \n",
      " 15  Rating           9950 non-null   object \n",
      "dtypes: float64(9), object(7)\n",
      "memory usage: 2.0+ MB\n"
     ]
    }
   ],
   "source": [
    "df.info()"
   ]
  },
  {
   "cell_type": "markdown",
   "id": "d7ff9825-de89-4e31-8c32-3473bef8c067",
   "metadata": {},
   "source": [
    "The function **\".info\"** gives a summary of the features that are present in the DataFrame, including the type and the non missing values in the column. This already shows that the dataset has floats and objects. It also gives the information that there are numerical variables that are floats, decimal numbers, and categorical variable objects. \n",
    "\n",
    "To gain  a better understanding of the object and float variables the following function comes to help:"
   ]
  },
  {
   "cell_type": "code",
   "execution_count": 5,
   "id": "db7a49ea",
   "metadata": {},
   "outputs": [
    {
     "data": {
      "text/html": [
       "<div>\n",
       "<style scoped>\n",
       "    .dataframe tbody tr th:only-of-type {\n",
       "        vertical-align: middle;\n",
       "    }\n",
       "\n",
       "    .dataframe tbody tr th {\n",
       "        vertical-align: top;\n",
       "    }\n",
       "\n",
       "    .dataframe thead th {\n",
       "        text-align: right;\n",
       "    }\n",
       "</style>\n",
       "<table border=\"1\" class=\"dataframe\">\n",
       "  <thead>\n",
       "    <tr style=\"text-align: right;\">\n",
       "      <th></th>\n",
       "      <th>Name</th>\n",
       "      <th>Platform</th>\n",
       "      <th>Genre</th>\n",
       "      <th>Publisher</th>\n",
       "      <th>User_Score</th>\n",
       "      <th>Developer</th>\n",
       "      <th>Rating</th>\n",
       "    </tr>\n",
       "  </thead>\n",
       "  <tbody>\n",
       "    <tr>\n",
       "      <th>count</th>\n",
       "      <td>16717</td>\n",
       "      <td>16719</td>\n",
       "      <td>16717</td>\n",
       "      <td>16665</td>\n",
       "      <td>10015</td>\n",
       "      <td>10096</td>\n",
       "      <td>9950</td>\n",
       "    </tr>\n",
       "    <tr>\n",
       "      <th>unique</th>\n",
       "      <td>11562</td>\n",
       "      <td>31</td>\n",
       "      <td>12</td>\n",
       "      <td>581</td>\n",
       "      <td>96</td>\n",
       "      <td>1696</td>\n",
       "      <td>8</td>\n",
       "    </tr>\n",
       "    <tr>\n",
       "      <th>top</th>\n",
       "      <td>Need for Speed: Most Wanted</td>\n",
       "      <td>PS2</td>\n",
       "      <td>Action</td>\n",
       "      <td>Electronic Arts</td>\n",
       "      <td>tbd</td>\n",
       "      <td>Ubisoft</td>\n",
       "      <td>E</td>\n",
       "    </tr>\n",
       "    <tr>\n",
       "      <th>freq</th>\n",
       "      <td>12</td>\n",
       "      <td>2161</td>\n",
       "      <td>3370</td>\n",
       "      <td>1356</td>\n",
       "      <td>2425</td>\n",
       "      <td>204</td>\n",
       "      <td>3991</td>\n",
       "    </tr>\n",
       "  </tbody>\n",
       "</table>\n",
       "</div>"
      ],
      "text/plain": [
       "                               Name Platform   Genre        Publisher  \\\n",
       "count                         16717    16719   16717            16665   \n",
       "unique                        11562       31      12              581   \n",
       "top     Need for Speed: Most Wanted      PS2  Action  Electronic Arts   \n",
       "freq                             12     2161    3370             1356   \n",
       "\n",
       "       User_Score Developer Rating  \n",
       "count       10015     10096   9950  \n",
       "unique         96      1696      8  \n",
       "top           tbd   Ubisoft      E  \n",
       "freq         2425       204   3991  "
      ]
     },
     "execution_count": 5,
     "metadata": {},
     "output_type": "execute_result"
    }
   ],
   "source": [
    "df.describe(include=object)"
   ]
  },
  {
   "cell_type": "code",
   "execution_count": 6,
   "id": "c769665e",
   "metadata": {},
   "outputs": [
    {
     "data": {
      "text/html": [
       "<div>\n",
       "<style scoped>\n",
       "    .dataframe tbody tr th:only-of-type {\n",
       "        vertical-align: middle;\n",
       "    }\n",
       "\n",
       "    .dataframe tbody tr th {\n",
       "        vertical-align: top;\n",
       "    }\n",
       "\n",
       "    .dataframe thead th {\n",
       "        text-align: right;\n",
       "    }\n",
       "</style>\n",
       "<table border=\"1\" class=\"dataframe\">\n",
       "  <thead>\n",
       "    <tr style=\"text-align: right;\">\n",
       "      <th></th>\n",
       "      <th>Year_of_Release</th>\n",
       "      <th>NA_Sales</th>\n",
       "      <th>EU_Sales</th>\n",
       "      <th>JP_Sales</th>\n",
       "      <th>Other_Sales</th>\n",
       "      <th>Global_Sales</th>\n",
       "      <th>Critic_Score</th>\n",
       "      <th>Critic_Count</th>\n",
       "      <th>User_Count</th>\n",
       "    </tr>\n",
       "  </thead>\n",
       "  <tbody>\n",
       "    <tr>\n",
       "      <th>count</th>\n",
       "      <td>16450.000000</td>\n",
       "      <td>16719.000000</td>\n",
       "      <td>16719.000000</td>\n",
       "      <td>16719.000000</td>\n",
       "      <td>16719.000000</td>\n",
       "      <td>16719.000000</td>\n",
       "      <td>8137.000000</td>\n",
       "      <td>8137.000000</td>\n",
       "      <td>7590.000000</td>\n",
       "    </tr>\n",
       "    <tr>\n",
       "      <th>mean</th>\n",
       "      <td>2006.487356</td>\n",
       "      <td>0.263330</td>\n",
       "      <td>0.145025</td>\n",
       "      <td>0.077602</td>\n",
       "      <td>0.047332</td>\n",
       "      <td>0.533543</td>\n",
       "      <td>68.967679</td>\n",
       "      <td>26.360821</td>\n",
       "      <td>162.229908</td>\n",
       "    </tr>\n",
       "    <tr>\n",
       "      <th>std</th>\n",
       "      <td>5.878995</td>\n",
       "      <td>0.813514</td>\n",
       "      <td>0.503283</td>\n",
       "      <td>0.308818</td>\n",
       "      <td>0.186710</td>\n",
       "      <td>1.547935</td>\n",
       "      <td>13.938165</td>\n",
       "      <td>18.980495</td>\n",
       "      <td>561.282326</td>\n",
       "    </tr>\n",
       "    <tr>\n",
       "      <th>min</th>\n",
       "      <td>1980.000000</td>\n",
       "      <td>0.000000</td>\n",
       "      <td>0.000000</td>\n",
       "      <td>0.000000</td>\n",
       "      <td>0.000000</td>\n",
       "      <td>0.010000</td>\n",
       "      <td>13.000000</td>\n",
       "      <td>3.000000</td>\n",
       "      <td>4.000000</td>\n",
       "    </tr>\n",
       "    <tr>\n",
       "      <th>25%</th>\n",
       "      <td>2003.000000</td>\n",
       "      <td>0.000000</td>\n",
       "      <td>0.000000</td>\n",
       "      <td>0.000000</td>\n",
       "      <td>0.000000</td>\n",
       "      <td>0.060000</td>\n",
       "      <td>60.000000</td>\n",
       "      <td>12.000000</td>\n",
       "      <td>10.000000</td>\n",
       "    </tr>\n",
       "    <tr>\n",
       "      <th>50%</th>\n",
       "      <td>2007.000000</td>\n",
       "      <td>0.080000</td>\n",
       "      <td>0.020000</td>\n",
       "      <td>0.000000</td>\n",
       "      <td>0.010000</td>\n",
       "      <td>0.170000</td>\n",
       "      <td>71.000000</td>\n",
       "      <td>21.000000</td>\n",
       "      <td>24.000000</td>\n",
       "    </tr>\n",
       "    <tr>\n",
       "      <th>75%</th>\n",
       "      <td>2010.000000</td>\n",
       "      <td>0.240000</td>\n",
       "      <td>0.110000</td>\n",
       "      <td>0.040000</td>\n",
       "      <td>0.030000</td>\n",
       "      <td>0.470000</td>\n",
       "      <td>79.000000</td>\n",
       "      <td>36.000000</td>\n",
       "      <td>81.000000</td>\n",
       "    </tr>\n",
       "    <tr>\n",
       "      <th>max</th>\n",
       "      <td>2020.000000</td>\n",
       "      <td>41.360000</td>\n",
       "      <td>28.960000</td>\n",
       "      <td>10.220000</td>\n",
       "      <td>10.570000</td>\n",
       "      <td>82.530000</td>\n",
       "      <td>98.000000</td>\n",
       "      <td>113.000000</td>\n",
       "      <td>10665.000000</td>\n",
       "    </tr>\n",
       "  </tbody>\n",
       "</table>\n",
       "</div>"
      ],
      "text/plain": [
       "       Year_of_Release      NA_Sales      EU_Sales      JP_Sales  \\\n",
       "count     16450.000000  16719.000000  16719.000000  16719.000000   \n",
       "mean       2006.487356      0.263330      0.145025      0.077602   \n",
       "std           5.878995      0.813514      0.503283      0.308818   \n",
       "min        1980.000000      0.000000      0.000000      0.000000   \n",
       "25%        2003.000000      0.000000      0.000000      0.000000   \n",
       "50%        2007.000000      0.080000      0.020000      0.000000   \n",
       "75%        2010.000000      0.240000      0.110000      0.040000   \n",
       "max        2020.000000     41.360000     28.960000     10.220000   \n",
       "\n",
       "        Other_Sales  Global_Sales  Critic_Score  Critic_Count    User_Count  \n",
       "count  16719.000000  16719.000000   8137.000000   8137.000000   7590.000000  \n",
       "mean       0.047332      0.533543     68.967679     26.360821    162.229908  \n",
       "std        0.186710      1.547935     13.938165     18.980495    561.282326  \n",
       "min        0.000000      0.010000     13.000000      3.000000      4.000000  \n",
       "25%        0.000000      0.060000     60.000000     12.000000     10.000000  \n",
       "50%        0.010000      0.170000     71.000000     21.000000     24.000000  \n",
       "75%        0.030000      0.470000     79.000000     36.000000     81.000000  \n",
       "max       10.570000     82.530000     98.000000    113.000000  10665.000000  "
      ]
     },
     "execution_count": 6,
     "metadata": {},
     "output_type": "execute_result"
    }
   ],
   "source": [
    "df.describe(include=float)"
   ]
  },
  {
   "cell_type": "markdown",
   "id": "24bd0b1a-b549-4036-9d73-46d8282fc61e",
   "metadata": {},
   "source": [
    "It can be noticed already that  **\"User_Score\"** seems to be a float but it is marketed as an object, where lots of the present observation  are **\"tbd\"** (To be determined). This already provides hints about the next steps to handle the variable. It gives a bit of a general overview over the dataset.\n",
    "In the domain of videogames on the provided data frame the most frequent Genre is Action for PS2 platform and developer Ubisoft. For the floats, we can already have an overview of the sales and the critic score over the games. \n",
    "\n",
    "The following will recap everything of the dataset: "
   ]
  },
  {
   "cell_type": "code",
   "execution_count": 7,
   "id": "2c61b483",
   "metadata": {
    "scrolled": true
   },
   "outputs": [
    {
     "name": "stdout",
     "output_type": "stream",
     "text": [
      "The data set has 16719 rows and 16 columns\n"
     ]
    },
    {
     "data": {
      "text/html": [
       "<div>\n",
       "<style scoped>\n",
       "    .dataframe tbody tr th:only-of-type {\n",
       "        vertical-align: middle;\n",
       "    }\n",
       "\n",
       "    .dataframe tbody tr th {\n",
       "        vertical-align: top;\n",
       "    }\n",
       "\n",
       "    .dataframe thead th {\n",
       "        text-align: right;\n",
       "    }\n",
       "</style>\n",
       "<table border=\"1\" class=\"dataframe\">\n",
       "  <thead>\n",
       "    <tr style=\"text-align: right;\">\n",
       "      <th></th>\n",
       "      <th>Year_of_Release</th>\n",
       "      <th>NA_Sales</th>\n",
       "      <th>EU_Sales</th>\n",
       "      <th>JP_Sales</th>\n",
       "      <th>Other_Sales</th>\n",
       "      <th>Global_Sales</th>\n",
       "      <th>Critic_Score</th>\n",
       "      <th>Critic_Count</th>\n",
       "      <th>User_Count</th>\n",
       "    </tr>\n",
       "  </thead>\n",
       "  <tbody>\n",
       "    <tr>\n",
       "      <th>count</th>\n",
       "      <td>16450.000000</td>\n",
       "      <td>16719.000000</td>\n",
       "      <td>16719.000000</td>\n",
       "      <td>16719.000000</td>\n",
       "      <td>16719.000000</td>\n",
       "      <td>16719.000000</td>\n",
       "      <td>8137.000000</td>\n",
       "      <td>8137.000000</td>\n",
       "      <td>7590.000000</td>\n",
       "    </tr>\n",
       "    <tr>\n",
       "      <th>mean</th>\n",
       "      <td>2006.487356</td>\n",
       "      <td>0.263330</td>\n",
       "      <td>0.145025</td>\n",
       "      <td>0.077602</td>\n",
       "      <td>0.047332</td>\n",
       "      <td>0.533543</td>\n",
       "      <td>68.967679</td>\n",
       "      <td>26.360821</td>\n",
       "      <td>162.229908</td>\n",
       "    </tr>\n",
       "    <tr>\n",
       "      <th>std</th>\n",
       "      <td>5.878995</td>\n",
       "      <td>0.813514</td>\n",
       "      <td>0.503283</td>\n",
       "      <td>0.308818</td>\n",
       "      <td>0.186710</td>\n",
       "      <td>1.547935</td>\n",
       "      <td>13.938165</td>\n",
       "      <td>18.980495</td>\n",
       "      <td>561.282326</td>\n",
       "    </tr>\n",
       "    <tr>\n",
       "      <th>min</th>\n",
       "      <td>1980.000000</td>\n",
       "      <td>0.000000</td>\n",
       "      <td>0.000000</td>\n",
       "      <td>0.000000</td>\n",
       "      <td>0.000000</td>\n",
       "      <td>0.010000</td>\n",
       "      <td>13.000000</td>\n",
       "      <td>3.000000</td>\n",
       "      <td>4.000000</td>\n",
       "    </tr>\n",
       "    <tr>\n",
       "      <th>25%</th>\n",
       "      <td>2003.000000</td>\n",
       "      <td>0.000000</td>\n",
       "      <td>0.000000</td>\n",
       "      <td>0.000000</td>\n",
       "      <td>0.000000</td>\n",
       "      <td>0.060000</td>\n",
       "      <td>60.000000</td>\n",
       "      <td>12.000000</td>\n",
       "      <td>10.000000</td>\n",
       "    </tr>\n",
       "    <tr>\n",
       "      <th>50%</th>\n",
       "      <td>2007.000000</td>\n",
       "      <td>0.080000</td>\n",
       "      <td>0.020000</td>\n",
       "      <td>0.000000</td>\n",
       "      <td>0.010000</td>\n",
       "      <td>0.170000</td>\n",
       "      <td>71.000000</td>\n",
       "      <td>21.000000</td>\n",
       "      <td>24.000000</td>\n",
       "    </tr>\n",
       "    <tr>\n",
       "      <th>75%</th>\n",
       "      <td>2010.000000</td>\n",
       "      <td>0.240000</td>\n",
       "      <td>0.110000</td>\n",
       "      <td>0.040000</td>\n",
       "      <td>0.030000</td>\n",
       "      <td>0.470000</td>\n",
       "      <td>79.000000</td>\n",
       "      <td>36.000000</td>\n",
       "      <td>81.000000</td>\n",
       "    </tr>\n",
       "    <tr>\n",
       "      <th>max</th>\n",
       "      <td>2020.000000</td>\n",
       "      <td>41.360000</td>\n",
       "      <td>28.960000</td>\n",
       "      <td>10.220000</td>\n",
       "      <td>10.570000</td>\n",
       "      <td>82.530000</td>\n",
       "      <td>98.000000</td>\n",
       "      <td>113.000000</td>\n",
       "      <td>10665.000000</td>\n",
       "    </tr>\n",
       "  </tbody>\n",
       "</table>\n",
       "</div>"
      ],
      "text/plain": [
       "       Year_of_Release      NA_Sales      EU_Sales      JP_Sales  \\\n",
       "count     16450.000000  16719.000000  16719.000000  16719.000000   \n",
       "mean       2006.487356      0.263330      0.145025      0.077602   \n",
       "std           5.878995      0.813514      0.503283      0.308818   \n",
       "min        1980.000000      0.000000      0.000000      0.000000   \n",
       "25%        2003.000000      0.000000      0.000000      0.000000   \n",
       "50%        2007.000000      0.080000      0.020000      0.000000   \n",
       "75%        2010.000000      0.240000      0.110000      0.040000   \n",
       "max        2020.000000     41.360000     28.960000     10.220000   \n",
       "\n",
       "        Other_Sales  Global_Sales  Critic_Score  Critic_Count    User_Count  \n",
       "count  16719.000000  16719.000000   8137.000000   8137.000000   7590.000000  \n",
       "mean       0.047332      0.533543     68.967679     26.360821    162.229908  \n",
       "std        0.186710      1.547935     13.938165     18.980495    561.282326  \n",
       "min        0.000000      0.010000     13.000000      3.000000      4.000000  \n",
       "25%        0.000000      0.060000     60.000000     12.000000     10.000000  \n",
       "50%        0.010000      0.170000     71.000000     21.000000     24.000000  \n",
       "75%        0.030000      0.470000     79.000000     36.000000     81.000000  \n",
       "max       10.570000     82.530000     98.000000    113.000000  10665.000000  "
      ]
     },
     "metadata": {},
     "output_type": "display_data"
    },
    {
     "data": {
      "text/html": [
       "<div>\n",
       "<style scoped>\n",
       "    .dataframe tbody tr th:only-of-type {\n",
       "        vertical-align: middle;\n",
       "    }\n",
       "\n",
       "    .dataframe tbody tr th {\n",
       "        vertical-align: top;\n",
       "    }\n",
       "\n",
       "    .dataframe thead th {\n",
       "        text-align: right;\n",
       "    }\n",
       "</style>\n",
       "<table border=\"1\" class=\"dataframe\">\n",
       "  <thead>\n",
       "    <tr style=\"text-align: right;\">\n",
       "      <th></th>\n",
       "      <th>Name</th>\n",
       "      <th>Platform</th>\n",
       "      <th>Year_of_Release</th>\n",
       "      <th>Genre</th>\n",
       "      <th>Publisher</th>\n",
       "      <th>NA_Sales</th>\n",
       "      <th>EU_Sales</th>\n",
       "      <th>JP_Sales</th>\n",
       "      <th>Other_Sales</th>\n",
       "      <th>Global_Sales</th>\n",
       "      <th>Critic_Score</th>\n",
       "      <th>Critic_Count</th>\n",
       "      <th>User_Score</th>\n",
       "      <th>User_Count</th>\n",
       "      <th>Developer</th>\n",
       "      <th>Rating</th>\n",
       "    </tr>\n",
       "  </thead>\n",
       "  <tbody>\n",
       "    <tr>\n",
       "      <th>0</th>\n",
       "      <td>Wii Sports</td>\n",
       "      <td>Wii</td>\n",
       "      <td>2006.0</td>\n",
       "      <td>Sports</td>\n",
       "      <td>Nintendo</td>\n",
       "      <td>41.36</td>\n",
       "      <td>28.96</td>\n",
       "      <td>3.77</td>\n",
       "      <td>8.45</td>\n",
       "      <td>82.53</td>\n",
       "      <td>76.0</td>\n",
       "      <td>51.0</td>\n",
       "      <td>8</td>\n",
       "      <td>322.0</td>\n",
       "      <td>Nintendo</td>\n",
       "      <td>E</td>\n",
       "    </tr>\n",
       "    <tr>\n",
       "      <th>1</th>\n",
       "      <td>Super Mario Bros.</td>\n",
       "      <td>NES</td>\n",
       "      <td>1985.0</td>\n",
       "      <td>Platform</td>\n",
       "      <td>Nintendo</td>\n",
       "      <td>29.08</td>\n",
       "      <td>3.58</td>\n",
       "      <td>6.81</td>\n",
       "      <td>0.77</td>\n",
       "      <td>40.24</td>\n",
       "      <td>NaN</td>\n",
       "      <td>NaN</td>\n",
       "      <td>NaN</td>\n",
       "      <td>NaN</td>\n",
       "      <td>NaN</td>\n",
       "      <td>NaN</td>\n",
       "    </tr>\n",
       "    <tr>\n",
       "      <th>2</th>\n",
       "      <td>Mario Kart Wii</td>\n",
       "      <td>Wii</td>\n",
       "      <td>2008.0</td>\n",
       "      <td>Racing</td>\n",
       "      <td>Nintendo</td>\n",
       "      <td>15.68</td>\n",
       "      <td>12.76</td>\n",
       "      <td>3.79</td>\n",
       "      <td>3.29</td>\n",
       "      <td>35.52</td>\n",
       "      <td>82.0</td>\n",
       "      <td>73.0</td>\n",
       "      <td>8.3</td>\n",
       "      <td>709.0</td>\n",
       "      <td>Nintendo</td>\n",
       "      <td>E</td>\n",
       "    </tr>\n",
       "    <tr>\n",
       "      <th>3</th>\n",
       "      <td>Wii Sports Resort</td>\n",
       "      <td>Wii</td>\n",
       "      <td>2009.0</td>\n",
       "      <td>Sports</td>\n",
       "      <td>Nintendo</td>\n",
       "      <td>15.61</td>\n",
       "      <td>10.93</td>\n",
       "      <td>3.28</td>\n",
       "      <td>2.95</td>\n",
       "      <td>32.77</td>\n",
       "      <td>80.0</td>\n",
       "      <td>73.0</td>\n",
       "      <td>8</td>\n",
       "      <td>192.0</td>\n",
       "      <td>Nintendo</td>\n",
       "      <td>E</td>\n",
       "    </tr>\n",
       "    <tr>\n",
       "      <th>4</th>\n",
       "      <td>Pokemon Red/Pokemon Blue</td>\n",
       "      <td>GB</td>\n",
       "      <td>1996.0</td>\n",
       "      <td>Role-Playing</td>\n",
       "      <td>Nintendo</td>\n",
       "      <td>11.27</td>\n",
       "      <td>8.89</td>\n",
       "      <td>10.22</td>\n",
       "      <td>1.00</td>\n",
       "      <td>31.37</td>\n",
       "      <td>NaN</td>\n",
       "      <td>NaN</td>\n",
       "      <td>NaN</td>\n",
       "      <td>NaN</td>\n",
       "      <td>NaN</td>\n",
       "      <td>NaN</td>\n",
       "    </tr>\n",
       "  </tbody>\n",
       "</table>\n",
       "</div>"
      ],
      "text/plain": [
       "                       Name Platform  Year_of_Release         Genre Publisher  \\\n",
       "0                Wii Sports      Wii           2006.0        Sports  Nintendo   \n",
       "1         Super Mario Bros.      NES           1985.0      Platform  Nintendo   \n",
       "2            Mario Kart Wii      Wii           2008.0        Racing  Nintendo   \n",
       "3         Wii Sports Resort      Wii           2009.0        Sports  Nintendo   \n",
       "4  Pokemon Red/Pokemon Blue       GB           1996.0  Role-Playing  Nintendo   \n",
       "\n",
       "   NA_Sales  EU_Sales  JP_Sales  Other_Sales  Global_Sales  Critic_Score  \\\n",
       "0     41.36     28.96      3.77         8.45         82.53          76.0   \n",
       "1     29.08      3.58      6.81         0.77         40.24           NaN   \n",
       "2     15.68     12.76      3.79         3.29         35.52          82.0   \n",
       "3     15.61     10.93      3.28         2.95         32.77          80.0   \n",
       "4     11.27      8.89     10.22         1.00         31.37           NaN   \n",
       "\n",
       "   Critic_Count User_Score  User_Count Developer Rating  \n",
       "0          51.0          8       322.0  Nintendo      E  \n",
       "1           NaN        NaN         NaN       NaN    NaN  \n",
       "2          73.0        8.3       709.0  Nintendo      E  \n",
       "3          73.0          8       192.0  Nintendo      E  \n",
       "4           NaN        NaN         NaN       NaN    NaN  "
      ]
     },
     "metadata": {},
     "output_type": "display_data"
    },
    {
     "data": {
      "text/plain": [
       "float64    9\n",
       "object     7\n",
       "Name: count, dtype: int64"
      ]
     },
     "metadata": {},
     "output_type": "display_data"
    }
   ],
   "source": [
    "print(\"The data set has {} rows and {} columns\".format(df.shape[0], df.shape[1]))\n",
    "display(df.describe())\n",
    "display(df.head())\n",
    "display(df.dtypes.value_counts())"
   ]
  },
  {
   "cell_type": "code",
   "execution_count": 8,
   "id": "caf0dc91",
   "metadata": {},
   "outputs": [
    {
     "data": {
      "text/plain": [
       "Name                object\n",
       "Platform            object\n",
       "Year_of_Release    float64\n",
       "Genre               object\n",
       "Publisher           object\n",
       "NA_Sales           float64\n",
       "EU_Sales           float64\n",
       "JP_Sales           float64\n",
       "Other_Sales        float64\n",
       "Global_Sales       float64\n",
       "Critic_Score       float64\n",
       "Critic_Count       float64\n",
       "User_Score          object\n",
       "User_Count         float64\n",
       "Developer           object\n",
       "Rating              object\n",
       "dtype: object"
      ]
     },
     "execution_count": 8,
     "metadata": {},
     "output_type": "execute_result"
    }
   ],
   "source": [
    "df.dtypes"
   ]
  },
  {
   "cell_type": "markdown",
   "id": "1f76c06f-0659-456d-a0dc-6a170987fd38",
   "metadata": {},
   "source": [
    "# EDA: "
   ]
  },
  {
   "cell_type": "markdown",
   "id": "73e2b0c2-fe5b-4db8-aa01-425e4849c39b",
   "metadata": {},
   "source": [
    "--------------------------------------------------------------------------------------------------------\n",
    "--------------------------------------------------------------------------------------------------------"
   ]
  },
  {
   "cell_type": "markdown",
   "id": "aa026928-9ee2-4123-b07a-1d6de9d5680a",
   "metadata": {},
   "source": [
    "Before addressing any statistical question and analyzing deeper into the dataset to see trends in the domain of the videogames, it is vital to conduct the step of EDA. The reason behind this is to have accurate data and understand the data structure and patterns. This section will cover checking for duplicates and missing variables that will be crucial to handle to have a clean dataset to obtain accurate trends.."
   ]
  },
  {
   "cell_type": "markdown",
   "id": "495779a3",
   "metadata": {},
   "source": [
    "## Checking for Duplicates: "
   ]
  },
  {
   "cell_type": "markdown",
   "id": "d9ab84da-7a46-4d4c-89b8-015c1c777afd",
   "metadata": {},
   "source": [
    "--------------------------------------------------------------------------------------------------------"
   ]
  },
  {
   "cell_type": "markdown",
   "id": "64f8422a-9927-4890-b9e9-f9b4108ecaaf",
   "metadata": {},
   "source": [
    "Checking for duplicates is important to understand the structure of the dataset and their impact on it. \n",
    "\n",
    "\n",
    "It is important to check if there are observations that are the same in the whole dataset using the function .duplicated().sum(), which shows that duplicates are not present. Duplicates can impact the skewed statistics and mislead the bigger picture leading to the wrong results.  Understanding also how many duplicates are for the same observation for features helps to have a better overview also about the frequency of them. \n",
    "\n",
    "For example, in the dataset, there are 5156 duplicates in the feature names. It has been decided to don't handle the column duplicates because these could be relevant in statical questions and visualization. For example if the dataset has the same duplicate in names it means that the name of the game has been evaluated and bought for example in different sales locations. "
   ]
  },
  {
   "cell_type": "code",
   "execution_count": 9,
   "id": "5685be25",
   "metadata": {},
   "outputs": [
    {
     "data": {
      "text/plain": [
       "0"
      ]
     },
     "execution_count": 9,
     "metadata": {},
     "output_type": "execute_result"
    }
   ],
   "source": [
    "df.duplicated().sum() "
   ]
  },
  {
   "cell_type": "code",
   "execution_count": 10,
   "id": "24a53d4b",
   "metadata": {},
   "outputs": [
    {
     "name": "stdout",
     "output_type": "stream",
     "text": [
      "Duplicate sum in Name: 5156\n",
      "Duplicate sum in Platform: 16688\n",
      "Duplicate sum in Year_of_Release: 16679\n",
      "Duplicate sum in Genre: 16706\n",
      "Duplicate sum in Publisher: 16137\n",
      "Duplicate sum in NA_Sales: 16317\n",
      "Duplicate sum in EU_Sales: 16412\n",
      "Duplicate sum in JP_Sales: 16475\n",
      "Duplicate sum in Other_Sales: 16564\n",
      "Duplicate sum in Global_Sales: 16090\n",
      "Duplicate sum in Critic_Score: 16636\n",
      "Duplicate sum in Critic_Count: 16612\n",
      "Duplicate sum in User_Score: 16622\n",
      "Duplicate sum in User_Count: 15830\n",
      "Duplicate sum in Developer: 15022\n",
      "Duplicate sum in Rating: 16710\n"
     ]
    }
   ],
   "source": [
    "for col in df.columns:\n",
    "    dup_sum = df.duplicated(subset=col).sum()\n",
    "    print(f\"Duplicate sum in {col}: {dup_sum}\")"
   ]
  },
  {
   "cell_type": "markdown",
   "id": "96b7a99d",
   "metadata": {},
   "source": [
    "## Missing Variables: "
   ]
  },
  {
   "cell_type": "markdown",
   "id": "5d16a730-895a-465f-ace3-4322d31798ca",
   "metadata": {},
   "source": [
    "--------------------------------------------------------------------------------------------------------"
   ]
  },
  {
   "cell_type": "markdown",
   "id": "f795f218-24b4-40c1-af4a-919a4753abdc",
   "metadata": {},
   "source": [
    "Checking Missing Variables is important to see what is the tendency of the dataset and which approach could be used to handle them."
   ]
  },
  {
   "cell_type": "code",
   "execution_count": 11,
   "id": "393439db",
   "metadata": {},
   "outputs": [
    {
     "data": {
      "text/plain": [
       "Name                  2\n",
       "Platform              0\n",
       "Year_of_Release     269\n",
       "Genre                 2\n",
       "Publisher            54\n",
       "NA_Sales              0\n",
       "EU_Sales              0\n",
       "JP_Sales              0\n",
       "Other_Sales           0\n",
       "Global_Sales          0\n",
       "Critic_Score       8582\n",
       "Critic_Count       8582\n",
       "User_Score         6704\n",
       "User_Count         9129\n",
       "Developer          6623\n",
       "Rating             6769\n",
       "dtype: int64"
      ]
     },
     "execution_count": 11,
     "metadata": {},
     "output_type": "execute_result"
    }
   ],
   "source": [
    "df.isnull().sum()"
   ]
  },
  {
   "cell_type": "markdown",
   "id": "abcb4339-5529-450b-b08b-03799cc02a65",
   "metadata": {},
   "source": [
    "After this preliminary check, it is noticeable which columns *don't* have missing variables and which ones have quite a bit of missing variables:\n",
    "\n",
    "&rarr; Features with 0 missing variables are:\n",
    "- Platform   \n",
    "- NA_Sales \n",
    "- EU_Sales    \n",
    "- JP_Sales                           \n",
    "- Other_Sales\n",
    "- Global_Sales\n",
    "\n",
    "This is important because these variables could be left as they are at the moment due to their structure that doesn't have blank attributes. \n",
    "\n",
    "However, we have quite a few features with missing variables: \n",
    "\n",
    "| feature| type | \n",
    "| ---------- | ------- |\n",
    "| Name               | object|\n",
    "| Year_of_Release  | float64|\n",
    "| Genre              | object|\n",
    "| Publisher          | object|\n",
    "| Critic_Count       | float64|\n",
    "| Critic_Score       | float64|\n",
    "| User_Score         | object |\n",
    "| User_Count         | float64|\n",
    "| Developer          | object|\n",
    "| Rating             | object|\n",
    "\n",
    "Depending if they are float or object the decision in filling them will be different and it is going to be analyzed going into the analysis.\n"
   ]
  },
  {
   "cell_type": "markdown",
   "id": "0acff8c8",
   "metadata": {},
   "source": [
    "Checking the percentage of the missing variable is important to have the whole picture of how much amount is missing from the provided dataset"
   ]
  },
  {
   "cell_type": "code",
   "execution_count": 12,
   "id": "5b4348e0",
   "metadata": {},
   "outputs": [
    {
     "name": "stdout",
     "output_type": "stream",
     "text": [
      "Name                0.011962\n",
      "Platform            0.000000\n",
      "Year_of_Release     1.608948\n",
      "Genre               0.011962\n",
      "Publisher           0.322986\n",
      "NA_Sales            0.000000\n",
      "EU_Sales            0.000000\n",
      "JP_Sales            0.000000\n",
      "Other_Sales         0.000000\n",
      "Global_Sales        0.000000\n",
      "Critic_Score       51.330821\n",
      "Critic_Count       51.330821\n",
      "User_Score         40.098092\n",
      "User_Count         54.602548\n",
      "Developer          39.613613\n",
      "Rating             40.486871\n",
      "dtype: float64\n"
     ]
    }
   ],
   "source": [
    "missing_values = df.isnull().sum()\n",
    "total_values = df.shape[0]\n",
    "\n",
    "percentage_missing = (missing_values / total_values) * 100\n",
    "\n",
    "print(percentage_missing)"
   ]
  },
  {
   "cell_type": "code",
   "execution_count": 13,
   "id": "83e807f5",
   "metadata": {},
   "outputs": [
    {
     "data": {
      "text/plain": [
       "46716"
      ]
     },
     "execution_count": 13,
     "metadata": {},
     "output_type": "execute_result"
    }
   ],
   "source": [
    "df.isnull().sum().sum()"
   ]
  },
  {
   "cell_type": "markdown",
   "id": "e1b0413d-11a1-4bd8-9a5b-6e7d729f39c8",
   "metadata": {},
   "source": [
    "The total of the missing variables is 46716 which means that they have a significant impact on the integrity of the analysis leading to inaccurate results and wrong conclusions. Handling strategy will be carefully considered to handle them."
   ]
  },
  {
   "cell_type": "markdown",
   "id": "0c0ab06b-e28a-4369-9605-99739c226c48",
   "metadata": {},
   "source": [
    "## Visualization of Missing Variables:"
   ]
  },
  {
   "cell_type": "markdown",
   "id": "b64b4fc6-f115-4e94-9914-02d26c8acb46",
   "metadata": {},
   "source": [
    "--------------------------------------------------------------------------------------------------------"
   ]
  },
  {
   "cell_type": "markdown",
   "id": "73568c28-7f5e-4dbb-a059-79b20459ca38",
   "metadata": {},
   "source": [
    "The visualization of the missing data gives the understanding of the distribution of the Nan Variable"
   ]
  },
  {
   "cell_type": "markdown",
   "id": "b188b166-de00-476f-91a6-3329c9c49330",
   "metadata": {},
   "source": [
    "# Heatmap:\n",
    "\n",
    "\n",
    "This helps to visualize the amount of NA variables present in the dataset. As it has mentioned Name doesn't have any missing variables so the column where is the name in the X-axis don't have any green light meanwhile where is an high presence of the green bar is where there are missing variables."
   ]
  },
  {
   "cell_type": "code",
   "execution_count": 14,
   "id": "01da2a10-a4ff-42cd-a6d8-f509f3c47d46",
   "metadata": {},
   "outputs": [
    {
     "data": {
      "text/plain": [
       "<Axes: >"
      ]
     },
     "execution_count": 14,
     "metadata": {},
     "output_type": "execute_result"
    },
    {
     "data": {
      "image/png": "[encoded data removed]",
      "text/plain": [
       "<Figure size 1800x800 with 2 Axes>"
      ]
     },
     "metadata": {},
     "output_type": "display_data"
    }
   ],
   "source": [
    "plt.figure(figsize=(18,8))\n",
    "\n",
    "colours = ['#34495E', 'seagreen'] \n",
    "sns.heatmap(df.isnull(), cmap=sns.color_palette(colours))"
   ]
  },
  {
   "cell_type": "markdown",
   "id": "74597710-ca53-4dbd-be7e-2b0da1eb94aa",
   "metadata": {},
   "source": [
    "# Correlation Matix:\n",
    "\n",
    "the correlation matric shows if there is correlation beetwen the missing variables"
   ]
  },
  {
   "cell_type": "code",
   "execution_count": 16,
   "id": "18b0fbc0-5835-487a-81bd-7cf4dbd0df07",
   "metadata": {},
   "outputs": [
    {
     "data": {
      "text/plain": [
       "<Axes: >"
      ]
     },
     "execution_count": 16,
     "metadata": {},
     "output_type": "execute_result"
    },
    {
     "data": {
      "image/png": "[encoded data removed]",
      "text/plain": [
       "<Figure size 1800x1000 with 2 Axes>"
      ]
     },
     "metadata": {},
     "output_type": "display_data"
    }
   ],
   "source": [
    "plt.figure(figsize=(18,10))\n",
    "sns.heatmap(df.loc[:, df.isnull().any()].isnull().corr(), annot=True, fmt='.2f')"
   ]
  },
  {
   "cell_type": "markdown",
   "id": "56030bc9-330a-41f4-a83c-8466d4bb781a",
   "metadata": {},
   "source": [
    "# Displot:\n",
    "\n",
    "Use displot to visualize the amount of NA Value ratio inside the features:\n"
   ]
  },
  {
   "cell_type": "code",
   "execution_count": 18,
   "id": "df2ba3b3-4b81-48b5-ad66-c878f543bb59",
   "metadata": {},
   "outputs": [
    {
     "name": "stderr",
     "output_type": "stream",
     "text": [
      "C:\\Users\\cristinap\\AppData\\Local\\anaconda3\\Lib\\site-packages\\seaborn\\_oldcore.py:1119: FutureWarning: use_inf_as_na option is deprecated and will be removed in a future version. Convert inf values to NaN before operating instead.\n",
      "  with pd.option_context('mode.use_inf_as_na', True):\n",
      "C:\\Users\\cristinap\\AppData\\Local\\anaconda3\\Lib\\site-packages\\seaborn\\_oldcore.py:1075: FutureWarning: When grouping with a length-1 list-like, you will need to pass a length-1 tuple to get_group in a future version of pandas. Pass `(name,)` instead of `name` to silence this warning.\n",
      "  data_subset = grouped_data.get_group(pd_key)\n",
      "C:\\Users\\cristinap\\AppData\\Local\\anaconda3\\Lib\\site-packages\\seaborn\\_oldcore.py:1075: FutureWarning: When grouping with a length-1 list-like, you will need to pass a length-1 tuple to get_group in a future version of pandas. Pass `(name,)` instead of `name` to silence this warning.\n",
      "  data_subset = grouped_data.get_group(pd_key)\n",
      "C:\\Users\\cristinap\\AppData\\Local\\anaconda3\\Lib\\site-packages\\seaborn\\_oldcore.py:1075: FutureWarning: When grouping with a length-1 list-like, you will need to pass a length-1 tuple to get_group in a future version of pandas. Pass `(name,)` instead of `name` to silence this warning.\n",
      "  data_subset = grouped_data.get_group(pd_key)\n"
     ]
    },
    {
     "data": {
      "text/plain": [
       "<matplotlib.lines.Line2D at 0x22b0b3ecc50>"
      ]
     },
     "execution_count": 18,
     "metadata": {},
     "output_type": "execute_result"
    },
    {
     "data": {
      "image/png": "[encoded data removed]",
      "text/plain": [
       "<Figure size 972.5x800 with 1 Axes>"
      ]
     },
     "metadata": {},
     "output_type": "display_data"
    }
   ],
   "source": [
    "sns.displot(\n",
    "    data=df.isnull().melt(value_name='missing'),\n",
    "    y='variable',\n",
    "    hue='missing',\n",
    "    multiple='fill',\n",
    "    height=8,\n",
    "    aspect=1.1\n",
    ")\n",
    "\n",
    "# specifying a threshold value\n",
    "plt.axvline(0.4, color='r')"
   ]
  },
  {
   "cell_type": "markdown",
   "id": "a0e48dd3",
   "metadata": {},
   "source": [
    "# Handling Missing Variables: "
   ]
  },
  {
   "cell_type": "markdown",
   "id": "b61153c2-3539-4bd2-9b3a-3ee922a38451",
   "metadata": {},
   "source": [
    "--------------------------------------------------------------------------------------------------------"
   ]
  },
  {
   "cell_type": "markdown",
   "id": "c6bbc1f1",
   "metadata": {},
   "source": [
    "Understanding how to handle this missing variable is important before understanding which type of variable are; float and object. This is important to understand the correct approach to handle them. It is crucial to handle this before passing to the core of this analysis which is the visualization part to avoid having naan values in the graphs."
   ]
  },
  {
   "attachments": {},
   "cell_type": "markdown",
   "id": "1dddd395",
   "metadata": {},
   "source": [
    "To start it is important to consider what are numerical and what are categorical variables. Back to the beginning thanks to the function **\"df.info()\"** the system provided what categories are:\n",
    "\n",
    "- **Float**: Which are numerical variable\n",
    "- **Object**: These are categorical variables. This primary distion already gives the hint of how to start handling what is missing.\n",
    "\n",
    "**Float Missing Variables:**\n",
    "\n",
    "- Critic_Score\n",
    "- Critic_Count\n",
    "- User_Count\n",
    "\n",
    "It has been left at the moment User_Score aside even tho it is a float and it will be covered later on why. \n",
    "\n",
    "To understand how to fill the missing variable understanding if they are skewed or normally distributed comes to help. If the variables are normally distributed they should be used the mean, if they are skewed the median is a better choice. \n",
    "\n",
    "Before proceeding it is going to be checked if Critic_Score, Critic_Count, User_count are skewed:\n",
    "\n",
    " "
   ]
  },
  {
   "cell_type": "code",
   "execution_count": null,
   "id": "b840c5e2-7a5d-4e14-b93a-06512ad7cf27",
   "metadata": {},
   "outputs": [],
   "source": [
    "df['Critic_Score'].skew()"
   ]
  },
  {
   "cell_type": "code",
   "execution_count": null,
   "id": "14c883ef-b0dd-458a-8fac-8a96d1430d1e",
   "metadata": {},
   "outputs": [],
   "source": [
    "df['Critic_Count'].skew()"
   ]
  },
  {
   "cell_type": "code",
   "execution_count": null,
   "id": "77191330-1d86-46e7-95bf-7c7fd8e94b87",
   "metadata": {},
   "outputs": [],
   "source": [
    "df['User_Count'].skew()"
   ]
  },
  {
   "attachments": {
    "ee7b2e3c-ffb4-40e9-9c09-3b0f972c4784.png": {
     "image/png": "[encoded data removed]"
    }
   },
   "cell_type": "markdown",
   "id": "d17b8f84-8bbf-427a-a56e-f155ec15bf32",
   "metadata": {},
   "source": [
    "After checking the skewness it can be affirmed that:\n",
    "\n",
    "- Critic_Score is negatively skewed \n",
    "- Critic_Count is positively skewed\n",
    "- User_Count is highly positively skewed. \n",
    "\n",
    "Which means: \n",
    "\n",
    "- **Positively Skewed:** The value distribution is greater than 0 \n",
    "- **Negatively:** The distribution skewed is less than zero \n",
    "\n",
    "This information is important to understand that these variable needs to be filled with the Median which is the middle-value in the dataset representing the central tendency. Due to the features being skewed using the mean will result in not giving the proper filling:\n",
    "\n",
    "![sk1.png](attachment:ee7b2e3c-ffb4-40e9-9c09-3b0f972c4784.png)\n",
    "*(Sharma)\n",
    "\n",
    "The Median is the middle value of the dataset and it is not affected by outliers.\n"
   ]
  },
  {
   "cell_type": "code",
   "execution_count": null,
   "id": "198bc171",
   "metadata": {},
   "outputs": [],
   "source": [
    "numerical_column=['Critic_Score', 'Critic_Count', 'User_Count']"
   ]
  },
  {
   "cell_type": "code",
   "execution_count": null,
   "id": "c42fdb88",
   "metadata": {},
   "outputs": [],
   "source": [
    "for column  in numerical_column:\n",
    "    df[column].fillna(df[column].median(), inplace=True)"
   ]
  },
  {
   "cell_type": "code",
   "execution_count": null,
   "id": "c3d98b21",
   "metadata": {},
   "outputs": [],
   "source": [
    "df.isnull().sum()"
   ]
  },
  {
   "cell_type": "markdown",
   "id": "969ba9dc",
   "metadata": {},
   "source": [
    "Checking the variable *\" Years_of_release\"* it will be noticed that it is negatively skewed. Although instead of the median it will be filled with the mode. Due that *\" Years_of_release\"* refers to actual data filling with the median doesn't seem appropriate due that it is not needed to have the middle value of the data although speaking of years it is more appropriate to fill with the number that most occur in the dataset: the mode "
   ]
  },
  {
   "cell_type": "code",
   "execution_count": null,
   "id": "38659fa4-92c0-47c0-9bfc-95188c33d03a",
   "metadata": {},
   "outputs": [],
   "source": [
    "df['Year_of_Release'].skew()"
   ]
  },
  {
   "cell_type": "code",
   "execution_count": null,
   "id": "a77d339a-f8fb-46c6-bf09-4d8576dd5ce6",
   "metadata": {},
   "outputs": [],
   "source": [
    "most_frequent_year = df['Year_of_Release'].mode()[0]  \n",
    "df['Year_of_Release'] = df['Year_of_Release'].fillna(most_frequent_year)  "
   ]
  },
  {
   "cell_type": "code",
   "execution_count": null,
   "id": "09d87f6c",
   "metadata": {},
   "outputs": [],
   "source": [
    "df.isnull().sum()"
   ]
  },
  {
   "cell_type": "markdown",
   "id": "dc36f978",
   "metadata": {},
   "source": [
    "**Object features missing variable:**\n",
    "\n",
    "Due to the nature of visualization, it has been avoided to encode the variable to be filled after the median, the mode or the mean but it will be labelled as \"Unknown\" so it will be noticed in the visualization. it has been avoided the dropna function due to the number of missing variables."
   ]
  },
  {
   "cell_type": "code",
   "execution_count": null,
   "id": "b60d3e53",
   "metadata": {},
   "outputs": [],
   "source": [
    "df.isnull().sum()"
   ]
  },
  {
   "cell_type": "markdown",
   "id": "0f29e7af-922a-43ce-bfe8-d18dd740365d",
   "metadata": {},
   "source": [
    "**Handling missing variables in categorical features:**\n",
    "\n",
    "when it comes to dealing with categorical data normally missing variables are transformed into categorical maintaining the pattern inside the data and after handled as categorical. Due to the nature of the domain and the final aim of this which is reporting visualization and clear a concise analysis of the sales for video games, it has been decided to do don't label encode the categorical variable.\n",
    "\n",
    "As workaround, the missing variables are filled with the value \"Unknown\". \n",
    "\n",
    "This allows filling the missing variable but still identify which was missing and not considered in the visualization that will be performed going on in the analysis\n",
    "\n",
    "    \n"
   ]
  },
  {
   "cell_type": "code",
   "execution_count": null,
   "id": "b42727ec",
   "metadata": {},
   "outputs": [],
   "source": [
    "categorical_columns = ['Name','Genre', 'Publisher', 'Developer', 'Rating']"
   ]
  },
  {
   "cell_type": "code",
   "execution_count": null,
   "id": "64ecf004",
   "metadata": {},
   "outputs": [],
   "source": [
    "for column in categorical_columns:\n",
    "    df[column].fillna('Unknown', inplace=True)"
   ]
  },
  {
   "cell_type": "markdown",
   "id": "91c73c6b",
   "metadata": {},
   "source": [
    "**User_Score Variable**:\n",
    "\n",
    "The *User_Score* Variable has been left last to be handled. The reason behind it wasn't incorporated with the others is that when the function **\".type\"** has been done it has been noticed that it is a categorical variable although when it is analyzed with the function **\".unique\"** this variable appears to be numerical. \n",
    "\n",
    "The first challenge that has been encountered is that the function **\".unique\"** shows the label \"tbc\" inside the User_Score. This mean that if it is tried to be transformed to float before handling tbc it will return an error. To overcome this the replace function comes to help replace \"tbc\" with missing values. It will change into numerical values.\n",
    "\n",
    "Once they became numerical it can be checked if the variable is skewed and due to the result is -1.25 so it is negatively skewed. For the reason listed before this will lead to decide to fill it with the median. \n",
    "Once the missing variables are filled they will be changed into the type Float for better accuracy "
   ]
  },
  {
   "cell_type": "code",
   "execution_count": null,
   "id": "935ec9b5",
   "metadata": {},
   "outputs": [],
   "source": [
    "df['User_Score'].unique()"
   ]
  },
  {
   "cell_type": "code",
   "execution_count": null,
   "id": "002f47d9",
   "metadata": {},
   "outputs": [],
   "source": [
    "df['User_Score'].replace('tbd', pd.NA, inplace=True)"
   ]
  },
  {
   "cell_type": "code",
   "execution_count": null,
   "id": "229e50e8",
   "metadata": {},
   "outputs": [],
   "source": [
    "df['User_Score'] = pd.to_numeric(df['User_Score'], errors='coerce')"
   ]
  },
  {
   "cell_type": "code",
   "execution_count": null,
   "id": "523286fa-12c3-464e-b940-e9a9031e2315",
   "metadata": {},
   "outputs": [],
   "source": [
    "df['User_Score'].skew()"
   ]
  },
  {
   "cell_type": "code",
   "execution_count": null,
   "id": "4ce3c6e9-453a-453d-bd9b-120e31eaa1fb",
   "metadata": {},
   "outputs": [],
   "source": [
    " df[\"User_Score\"].fillna(df[\"User_Score\"].median(), inplace=True)"
   ]
  },
  {
   "cell_type": "code",
   "execution_count": null,
   "id": "73f8ac0b-7768-46ca-a768-ed24314f17ac",
   "metadata": {},
   "outputs": [],
   "source": [
    "df.isnull().sum()"
   ]
  },
  {
   "cell_type": "markdown",
   "id": "71f39efe",
   "metadata": {},
   "source": [
    "Change Object into Float:"
   ]
  },
  {
   "cell_type": "code",
   "execution_count": null,
   "id": "82d10656",
   "metadata": {},
   "outputs": [],
   "source": [
    "df['User_Score']=df['User_Score'].astype(float)"
   ]
  },
  {
   "cell_type": "code",
   "execution_count": null,
   "id": "d1ce14c1",
   "metadata": {},
   "outputs": [],
   "source": [
    "unique_user_scores = df[\"User_Score\"].unique()\n",
    "print(unique_user_scores)"
   ]
  },
  {
   "cell_type": "markdown",
   "id": "eff52590",
   "metadata": {},
   "source": [
    "**Double checking Missing Variables if they have been filled and types:**"
   ]
  },
  {
   "cell_type": "markdown",
   "id": "12534383-eebc-48fc-923e-c7f5700848f9",
   "metadata": {},
   "source": [
    "After handling the missing variables it is repeated the function **\"df.isnull().sum\"** to test if all the missing variables have been handled: "
   ]
  },
  {
   "cell_type": "code",
   "execution_count": null,
   "id": "90254569",
   "metadata": {},
   "outputs": [],
   "source": [
    "df.isnull().sum()"
   ]
  },
  {
   "cell_type": "code",
   "execution_count": null,
   "id": "d70d4ae9",
   "metadata": {},
   "outputs": [],
   "source": [
    "df.head(100)"
   ]
  },
  {
   "cell_type": "code",
   "execution_count": null,
   "id": "e6a3b244",
   "metadata": {},
   "outputs": [],
   "source": [
    "df.dtypes"
   ]
  },
  {
   "cell_type": "markdown",
   "id": "09e25d26",
   "metadata": {},
   "source": [
    "# Change float into Integers: "
   ]
  },
  {
   "cell_type": "markdown",
   "id": "8bc13623-5927-49c9-b005-df0cbcdd465e",
   "metadata": {},
   "source": [
    "--------------------------------------------------------------------------------------------------------"
   ]
  },
  {
   "cell_type": "markdown",
   "id": "780c71a2-c1fc-4a59-b9c1-8d87ecd27bf8",
   "metadata": {},
   "source": [
    "In the dataset it could be noticed that variables like Years_of_Release is float64 so it appears like 2006.0 but this should be integer. Same logic for the variables Cristic_Score, Critic_count,User_Count. "
   ]
  },
  {
   "cell_type": "code",
   "execution_count": null,
   "id": "1d3b2d77",
   "metadata": {},
   "outputs": [],
   "source": [
    "df['Year_of_Release'] = df['Year_of_Release'].apply(np.int64)\n",
    "df['Critic_Score'] = df['Critic_Score'].apply(np.int64)\n",
    "df['Critic_Count'] = df['Critic_Count'].apply(np.int64)\n",
    "df['User_Count'] = df['User_Count'].apply(np.int64)"
   ]
  },
  {
   "cell_type": "code",
   "execution_count": null,
   "id": "a6e8c91b",
   "metadata": {},
   "outputs": [],
   "source": [
    "df.dtypes"
   ]
  },
  {
   "cell_type": "code",
   "execution_count": null,
   "id": "dd25a6a9",
   "metadata": {
    "scrolled": true
   },
   "outputs": [],
   "source": [
    "df.head()"
   ]
  },
  {
   "cell_type": "markdown",
   "id": "12e8a7ad-d6f1-47e0-adf7-ed2985820903",
   "metadata": {},
   "source": [
    "Now the EDA part has becoming to an end and it can be moved to answer question that will highlite the sales strategy."
   ]
  },
  {
   "cell_type": "markdown",
   "id": "0cff4f9c",
   "metadata": {},
   "source": [
    "## PART 1:"
   ]
  },
  {
   "cell_type": "markdown",
   "id": "34c249b3-49b8-4fc3-9f78-3940e93464ca",
   "metadata": {},
   "source": [
    "--------------------------------------------------------------------------------------------------------\n",
    "--------------------------------------------------------------------------------------------------------"
   ]
  },
  {
   "cell_type": "markdown",
   "id": "1f203640",
   "metadata": {},
   "source": [
    "## What are the top 5 games by global sales?"
   ]
  },
  {
   "cell_type": "markdown",
   "id": "298cca9f-83de-44d8-a776-e99ba9cbb35d",
   "metadata": {},
   "source": [
    "--------------------------------------------------------------------------------------------------------"
   ]
  },
  {
   "cell_type": "markdown",
   "id": "d07b831d",
   "metadata": {},
   "source": [
    "To answer which are the top 5 games by global sales it needs to be understood with are the top global sales. Due to the memory that the dataset takes to be handled and to have a better understanding of the Global Sales the dataset has been reduced. \n",
    "\n",
    "The dataset has been reduced with the Global Sales that are more than 30 with the function .loc. of the dataset it has The dataset will be reduced for the global sales that have more value than 30. The reason behind this is to optimize the running of the kernel and start reducing the dataset to see the information needed"
   ]
  },
  {
   "cell_type": "code",
   "execution_count": null,
   "id": "a598f5f9",
   "metadata": {},
   "outputs": [],
   "source": [
    "GlobalSales_df=df.loc[df[\"Global_Sales\"]>30]"
   ]
  },
  {
   "cell_type": "code",
   "execution_count": null,
   "id": "fd1f662c",
   "metadata": {},
   "outputs": [],
   "source": [
    "GlobalSales_df.head(5)"
   ]
  },
  {
   "cell_type": "markdown",
   "id": "0f917c41-2824-4b91-bb94-805d8a0f4854",
   "metadata": {},
   "source": [
    "Once the dataset has been reduced the analysis of the question to show the answer with the correct visualization is crucial. The question implies to understand the distribution of the global sales in the dataset divided. Due to that it is asking about the frequency of categorical variables a barplot is the visualization chosen.\n",
    "\n",
    "The choice of a Barplot is to visualize the relationship between numerical and categorical variables in this case it shows the distribution of the Global Sales for games. Since \"Name\" is a categorical variable it has been used as a Y axis meanwhile the numerical variable \"Global_Sales\" is the X axis.  If it was done the contrary  X \"Name\" and Y\"Global_Sales\" The visualization would still work but it wouldn't be as visually effective as the choice taken. \n",
    "\n",
    "By using the Seaborn Barplot function and the estimator mean with the numpy library the visualization shows the average, mean, of global sales broken down to the Games. The statistical summary provides insight into the sales at the global level for the games resulting in give the top performer."
   ]
  },
  {
   "cell_type": "code",
   "execution_count": null,
   "id": "2d619cd4",
   "metadata": {},
   "outputs": [],
   "source": [
    "from numpy import mean\n",
    "sns.barplot(data=GlobalSales_df, x=\"Global_Sales\", y=\"Name\", palette=\"mako\", estimator=mean );\n",
    "plt.title(\"Top Games by Global Sales\")\n",
    "plt.show"
   ]
  },
  {
   "cell_type": "markdown",
   "id": "8e8c18a9-1bb0-4180-bc85-71de35cdd872",
   "metadata": {},
   "source": [
    "**Results**:\n",
    "\n",
    "The graph shows that the top 5 games are: \n",
    "\n",
    "1- Wii Sports\n",
    "\n",
    "2- Super Mario Bros\n",
    "\n",
    "3- Mario Kart wii\n",
    "\n",
    "4- Wii Sports Resort \n",
    "\n",
    "5- Pokemon Red/Pokemon Blue"
   ]
  },
  {
   "cell_type": "markdown",
   "id": "5add9981",
   "metadata": {},
   "source": [
    "# Is there a correlation between the “na_sales” and “jp_sales” for the years 2010-2014?  "
   ]
  },
  {
   "cell_type": "markdown",
   "id": "e9caed6a-94d7-480c-b7d5-a9455f4a7e99",
   "metadata": {},
   "source": [
    "--------------------------------------------------------------------------------------------------------"
   ]
  },
  {
   "cell_type": "markdown",
   "id": "0b95f5c4",
   "metadata": {},
   "source": [
    "To answer this question it is important to see the meaning of correlation. Correlation is the relationship between two variables (in this case NA_sales and jp_sales) to determine if they tend to move in the same or opposite directions for specific years. \n",
    "\n",
    "To see if there is a correlation the visualization chosen is a scatterplot with seaborn. \n",
    "\n",
    "A scatterplot uses dots to represent values for two different numerical variables. Each dot has a position that could be on the horizontal or vertical axis indicating each data point. The position of these dots reppresent if there is a correlation. For this nature it has been used for visualize the answer of the previous question.  \n",
    "\n",
    "Due to that it needs to be discovered for specific years at the beginning the years are specified and after the dataset will be filtered for the specific years.\n",
    "\n",
    "Once the dataset has been filtered the scatterplot is created to have:\n",
    "\n",
    "X= NA_sales\n",
    "Y= JP_Sales\n",
    "HUE: Years_of_release and due that has been selected the filtered dataset for the specific years will be specified as range.\n"
   ]
  },
  {
   "cell_type": "code",
   "execution_count": null,
   "id": "d725e125",
   "metadata": {},
   "outputs": [],
   "source": [
    "Specific_Years = [2010,2011,2012,2013,2014]\n",
    "df_years = df[df['Year_of_Release'].isin(Specific_Years)]\n",
    "plt.figure(figsize=(9,5))\n",
    "plt.title(\"Correlation NA_Sales and JP_Sales from 2010 till 2014\")\n",
    "sns.scatterplot(data=df_years, x='NA_Sales', y='JP_Sales', alpha=0.7, hue='Year_of_Release');"
   ]
  },
  {
   "cell_type": "markdown",
   "id": "e6dbabb9",
   "metadata": {},
   "source": [
    "By looking at this visualization it can be quickly understood the potential connection between the 2 variables for the specific years.\n",
    "\n",
    "**Results:** \n",
    "\n",
    "The graph shows that there is no correlation  between NA_Sales and JP_Sales in the specified years. It doesn't mean that the a lack of correlation is also lack of causation but it is noticeable that the graph doesn't show the same pattern in the values but the data points are scattered randomly. It shows that there are outliners ( points that are far) But don't really that are correlated.\n"
   ]
  },
  {
   "cell_type": "markdown",
   "id": "32d0e716",
   "metadata": {},
   "source": [
    "# What is the distribution of the most popular 4 game genres?  "
   ]
  },
  {
   "cell_type": "markdown",
   "id": "499fd136-0605-4f7b-9b0c-e738b0045e42",
   "metadata": {},
   "source": [
    "--------------------------------------------------------------------------------------------------------"
   ]
  },
  {
   "cell_type": "markdown",
   "id": "2b1ef191-8794-4c03-86ac-57e62a6c843e",
   "metadata": {},
   "source": [
    "First of all it needs to be considered which feature the question considers which is: Genres. \n",
    "\n",
    "It has been noticed before that the Genre is an object so it is a categorical variable. \n",
    "\n",
    "It asks to compare the popularity of the genre which means the distribution. To have visual quick results the histogram is the quick and common approach. A Histogram gives a clear representation of the distribution in this case of the Genre to understand which are the top 4."
   ]
  },
  {
   "cell_type": "code",
   "execution_count": null,
   "id": "e8222532",
   "metadata": {
    "scrolled": true
   },
   "outputs": [],
   "source": [
    "df.head()"
   ]
  },
  {
   "cell_type": "code",
   "execution_count": null,
   "id": "652f574f",
   "metadata": {},
   "outputs": [],
   "source": [
    "plt.figure(figsize=(20, 10))\n",
    "sns.histplot(df[\"Genre\"], color=\"green\")\n",
    "plt.title('Distribution of Genre')\n",
    "plt.grid(True)\n",
    "plt.show()"
   ]
  },
  {
   "cell_type": "markdown",
   "id": "577561e8-19c4-4d05-8823-17d7be1fba16",
   "metadata": {},
   "source": [
    "It has used Seaborn to do the histogram where the title has been added and also the grid to understand better the visual results. The figure has been chosen 20-10 to read fully the name of the genre. If it was used 10,5 for example the labels were overlapping. "
   ]
  },
  {
   "cell_type": "markdown",
   "id": "e09f82b4-7788-447c-b3e1-dc69b2e5abcb",
   "metadata": {},
   "source": [
    "**Results:**\n",
    "\n",
    "The histogram shows that the top 4 games genre for the dataset are:\n",
    "\n",
    "- Actions\n",
    "- Sports\n",
    "- Misc\n",
    "- Role Playing\n",
    "\n",
    "                                            "
   ]
  },
  {
   "cell_type": "markdown",
   "id": "2bbb3266",
   "metadata": {},
   "source": [
    "# Do older games (2005 and earlier) have a higher MEAN “eu_sales” than newer games (after 2005)?  "
   ]
  },
  {
   "cell_type": "markdown",
   "id": "8a16a981-ed3f-45d2-b7fd-b55b0fb48a57",
   "metadata": {},
   "source": [
    "--------------------------------------------------------------------------------------------------------"
   ]
  },
  {
   "cell_type": "markdown",
   "id": "06d54e4a",
   "metadata": {},
   "source": [
    "The question needs to be broken down into parts:\n",
    "\n",
    "1- Older Games and New Games: It needs to be identified first which in the dataset are \n",
    "\n",
    "&rarr;  Older games: Games before ( less than)  and/or equal 2005 \n",
    "\n",
    "&rarr; Newer Games: Games After ( Greater than) 2005 for the feature \"Years of release\"   \n",
    "\n",
    "2- after this identification in the dataset the mean for both needs to be identified.\n",
    "\n",
    "3- visualization"
   ]
  },
  {
   "cell_type": "code",
   "execution_count": null,
   "id": "ce06f1c4",
   "metadata": {},
   "outputs": [],
   "source": [
    "Oldergames_df=df.loc[df[\"Year_of_Release\"]<=2005]"
   ]
  },
  {
   "cell_type": "code",
   "execution_count": null,
   "id": "38ad27c0",
   "metadata": {},
   "outputs": [],
   "source": [
    "Newergames_df=df.loc[df[\"Year_of_Release\"]>2005]"
   ]
  },
  {
   "cell_type": "code",
   "execution_count": null,
   "id": "c0a06684",
   "metadata": {},
   "outputs": [],
   "source": [
    "Oldergames_mean= Oldergames_df['EU_Sales'].mean()\n",
    "Newergames_mean= Newergames_df['EU_Sales'].mean()\n",
    "print(Oldergames_mean)\n",
    "print(Newergames_mean)"
   ]
  },
  {
   "cell_type": "markdown",
   "id": "cb218a6d-c226-44da-a90a-6759fc131309",
   "metadata": {},
   "source": [
    "It is already noticable that the mean for the older games is higher than the one of the newer games but to have quicker visual results it will be used as visualization a line chart. \n",
    "\n",
    "A line chart provides a simple way to read the results between the data point of the mean of the newer and older games."
   ]
  },
  {
   "cell_type": "code",
   "execution_count": null,
   "id": "0fd8e9e1-1c81-4d41-9fec-ecc4510a7100",
   "metadata": {},
   "outputs": [],
   "source": [
    "data = {'Release Year': ['Older Games', 'Newer Games'], 'Mean EU Sales': [Oldergames_mean, Newergames_mean]}\n",
    "sns.lineplot(x='Release Year', y='Mean EU Sales', data=data)\n",
    "plt.title('Comparison of Mean EU Sales by Release Year')\n",
    "plt.grid(True)  \n",
    "plt.tight_layout()\n",
    "plt.show()"
   ]
  },
  {
   "cell_type": "markdown",
   "id": "7f42ed59-e83b-4fea-94b9-e081a2b36f7c",
   "metadata": {},
   "source": [
    "**Results:**\n",
    "\n",
    "The graph shoes that the mean of the older games is higher than the one of the newer Games."
   ]
  },
  {
   "cell_type": "markdown",
   "id": "28b33de1",
   "metadata": {},
   "source": [
    "# What are the 3 most common “developer” in the dataset?  "
   ]
  },
  {
   "cell_type": "markdown",
   "id": "11106563-1add-4f5d-8497-e73f37cbe33f",
   "metadata": {},
   "source": [
    "--------------------------------------------------------------------------------------------------------"
   ]
  },
  {
   "cell_type": "markdown",
   "id": "62eb0f4c-3950-4761-8d1f-0f842629752f",
   "metadata": {},
   "source": [
    "This question asks about the frequency of the developer variable to identify which are the 3 most common developers in the dataset.\n",
    "\n",
    "Before answering the question with visualization it is important to see which observations are present inside the feature \"Developer\". For this the function **\".unique\"** comes to help."
   ]
  },
  {
   "cell_type": "code",
   "execution_count": null,
   "id": "77d4ffbe-8e68-42e2-a7d1-a127d60a4089",
   "metadata": {},
   "outputs": [],
   "source": [
    "df[\"Developer\"].unique"
   ]
  },
  {
   "cell_type": "markdown",
   "id": "bfa4904b-d79c-4a73-b893-7c72574deaee",
   "metadata": {},
   "source": [
    "during the process of filling the missing variable for categorical feature it has been used the label **\" Unknown\"** and when it will be counted how many times this is present is 6623 times making it the most present label in the feature. "
   ]
  },
  {
   "cell_type": "code",
   "execution_count": null,
   "id": "df084a12-f056-419f-904f-3515e5a3a2f2",
   "metadata": {},
   "outputs": [],
   "source": [
    "developer_counts = df[\"Developer\"].value_counts().sort_values(ascending=False)\n",
    "print(developer_counts)"
   ]
  },
  {
   "cell_type": "markdown",
   "id": "8a98a29b-ffd1-4acb-8322-7cd2d303eb7e",
   "metadata": {},
   "source": [
    "This could affect the results of the visualization so to remedy this challenge it has been created a dataset for the the most common developers that are less than 1000 times in the dataset. So due to that Unkown is 6623 times present in the dataset this will be removed and it can be discovered which are the 3 most common developers in the dataset:"
   ]
  },
  {
   "cell_type": "code",
   "execution_count": null,
   "id": "8fac2c94-c8a6-4f96-bc3e-7e1225094ab4",
   "metadata": {},
   "outputs": [],
   "source": [
    "most_common_developers = df[df[\"Developer\"].isin(developer_counts[developer_counts <1000].index)]"
   ]
  },
  {
   "cell_type": "code",
   "execution_count": null,
   "id": "3c5fc734-8853-4229-827b-b4efbe8e6c3d",
   "metadata": {},
   "outputs": [],
   "source": [
    "Developer_counts = most_common_developers['Developer'].value_counts().nlargest(3)\n",
    "top_Developer_counts = Developer_counts.index.to_list()\n",
    "top_Developer_counts"
   ]
  },
  {
   "cell_type": "markdown",
   "id": "b0cf6b1d-d1a6-412a-b9bb-21e17e104b7e",
   "metadata": {},
   "source": [
    "once the most 3 common developer has been identified it can be visualized with a barplot. The reason behind the barplot is that we are talking about a categorical variable and to identify the frequency of this one. So The barplot comes to help and it has been chosen the palette rocket to identify the different ones: "
   ]
  },
  {
   "cell_type": "code",
   "execution_count": null,
   "id": "2e3a203e-3182-4b82-b03c-3f58eb2494ac",
   "metadata": {},
   "outputs": [],
   "source": [
    "plt.figure(figsize=(12, 6))\n",
    "sns.barplot(x=top_Developer_counts, y=Developer_counts.values, palette='rocket')\n",
    "plt.title('Top 3 Developers in Dataset')\n",
    "plt.xlabel('Developer')\n",
    "plt.ylabel('Count')\n",
    "plt.grid(True)\n",
    "plt.xticks(rotation=45)\n",
    "plt.show()"
   ]
  },
  {
   "cell_type": "markdown",
   "id": "0d14a24c-42a6-448a-98e2-f8d098212bbe",
   "metadata": {},
   "source": [
    "**Results:**\n",
    "\n",
    "  1- Ubisoft\n",
    "  \n",
    "  2- EA sports\n",
    "  \n",
    "3- EA Canada"
   ]
  },
  {
   "cell_type": "markdown",
   "id": "a438e087",
   "metadata": {},
   "source": [
    "## Part 2: "
   ]
  },
  {
   "cell_type": "markdown",
   "id": "a6a4781e-2c54-4085-9e14-24952418b172",
   "metadata": {},
   "source": [
    "--------------------------------------------------------------------------------------------------------\n",
    "--------------------------------------------------------------------------------------------------------"
   ]
  },
  {
   "cell_type": "markdown",
   "id": "df74d636-c15a-4ab2-bfc2-c815df25c1b1",
   "metadata": {},
   "source": [
    "In this section, it will be identified statistical questions that are not been addressed before that will be relevant to the domain of videogames and identify sales strategies for the coming winter."
   ]
  },
  {
   "cell_type": "markdown",
   "id": "d9903803",
   "metadata": {},
   "source": [
    "# From where was the most amount of sales? EU_Sales? NA_Sales or JP_Sales on Global Sales? "
   ]
  },
  {
   "cell_type": "markdown",
   "id": "70f9532b-8b62-414e-a889-d29eb6b4a142",
   "metadata": {},
   "source": [
    "--------------------------------------------------------------------------------------------------------"
   ]
  },
  {
   "cell_type": "markdown",
   "id": "de03e23d-32d4-4a8a-bfad-0b9d3ef4409a",
   "metadata": {},
   "source": [
    "It is important to understand from which location the most amount of sales comes from. This helps to have a better understanding of the market to have a marketing strategy that can be based on specific location and also to set the sales resources in one part more than another one. \n",
    "\n",
    "To do so it is necessary at the beginning to have an overview of the whole sales for each location with the **\"sum\"** function"
   ]
  },
  {
   "cell_type": "code",
   "execution_count": null,
   "id": "f65255af",
   "metadata": {},
   "outputs": [],
   "source": [
    "total_eu_sales = df[\"EU_Sales\"].sum()\n",
    "total_na_sales = df[\"NA_Sales\"].sum()\n",
    "total_jp_sales = df[\"JP_Sales\"].sum()\n",
    "total_other_sales=df[\"Other_Sales\"].sum()\n",
    "print(f\"Total EU Sales: {total_eu_sales}\")\n",
    "print(f\"Total NA Sales: {total_na_sales}\")\n",
    "print(f\"Total JP Sales: {total_jp_sales}\")\n",
    "print(f\"Total other sales: {total_other_sales}\")"
   ]
  },
  {
   "cell_type": "markdown",
   "id": "7a004c7f-e98a-4191-8b51-a530ac21ba9d",
   "metadata": {},
   "source": [
    "It has been created data frame to organize and aggregate the data from the different locations so it can be used for the visualization: "
   ]
  },
  {
   "cell_type": "code",
   "execution_count": null,
   "id": "e3b77588",
   "metadata": {},
   "outputs": [],
   "source": [
    "sales_data = pd.DataFrame({\n",
    "    'Region': ['EU', 'NA', 'JP', 'Other'],\n",
    "    'Total Sales': [total_eu_sales, total_na_sales, total_jp_sales, total_other_sales]\n",
    "})"
   ]
  },
  {
   "cell_type": "markdown",
   "id": "49409abb-6a90-4005-86f9-7b1ec55abc37",
   "metadata": {},
   "source": [
    "The question is asking about the distribution of the sales based on the location so it will be visualized with a barplot to have a clear visual representation of it and also because they are categorical variables."
   ]
  },
  {
   "cell_type": "code",
   "execution_count": null,
   "id": "8e244881",
   "metadata": {},
   "outputs": [],
   "source": [
    "plt.figure(figsize=(10, 6))\n",
    "sns.barplot(data=sales_data, x='Region', y='Total Sales')\n",
    "plt.xlabel('Region')\n",
    "plt.ylabel('Total Sales')\n",
    "plt.title(\"Sales by Region\")\n",
    "plt.legend(labels=['EU:European','NA: North America', 'JP:Japan',\"other: Other Countries not included before\"], loc='upper right')\n",
    "plt.show()"
   ]
  },
  {
   "cell_type": "markdown",
   "id": "d6a7a475-52f5-4387-94e4-7f908521092d",
   "metadata": {},
   "source": [
    "**Results:**\n",
    "1- North America \n",
    "\n",
    "2- Europe\n",
    "\n",
    "4- Japan\n",
    "\n",
    "5- Others"
   ]
  },
  {
   "cell_type": "markdown",
   "id": "cbfb48cd",
   "metadata": {},
   "source": [
    "## Does some genre have better sales in a specific region? "
   ]
  },
  {
   "cell_type": "markdown",
   "id": "d755db36-8f97-424c-aaf5-13ba426c8355",
   "metadata": {},
   "source": [
    "--------------------------------------------------------------------------------------------------------"
   ]
  },
  {
   "cell_type": "markdown",
   "id": "b556666b-b6b8-4aea-9caf-a4479d0d517a",
   "metadata": {},
   "source": [
    "Knowing the genre of the sales in specific regions helps to have a targeted strategy for regions. \n",
    "\n",
    "This question is asking about the distribution of the genre for specific regions. For this reason is important to use the **\"melt\"** function to melt the data frame to have genre and region as a specific column that will be used to create a barplot which has been mentioned to be ideal for distribution: \n",
    "    "
   ]
  },
  {
   "cell_type": "code",
   "execution_count": null,
   "id": "b413c6d5",
   "metadata": {},
   "outputs": [],
   "source": [
    "genre_sales = df.groupby('Genre')[['EU_Sales', 'NA_Sales', 'JP_Sales', 'Other_Sales']].sum().reset_index()\n",
    "genre_sales_melted = genre_sales.melt(id_vars='Genre', var_name='Region', value_name='Total_Sales')\n",
    "plt.figure(figsize=(12, 6))\n",
    "sns.barplot(data=genre_sales_melted, x='Genre', y='Total_Sales', hue='Region', palette='Set2')\n",
    "plt.xlabel('Genre')\n",
    "plt.ylabel('Total Sales')\n",
    "plt.title('Total Sales of Each Genre in Each Region')\n",
    "plt.legend(title='Region', loc='upper right')\n",
    "plt.xticks(rotation=45)\n",
    "plt.tight_layout()\n",
    "plt.show()"
   ]
  },
  {
   "cell_type": "markdown",
   "id": "7346e8ab-e5be-4409-8300-241290417272",
   "metadata": {},
   "source": [
    "**Results:**\n",
    "\n",
    "- North America: has preferences in Action genre and also sports and shooter \n",
    "- in Europe: has preferences in Axtions sports and Shooter \n",
    "- Japan: Role-playing games\n",
    "- Other: Actions and sports "
   ]
  },
  {
   "cell_type": "markdown",
   "id": "482886e5-30eb-4752-a4c1-5941e3c201d3",
   "metadata": {},
   "source": [
    "## What is the most common Publisher? "
   ]
  },
  {
   "cell_type": "markdown",
   "id": "e613fedd-e6ae-4537-b0ab-18ea984f69a6",
   "metadata": {},
   "source": [
    "--------------------------------------------------------------------------------------------------------"
   ]
  },
  {
   "cell_type": "markdown",
   "id": "936c448b-6d01-4066-8ffe-68f75ebb891a",
   "metadata": {},
   "source": [
    "It is also important to know who is the most common publisher to see if there are preferences among the audience about it. The principle is the same as the question of the most common developer but in this case, it is analyzed the publisher:"
   ]
  },
  {
   "cell_type": "code",
   "execution_count": null,
   "id": "67b6e0a4-a825-4e75-8179-a01c6e9c0608",
   "metadata": {},
   "outputs": [],
   "source": [
    "df[\"Publisher\"].unique"
   ]
  },
  {
   "cell_type": "code",
   "execution_count": null,
   "id": "c00eeaff-b2f0-42ca-9e1e-97ed2015ea9b",
   "metadata": {},
   "outputs": [],
   "source": [
    "publisher_counts = df[\"Publisher\"].value_counts().sort_values(ascending=False)\n",
    "print(publisher_counts)"
   ]
  },
  {
   "cell_type": "code",
   "execution_count": null,
   "id": "32481bb3-b255-4f81-ac38-9ede364ce222",
   "metadata": {},
   "outputs": [],
   "source": [
    "most_common_publisher= df[df[\"Publisher\"].isin(publisher_counts[publisher_counts > 900].index)]"
   ]
  },
  {
   "cell_type": "code",
   "execution_count": null,
   "id": "9328585e-2369-47bf-923a-8f91d77cf7e0",
   "metadata": {},
   "outputs": [],
   "source": [
    "In this case it has been utilized for the visualization a histogram. An histogram is iuseful for visualize the distribution "
   ]
  },
  {
   "cell_type": "code",
   "execution_count": null,
   "id": "ff74129f-a587-455d-a6d3-2b42ea1c0aef",
   "metadata": {},
   "outputs": [],
   "source": [
    "plt.figure(figsize=(20, 10))\n",
    "sns.histplot(most_common_publisher[\"Publisher\"],color=\"green\");\n",
    "plt.title('Most Commun Publisher in dataset')\n",
    "plt.grid(True)\n",
    "plt.xticks(rotation=45)\n",
    "plt.show()"
   ]
  },
  {
   "cell_type": "markdown",
   "id": "6a967471-78d2-4e47-8ced-bc1cf11fe9e8",
   "metadata": {},
   "source": [
    "**Results:**\n",
    "\n",
    "Most common published are:\n",
    "\n",
    "- Electronic Arts \n",
    "- Activision\n",
    "- Namco Bandai Games\n",
    "- Ubisoft "
   ]
  },
  {
   "cell_type": "markdown",
   "id": "0da23cac-2a85-4b70-81f3-2a1c1da92bab",
   "metadata": {},
   "source": [
    "# Conclusion: "
   ]
  },
  {
   "attachments": {},
   "cell_type": "markdown",
   "id": "05759ae7-df74-4d5f-b243-eaa33d1b8b8f",
   "metadata": {},
   "source": [
    "In conclusion, the analysis of the video game dataset has given insights that can be used for the upcoming winter season. \n",
    "\n",
    "**Global sales the top 5 games** = Utilizing a Barplot to visualize the distribution and frequency of the games for Global Sales it has been discovered that the most popular 5 games are: \n",
    "\n",
    "Wii Sports\n",
    "Super Mario Bros\n",
    "Mario Kart Wii\n",
    "Wii Sports Resort\n",
    "Pokemon Red/Pokemon Blue.\n",
    "\n",
    "**Correlation between NA Sales and JP Sales ( 2010-2014)**= Thanks to the scatterplot that shows correlation it has been discovered that there is none \n",
    "\n",
    "**Distribution of the 4 Game Genres**= Using the histogram it has been discovered that \n",
    "- Actions\n",
    "- Sports\n",
    "- Misc\n",
    "- Role-playing\n",
    "\n",
    "**Comparison of Mean EU Sales for Games Before and after 2005**= A line chart shows the comparison between the mean discovering that the older games have a higher one.\n",
    "\n",
    "**Most common developer**= The barplot shows that the frequency for the most common developer are: \n",
    "\n",
    "- Ubisoft\n",
    "- EA Sports\n",
    "- EA Canada\n",
    "\n",
    "**Sales analysis for regions**= Using a barplot it has been discovered that North America should be the main focus for the future season because in the past it has proved to be the one that has the more spending so it will be the one that will have more Return of Investment. \n",
    "\n",
    "**Genre preferences among regions**= Using the Barplot it has been showing that the upcoming season should focus for North America on Actions and Sports Gaming. \n",
    "\n",
    "** Most common developer**= Using a histogram of the Electronic arts developer which is worth it in the future to take a look for focusing the sales. \n",
    "\n",
    "In summary, the visualization provides valuable insights that can be used to find trends and base future sales strategy for the upcoming Winter Season. \n",
    "\n"
   ]
  },
  {
   "cell_type": "code",
   "execution_count": null,
   "id": "34600e18-73cf-4c68-93ce-05f2e9dd7329",
   "metadata": {},
   "outputs": [],
   "source": []
  },
  {
   "cell_type": "markdown",
   "id": "8b766727",
   "metadata": {},
   "source": [
    "# References: "
   ]
  },
  {
   "cell_type": "markdown",
   "id": "c4e3b9f8",
   "metadata": {},
   "source": [
    "- Chia, Austin . “How to Make a Seaborn Histogram: A Detailed Guide.” Https://Www.datacamp.com/Tutorial/How-To-Make-a-Seaborn-Histogram, Austin Chia , Jan. 2024, www.datacamp.com/tutorial/how-to-make-a-seaborn-histogram. Accessed 24 Mar. 2024.\n",
    "- “How to Sum Columns with a Duplicate Name with Pandas?” Stack Overflow, stackoverflow.com/questions/61161241/how-to-sum-columns-with-a-duplicate-name-with-pandas. Accessed 24 Mar. 2024. \n",
    "- “Seaborn.barplot — Seaborn 0.11.1 Documentation.” Seaborn.pydata.org, seaborn.pydata.org/generated/seaborn.barplot.html.\n",
    "- “Matplotlib.pyplot.legend — Matplotlib 3.3.4 Documentation.” Matplotlib.org, matplotlib.org/stable/api/_as_gen/matplotlib.pyplot.legend.html.\n",
    "- “Pandas.DataFrame.shape — Pandas 2.2.1 Documentation.” Pandas.pydata.org, pandas.pydata.org/pandas-docs/stable/reference/api/pandas.DataFrame.shape.html#pandas.DataFrame.shape. Accessed 24 Mar. 2024.\n",
    "-  “How to Do Arrows in Markdown.” Reimbar.org, 7 Aug. 2019, reimbar.org/dev/arrows/.\n",
    "-  “How to Do Arrows in Markdown.” Reimbar.org, 7 Aug. 2019, reimbar.org/dev/arrows/.\n",
    "-  Sharma, Abhishek. “What Is Skewness in Statistics? | Statistics for Data Science.” Analytics Vidhya, 5 July 2020, www.analyticsvidhya.com/blog/2020/07/what-is-skewness-statistics/.\n",
    "-  Firdose, Tahera. “Filling Missing Values with Mean and Median.” Medium, 29 May 2023, tahera-firdose.medium.com/filling-missing-values-with-mean-and-median-76635d55c1bc.\n",
    "-  “Pandas.DataFrame.fillna — Pandas 1.4.1 Documentation.” Pandas.pydata.org, pandas.pydata.org/docs/reference/api/pandas.DataFrame.fillna.html.\n",
    "-  “Pandas.DataFrame.replace — Pandas 1.1.4 Documentation.” Pandas.pydata.org, pandas.pydata.org/pandas-docs/stable/reference/api/pandas.DataFrame.replace.html.\n",
    "-  “Bar Plots in Python | Beginner’s Guide to Data Visualization Using Bar Plots.” Analytics Vidhya, 8 Aug. 2021, www.analyticsvidhya.com/blog/2021/08/understanding-bar-plots-in-python-beginners-guide-to-data-visualization/\n",
    "-  seaborn. “Choosing Color Palettes — Seaborn 0.9.0 Documentation.” Pydata.org, 2013, seaborn.pydata.org/tutorial/color_palettes.html.\n",
    "- Holtz, Yan. “Barplot.” The Python Graph Gallery, python-graph-gallery.com/barplot/. Accessed 2 Apr. 2024.\n",
    "- Atlassian. “Mastering Scatter Plots: Visualize Data Correlations.” Atlassian, www.atlassian.com/data/charts/what-is-a-scatter-plot#:~:text=What%20is%20a%20scatter%20plot.\n",
    "- Mindrila, Diana, and Phoebe Balentyne. Scatterplots and Correlation. 2017.\n",
    "-“Visualizing Distributions of Data — Seaborn 0.13.2 Documentation.” Seaborn.pydata.org, seaborn.pydata.org/tutorial/distributions.html#plotting-univariate-histograms. Accessed 4 Apr. 2024.\n",
    "\n",
    "-“Seaborn.lineplot — Seaborn 0.11.2 Documentation.” Seaborn.pydata.org, seaborn.pydata.org/generated/seaborn.lineplot.html.\n",
    "- “Sum() Function in Python.” GeeksforGeeks, 24 Nov. 2017, www.geeksforgeeks.org/sum-function-python/.\n",
    "- Atlassian. “A Complete Guide to Line Charts.” Atlassian, Mike Yi, www.atlassian.com/data/charts/line-chart-complete-guide.\n",
    "- “Pandas.melt — Pandas 1.4.4 Documentation.” Pandas.pydata.org, pandas.pydata.org/docs/reference/api/pandas.melt.html.\n",
    "- “Pandas.DataFrame.groupby — Pandas 1.3.0 Documentation.” Pandas.pydata.org, pandas.pydata.org/pandas-docs/stable/reference/api/pandas.DataFrame.groupby.html.\n",
    "- “Visualizing Missing Data.” Kaggle.com, www.kaggle.com/code/selahattinsanli/visualizing-missing-data.\n"
   ]
  },
  {
   "cell_type": "code",
   "execution_count": null,
   "id": "9e2177db",
   "metadata": {},
   "outputs": [],
   "source": []
  }
 ],
 "metadata": {
  "kernelspec": {
   "display_name": "Python 3 (ipykernel)",
   "language": "python",
   "name": "python3"
  },
  "language_info": {
   "codemirror_mode": {
    "name": "ipython",
    "version": 3
   },
   "file_extension": ".py",
   "mimetype": "text/x-python",
   "name": "python",
   "nbconvert_exporter": "python",
   "pygments_lexer": "ipython3",
   "version": "3.11.5"
  }
 },
 "nbformat": 4,
 "nbformat_minor": 5
}

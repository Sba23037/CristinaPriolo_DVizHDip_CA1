{
 "cells": [
  {
   "cell_type": "markdown",
   "id": "24e452f7",
   "metadata": {},
   "source": [
    "# Introduction: "
   ]
  },
  {
   "cell_type": "markdown",
   "id": "699811ea",
   "metadata": {},
   "source": [
    "In the domain of the retail company of videogames the dataset VGsales is going to be analized to determinate sales strategy for the coming winter season. To do so it will be first used the library and import the dataset. Missing variable will be checked and filled with the different EDA procedure to pass to answer some question with visualizations. "
   ]
  },
  {
   "cell_type": "code",
   "execution_count": 1,
   "id": "f0d6f97d",
   "metadata": {},
   "outputs": [],
   "source": [
    "import pandas as pd\n",
    "%matplotlib inline\n",
    "import numpy as np\n",
    "import matplotlib.pyplot as plt\n",
    "import seaborn as sns\n",
    "sns.set()"
   ]
  },
  {
   "cell_type": "code",
   "execution_count": 2,
   "id": "d995f6f6",
   "metadata": {},
   "outputs": [],
   "source": [
    "df=pd.read_csv(\"vgsales.csv\")"
   ]
  },
  {
   "cell_type": "code",
   "execution_count": 3,
   "id": "3d467f6d",
   "metadata": {},
   "outputs": [
    {
     "data": {
      "text/plain": [
       "(16719, 16)"
      ]
     },
     "execution_count": 3,
     "metadata": {},
     "output_type": "execute_result"
    }
   ],
   "source": [
    "df.shape"
   ]
  },
  {
   "cell_type": "code",
   "execution_count": 4,
   "id": "d6974bf3",
   "metadata": {},
   "outputs": [
    {
     "name": "stdout",
     "output_type": "stream",
     "text": [
      "<class 'pandas.core.frame.DataFrame'>\n",
      "RangeIndex: 16719 entries, 0 to 16718\n",
      "Data columns (total 16 columns):\n",
      " #   Column           Non-Null Count  Dtype  \n",
      "---  ------           --------------  -----  \n",
      " 0   Name             16717 non-null  object \n",
      " 1   Platform         16719 non-null  object \n",
      " 2   Year_of_Release  16450 non-null  float64\n",
      " 3   Genre            16717 non-null  object \n",
      " 4   Publisher        16665 non-null  object \n",
      " 5   NA_Sales         16719 non-null  float64\n",
      " 6   EU_Sales         16719 non-null  float64\n",
      " 7   JP_Sales         16719 non-null  float64\n",
      " 8   Other_Sales      16719 non-null  float64\n",
      " 9   Global_Sales     16719 non-null  float64\n",
      " 10  Critic_Score     8137 non-null   float64\n",
      " 11  Critic_Count     8137 non-null   float64\n",
      " 12  User_Score       10015 non-null  object \n",
      " 13  User_Count       7590 non-null   float64\n",
      " 14  Developer        10096 non-null  object \n",
      " 15  Rating           9950 non-null   object \n",
      "dtypes: float64(9), object(7)\n",
      "memory usage: 2.0+ MB\n"
     ]
    }
   ],
   "source": [
    "df.info()"
   ]
  },
  {
   "cell_type": "code",
   "execution_count": 5,
   "id": "db7a49ea",
   "metadata": {},
   "outputs": [
    {
     "data": {
      "text/html": [
       "<div>\n",
       "<style scoped>\n",
       "    .dataframe tbody tr th:only-of-type {\n",
       "        vertical-align: middle;\n",
       "    }\n",
       "\n",
       "    .dataframe tbody tr th {\n",
       "        vertical-align: top;\n",
       "    }\n",
       "\n",
       "    .dataframe thead th {\n",
       "        text-align: right;\n",
       "    }\n",
       "</style>\n",
       "<table border=\"1\" class=\"dataframe\">\n",
       "  <thead>\n",
       "    <tr style=\"text-align: right;\">\n",
       "      <th></th>\n",
       "      <th>Name</th>\n",
       "      <th>Platform</th>\n",
       "      <th>Genre</th>\n",
       "      <th>Publisher</th>\n",
       "      <th>User_Score</th>\n",
       "      <th>Developer</th>\n",
       "      <th>Rating</th>\n",
       "    </tr>\n",
       "  </thead>\n",
       "  <tbody>\n",
       "    <tr>\n",
       "      <th>count</th>\n",
       "      <td>16717</td>\n",
       "      <td>16719</td>\n",
       "      <td>16717</td>\n",
       "      <td>16665</td>\n",
       "      <td>10015</td>\n",
       "      <td>10096</td>\n",
       "      <td>9950</td>\n",
       "    </tr>\n",
       "    <tr>\n",
       "      <th>unique</th>\n",
       "      <td>11562</td>\n",
       "      <td>31</td>\n",
       "      <td>12</td>\n",
       "      <td>581</td>\n",
       "      <td>96</td>\n",
       "      <td>1696</td>\n",
       "      <td>8</td>\n",
       "    </tr>\n",
       "    <tr>\n",
       "      <th>top</th>\n",
       "      <td>Need for Speed: Most Wanted</td>\n",
       "      <td>PS2</td>\n",
       "      <td>Action</td>\n",
       "      <td>Electronic Arts</td>\n",
       "      <td>tbd</td>\n",
       "      <td>Ubisoft</td>\n",
       "      <td>E</td>\n",
       "    </tr>\n",
       "    <tr>\n",
       "      <th>freq</th>\n",
       "      <td>12</td>\n",
       "      <td>2161</td>\n",
       "      <td>3370</td>\n",
       "      <td>1356</td>\n",
       "      <td>2425</td>\n",
       "      <td>204</td>\n",
       "      <td>3991</td>\n",
       "    </tr>\n",
       "  </tbody>\n",
       "</table>\n",
       "</div>"
      ],
      "text/plain": [
       "                               Name Platform   Genre        Publisher  \\\n",
       "count                         16717    16719   16717            16665   \n",
       "unique                        11562       31      12              581   \n",
       "top     Need for Speed: Most Wanted      PS2  Action  Electronic Arts   \n",
       "freq                             12     2161    3370             1356   \n",
       "\n",
       "       User_Score Developer Rating  \n",
       "count       10015     10096   9950  \n",
       "unique         96      1696      8  \n",
       "top           tbd   Ubisoft      E  \n",
       "freq         2425       204   3991  "
      ]
     },
     "execution_count": 5,
     "metadata": {},
     "output_type": "execute_result"
    }
   ],
   "source": [
    "df.describe(include=object)"
   ]
  },
  {
   "cell_type": "code",
   "execution_count": 6,
   "id": "c769665e",
   "metadata": {},
   "outputs": [
    {
     "data": {
      "text/html": [
       "<div>\n",
       "<style scoped>\n",
       "    .dataframe tbody tr th:only-of-type {\n",
       "        vertical-align: middle;\n",
       "    }\n",
       "\n",
       "    .dataframe tbody tr th {\n",
       "        vertical-align: top;\n",
       "    }\n",
       "\n",
       "    .dataframe thead th {\n",
       "        text-align: right;\n",
       "    }\n",
       "</style>\n",
       "<table border=\"1\" class=\"dataframe\">\n",
       "  <thead>\n",
       "    <tr style=\"text-align: right;\">\n",
       "      <th></th>\n",
       "      <th>Year_of_Release</th>\n",
       "      <th>NA_Sales</th>\n",
       "      <th>EU_Sales</th>\n",
       "      <th>JP_Sales</th>\n",
       "      <th>Other_Sales</th>\n",
       "      <th>Global_Sales</th>\n",
       "      <th>Critic_Score</th>\n",
       "      <th>Critic_Count</th>\n",
       "      <th>User_Count</th>\n",
       "    </tr>\n",
       "  </thead>\n",
       "  <tbody>\n",
       "    <tr>\n",
       "      <th>count</th>\n",
       "      <td>16450.000000</td>\n",
       "      <td>16719.000000</td>\n",
       "      <td>16719.000000</td>\n",
       "      <td>16719.000000</td>\n",
       "      <td>16719.000000</td>\n",
       "      <td>16719.000000</td>\n",
       "      <td>8137.000000</td>\n",
       "      <td>8137.000000</td>\n",
       "      <td>7590.000000</td>\n",
       "    </tr>\n",
       "    <tr>\n",
       "      <th>mean</th>\n",
       "      <td>2006.487356</td>\n",
       "      <td>0.263330</td>\n",
       "      <td>0.145025</td>\n",
       "      <td>0.077602</td>\n",
       "      <td>0.047332</td>\n",
       "      <td>0.533543</td>\n",
       "      <td>68.967679</td>\n",
       "      <td>26.360821</td>\n",
       "      <td>162.229908</td>\n",
       "    </tr>\n",
       "    <tr>\n",
       "      <th>std</th>\n",
       "      <td>5.878995</td>\n",
       "      <td>0.813514</td>\n",
       "      <td>0.503283</td>\n",
       "      <td>0.308818</td>\n",
       "      <td>0.186710</td>\n",
       "      <td>1.547935</td>\n",
       "      <td>13.938165</td>\n",
       "      <td>18.980495</td>\n",
       "      <td>561.282326</td>\n",
       "    </tr>\n",
       "    <tr>\n",
       "      <th>min</th>\n",
       "      <td>1980.000000</td>\n",
       "      <td>0.000000</td>\n",
       "      <td>0.000000</td>\n",
       "      <td>0.000000</td>\n",
       "      <td>0.000000</td>\n",
       "      <td>0.010000</td>\n",
       "      <td>13.000000</td>\n",
       "      <td>3.000000</td>\n",
       "      <td>4.000000</td>\n",
       "    </tr>\n",
       "    <tr>\n",
       "      <th>25%</th>\n",
       "      <td>2003.000000</td>\n",
       "      <td>0.000000</td>\n",
       "      <td>0.000000</td>\n",
       "      <td>0.000000</td>\n",
       "      <td>0.000000</td>\n",
       "      <td>0.060000</td>\n",
       "      <td>60.000000</td>\n",
       "      <td>12.000000</td>\n",
       "      <td>10.000000</td>\n",
       "    </tr>\n",
       "    <tr>\n",
       "      <th>50%</th>\n",
       "      <td>2007.000000</td>\n",
       "      <td>0.080000</td>\n",
       "      <td>0.020000</td>\n",
       "      <td>0.000000</td>\n",
       "      <td>0.010000</td>\n",
       "      <td>0.170000</td>\n",
       "      <td>71.000000</td>\n",
       "      <td>21.000000</td>\n",
       "      <td>24.000000</td>\n",
       "    </tr>\n",
       "    <tr>\n",
       "      <th>75%</th>\n",
       "      <td>2010.000000</td>\n",
       "      <td>0.240000</td>\n",
       "      <td>0.110000</td>\n",
       "      <td>0.040000</td>\n",
       "      <td>0.030000</td>\n",
       "      <td>0.470000</td>\n",
       "      <td>79.000000</td>\n",
       "      <td>36.000000</td>\n",
       "      <td>81.000000</td>\n",
       "    </tr>\n",
       "    <tr>\n",
       "      <th>max</th>\n",
       "      <td>2020.000000</td>\n",
       "      <td>41.360000</td>\n",
       "      <td>28.960000</td>\n",
       "      <td>10.220000</td>\n",
       "      <td>10.570000</td>\n",
       "      <td>82.530000</td>\n",
       "      <td>98.000000</td>\n",
       "      <td>113.000000</td>\n",
       "      <td>10665.000000</td>\n",
       "    </tr>\n",
       "  </tbody>\n",
       "</table>\n",
       "</div>"
      ],
      "text/plain": [
       "       Year_of_Release      NA_Sales      EU_Sales      JP_Sales  \\\n",
       "count     16450.000000  16719.000000  16719.000000  16719.000000   \n",
       "mean       2006.487356      0.263330      0.145025      0.077602   \n",
       "std           5.878995      0.813514      0.503283      0.308818   \n",
       "min        1980.000000      0.000000      0.000000      0.000000   \n",
       "25%        2003.000000      0.000000      0.000000      0.000000   \n",
       "50%        2007.000000      0.080000      0.020000      0.000000   \n",
       "75%        2010.000000      0.240000      0.110000      0.040000   \n",
       "max        2020.000000     41.360000     28.960000     10.220000   \n",
       "\n",
       "        Other_Sales  Global_Sales  Critic_Score  Critic_Count    User_Count  \n",
       "count  16719.000000  16719.000000   8137.000000   8137.000000   7590.000000  \n",
       "mean       0.047332      0.533543     68.967679     26.360821    162.229908  \n",
       "std        0.186710      1.547935     13.938165     18.980495    561.282326  \n",
       "min        0.000000      0.010000     13.000000      3.000000      4.000000  \n",
       "25%        0.000000      0.060000     60.000000     12.000000     10.000000  \n",
       "50%        0.010000      0.170000     71.000000     21.000000     24.000000  \n",
       "75%        0.030000      0.470000     79.000000     36.000000     81.000000  \n",
       "max       10.570000     82.530000     98.000000    113.000000  10665.000000  "
      ]
     },
     "execution_count": 6,
     "metadata": {},
     "output_type": "execute_result"
    }
   ],
   "source": [
    "df.describe(include=float)"
   ]
  },
  {
   "cell_type": "code",
   "execution_count": 7,
   "id": "2c61b483",
   "metadata": {},
   "outputs": [
    {
     "name": "stdout",
     "output_type": "stream",
     "text": [
      "The data set has 16719 rows and 16 columns\n"
     ]
    },
    {
     "data": {
      "text/html": [
       "<div>\n",
       "<style scoped>\n",
       "    .dataframe tbody tr th:only-of-type {\n",
       "        vertical-align: middle;\n",
       "    }\n",
       "\n",
       "    .dataframe tbody tr th {\n",
       "        vertical-align: top;\n",
       "    }\n",
       "\n",
       "    .dataframe thead th {\n",
       "        text-align: right;\n",
       "    }\n",
       "</style>\n",
       "<table border=\"1\" class=\"dataframe\">\n",
       "  <thead>\n",
       "    <tr style=\"text-align: right;\">\n",
       "      <th></th>\n",
       "      <th>Year_of_Release</th>\n",
       "      <th>NA_Sales</th>\n",
       "      <th>EU_Sales</th>\n",
       "      <th>JP_Sales</th>\n",
       "      <th>Other_Sales</th>\n",
       "      <th>Global_Sales</th>\n",
       "      <th>Critic_Score</th>\n",
       "      <th>Critic_Count</th>\n",
       "      <th>User_Count</th>\n",
       "    </tr>\n",
       "  </thead>\n",
       "  <tbody>\n",
       "    <tr>\n",
       "      <th>count</th>\n",
       "      <td>16450.000000</td>\n",
       "      <td>16719.000000</td>\n",
       "      <td>16719.000000</td>\n",
       "      <td>16719.000000</td>\n",
       "      <td>16719.000000</td>\n",
       "      <td>16719.000000</td>\n",
       "      <td>8137.000000</td>\n",
       "      <td>8137.000000</td>\n",
       "      <td>7590.000000</td>\n",
       "    </tr>\n",
       "    <tr>\n",
       "      <th>mean</th>\n",
       "      <td>2006.487356</td>\n",
       "      <td>0.263330</td>\n",
       "      <td>0.145025</td>\n",
       "      <td>0.077602</td>\n",
       "      <td>0.047332</td>\n",
       "      <td>0.533543</td>\n",
       "      <td>68.967679</td>\n",
       "      <td>26.360821</td>\n",
       "      <td>162.229908</td>\n",
       "    </tr>\n",
       "    <tr>\n",
       "      <th>std</th>\n",
       "      <td>5.878995</td>\n",
       "      <td>0.813514</td>\n",
       "      <td>0.503283</td>\n",
       "      <td>0.308818</td>\n",
       "      <td>0.186710</td>\n",
       "      <td>1.547935</td>\n",
       "      <td>13.938165</td>\n",
       "      <td>18.980495</td>\n",
       "      <td>561.282326</td>\n",
       "    </tr>\n",
       "    <tr>\n",
       "      <th>min</th>\n",
       "      <td>1980.000000</td>\n",
       "      <td>0.000000</td>\n",
       "      <td>0.000000</td>\n",
       "      <td>0.000000</td>\n",
       "      <td>0.000000</td>\n",
       "      <td>0.010000</td>\n",
       "      <td>13.000000</td>\n",
       "      <td>3.000000</td>\n",
       "      <td>4.000000</td>\n",
       "    </tr>\n",
       "    <tr>\n",
       "      <th>25%</th>\n",
       "      <td>2003.000000</td>\n",
       "      <td>0.000000</td>\n",
       "      <td>0.000000</td>\n",
       "      <td>0.000000</td>\n",
       "      <td>0.000000</td>\n",
       "      <td>0.060000</td>\n",
       "      <td>60.000000</td>\n",
       "      <td>12.000000</td>\n",
       "      <td>10.000000</td>\n",
       "    </tr>\n",
       "    <tr>\n",
       "      <th>50%</th>\n",
       "      <td>2007.000000</td>\n",
       "      <td>0.080000</td>\n",
       "      <td>0.020000</td>\n",
       "      <td>0.000000</td>\n",
       "      <td>0.010000</td>\n",
       "      <td>0.170000</td>\n",
       "      <td>71.000000</td>\n",
       "      <td>21.000000</td>\n",
       "      <td>24.000000</td>\n",
       "    </tr>\n",
       "    <tr>\n",
       "      <th>75%</th>\n",
       "      <td>2010.000000</td>\n",
       "      <td>0.240000</td>\n",
       "      <td>0.110000</td>\n",
       "      <td>0.040000</td>\n",
       "      <td>0.030000</td>\n",
       "      <td>0.470000</td>\n",
       "      <td>79.000000</td>\n",
       "      <td>36.000000</td>\n",
       "      <td>81.000000</td>\n",
       "    </tr>\n",
       "    <tr>\n",
       "      <th>max</th>\n",
       "      <td>2020.000000</td>\n",
       "      <td>41.360000</td>\n",
       "      <td>28.960000</td>\n",
       "      <td>10.220000</td>\n",
       "      <td>10.570000</td>\n",
       "      <td>82.530000</td>\n",
       "      <td>98.000000</td>\n",
       "      <td>113.000000</td>\n",
       "      <td>10665.000000</td>\n",
       "    </tr>\n",
       "  </tbody>\n",
       "</table>\n",
       "</div>"
      ],
      "text/plain": [
       "       Year_of_Release      NA_Sales      EU_Sales      JP_Sales  \\\n",
       "count     16450.000000  16719.000000  16719.000000  16719.000000   \n",
       "mean       2006.487356      0.263330      0.145025      0.077602   \n",
       "std           5.878995      0.813514      0.503283      0.308818   \n",
       "min        1980.000000      0.000000      0.000000      0.000000   \n",
       "25%        2003.000000      0.000000      0.000000      0.000000   \n",
       "50%        2007.000000      0.080000      0.020000      0.000000   \n",
       "75%        2010.000000      0.240000      0.110000      0.040000   \n",
       "max        2020.000000     41.360000     28.960000     10.220000   \n",
       "\n",
       "        Other_Sales  Global_Sales  Critic_Score  Critic_Count    User_Count  \n",
       "count  16719.000000  16719.000000   8137.000000   8137.000000   7590.000000  \n",
       "mean       0.047332      0.533543     68.967679     26.360821    162.229908  \n",
       "std        0.186710      1.547935     13.938165     18.980495    561.282326  \n",
       "min        0.000000      0.010000     13.000000      3.000000      4.000000  \n",
       "25%        0.000000      0.060000     60.000000     12.000000     10.000000  \n",
       "50%        0.010000      0.170000     71.000000     21.000000     24.000000  \n",
       "75%        0.030000      0.470000     79.000000     36.000000     81.000000  \n",
       "max       10.570000     82.530000     98.000000    113.000000  10665.000000  "
      ]
     },
     "metadata": {},
     "output_type": "display_data"
    },
    {
     "data": {
      "text/html": [
       "<div>\n",
       "<style scoped>\n",
       "    .dataframe tbody tr th:only-of-type {\n",
       "        vertical-align: middle;\n",
       "    }\n",
       "\n",
       "    .dataframe tbody tr th {\n",
       "        vertical-align: top;\n",
       "    }\n",
       "\n",
       "    .dataframe thead th {\n",
       "        text-align: right;\n",
       "    }\n",
       "</style>\n",
       "<table border=\"1\" class=\"dataframe\">\n",
       "  <thead>\n",
       "    <tr style=\"text-align: right;\">\n",
       "      <th></th>\n",
       "      <th>Name</th>\n",
       "      <th>Platform</th>\n",
       "      <th>Year_of_Release</th>\n",
       "      <th>Genre</th>\n",
       "      <th>Publisher</th>\n",
       "      <th>NA_Sales</th>\n",
       "      <th>EU_Sales</th>\n",
       "      <th>JP_Sales</th>\n",
       "      <th>Other_Sales</th>\n",
       "      <th>Global_Sales</th>\n",
       "      <th>Critic_Score</th>\n",
       "      <th>Critic_Count</th>\n",
       "      <th>User_Score</th>\n",
       "      <th>User_Count</th>\n",
       "      <th>Developer</th>\n",
       "      <th>Rating</th>\n",
       "    </tr>\n",
       "  </thead>\n",
       "  <tbody>\n",
       "    <tr>\n",
       "      <th>0</th>\n",
       "      <td>Wii Sports</td>\n",
       "      <td>Wii</td>\n",
       "      <td>2006.0</td>\n",
       "      <td>Sports</td>\n",
       "      <td>Nintendo</td>\n",
       "      <td>41.36</td>\n",
       "      <td>28.96</td>\n",
       "      <td>3.77</td>\n",
       "      <td>8.45</td>\n",
       "      <td>82.53</td>\n",
       "      <td>76.0</td>\n",
       "      <td>51.0</td>\n",
       "      <td>8</td>\n",
       "      <td>322.0</td>\n",
       "      <td>Nintendo</td>\n",
       "      <td>E</td>\n",
       "    </tr>\n",
       "    <tr>\n",
       "      <th>1</th>\n",
       "      <td>Super Mario Bros.</td>\n",
       "      <td>NES</td>\n",
       "      <td>1985.0</td>\n",
       "      <td>Platform</td>\n",
       "      <td>Nintendo</td>\n",
       "      <td>29.08</td>\n",
       "      <td>3.58</td>\n",
       "      <td>6.81</td>\n",
       "      <td>0.77</td>\n",
       "      <td>40.24</td>\n",
       "      <td>NaN</td>\n",
       "      <td>NaN</td>\n",
       "      <td>NaN</td>\n",
       "      <td>NaN</td>\n",
       "      <td>NaN</td>\n",
       "      <td>NaN</td>\n",
       "    </tr>\n",
       "    <tr>\n",
       "      <th>2</th>\n",
       "      <td>Mario Kart Wii</td>\n",
       "      <td>Wii</td>\n",
       "      <td>2008.0</td>\n",
       "      <td>Racing</td>\n",
       "      <td>Nintendo</td>\n",
       "      <td>15.68</td>\n",
       "      <td>12.76</td>\n",
       "      <td>3.79</td>\n",
       "      <td>3.29</td>\n",
       "      <td>35.52</td>\n",
       "      <td>82.0</td>\n",
       "      <td>73.0</td>\n",
       "      <td>8.3</td>\n",
       "      <td>709.0</td>\n",
       "      <td>Nintendo</td>\n",
       "      <td>E</td>\n",
       "    </tr>\n",
       "    <tr>\n",
       "      <th>3</th>\n",
       "      <td>Wii Sports Resort</td>\n",
       "      <td>Wii</td>\n",
       "      <td>2009.0</td>\n",
       "      <td>Sports</td>\n",
       "      <td>Nintendo</td>\n",
       "      <td>15.61</td>\n",
       "      <td>10.93</td>\n",
       "      <td>3.28</td>\n",
       "      <td>2.95</td>\n",
       "      <td>32.77</td>\n",
       "      <td>80.0</td>\n",
       "      <td>73.0</td>\n",
       "      <td>8</td>\n",
       "      <td>192.0</td>\n",
       "      <td>Nintendo</td>\n",
       "      <td>E</td>\n",
       "    </tr>\n",
       "    <tr>\n",
       "      <th>4</th>\n",
       "      <td>Pokemon Red/Pokemon Blue</td>\n",
       "      <td>GB</td>\n",
       "      <td>1996.0</td>\n",
       "      <td>Role-Playing</td>\n",
       "      <td>Nintendo</td>\n",
       "      <td>11.27</td>\n",
       "      <td>8.89</td>\n",
       "      <td>10.22</td>\n",
       "      <td>1.00</td>\n",
       "      <td>31.37</td>\n",
       "      <td>NaN</td>\n",
       "      <td>NaN</td>\n",
       "      <td>NaN</td>\n",
       "      <td>NaN</td>\n",
       "      <td>NaN</td>\n",
       "      <td>NaN</td>\n",
       "    </tr>\n",
       "  </tbody>\n",
       "</table>\n",
       "</div>"
      ],
      "text/plain": [
       "                       Name Platform  Year_of_Release         Genre Publisher  \\\n",
       "0                Wii Sports      Wii           2006.0        Sports  Nintendo   \n",
       "1         Super Mario Bros.      NES           1985.0      Platform  Nintendo   \n",
       "2            Mario Kart Wii      Wii           2008.0        Racing  Nintendo   \n",
       "3         Wii Sports Resort      Wii           2009.0        Sports  Nintendo   \n",
       "4  Pokemon Red/Pokemon Blue       GB           1996.0  Role-Playing  Nintendo   \n",
       "\n",
       "   NA_Sales  EU_Sales  JP_Sales  Other_Sales  Global_Sales  Critic_Score  \\\n",
       "0     41.36     28.96      3.77         8.45         82.53          76.0   \n",
       "1     29.08      3.58      6.81         0.77         40.24           NaN   \n",
       "2     15.68     12.76      3.79         3.29         35.52          82.0   \n",
       "3     15.61     10.93      3.28         2.95         32.77          80.0   \n",
       "4     11.27      8.89     10.22         1.00         31.37           NaN   \n",
       "\n",
       "   Critic_Count User_Score  User_Count Developer Rating  \n",
       "0          51.0          8       322.0  Nintendo      E  \n",
       "1           NaN        NaN         NaN       NaN    NaN  \n",
       "2          73.0        8.3       709.0  Nintendo      E  \n",
       "3          73.0          8       192.0  Nintendo      E  \n",
       "4           NaN        NaN         NaN       NaN    NaN  "
      ]
     },
     "metadata": {},
     "output_type": "display_data"
    },
    {
     "data": {
      "text/plain": [
       "float64    9\n",
       "object     7\n",
       "Name: count, dtype: int64"
      ]
     },
     "metadata": {},
     "output_type": "display_data"
    }
   ],
   "source": [
    "print(\"The data set has {} rows and {} columns\".format(df.shape[0], df.shape[1]))\n",
    "display(df.describe())\n",
    "display(df.head())\n",
    "display(df.dtypes.value_counts())"
   ]
  },
  {
   "cell_type": "code",
   "execution_count": 8,
   "id": "caf0dc91",
   "metadata": {},
   "outputs": [
    {
     "data": {
      "text/plain": [
       "Name                object\n",
       "Platform            object\n",
       "Year_of_Release    float64\n",
       "Genre               object\n",
       "Publisher           object\n",
       "NA_Sales           float64\n",
       "EU_Sales           float64\n",
       "JP_Sales           float64\n",
       "Other_Sales        float64\n",
       "Global_Sales       float64\n",
       "Critic_Score       float64\n",
       "Critic_Count       float64\n",
       "User_Score          object\n",
       "User_Count         float64\n",
       "Developer           object\n",
       "Rating              object\n",
       "dtype: object"
      ]
     },
     "execution_count": 8,
     "metadata": {},
     "output_type": "execute_result"
    }
   ],
   "source": [
    "df.dtypes"
   ]
  },
  {
   "cell_type": "markdown",
   "id": "495779a3",
   "metadata": {},
   "source": [
    "# Checking for Duplicates: "
   ]
  },
  {
   "cell_type": "code",
   "execution_count": 9,
   "id": "5685be25",
   "metadata": {},
   "outputs": [
    {
     "data": {
      "text/plain": [
       "0"
      ]
     },
     "execution_count": 9,
     "metadata": {},
     "output_type": "execute_result"
    }
   ],
   "source": [
    "df.duplicated().sum() "
   ]
  },
  {
   "cell_type": "code",
   "execution_count": 10,
   "id": "06c3b0f6",
   "metadata": {},
   "outputs": [
    {
     "name": "stdout",
     "output_type": "stream",
     "text": [
      "Duplicate sum in Name: 5156\n",
      "Duplicate sum in Platform: 16688\n",
      "Duplicate sum in Year_of_Release: 16679\n",
      "Duplicate sum in Genre: 16706\n",
      "Duplicate sum in Publisher: 16137\n",
      "Duplicate sum in NA_Sales: 16317\n",
      "Duplicate sum in EU_Sales: 16412\n",
      "Duplicate sum in JP_Sales: 16475\n",
      "Duplicate sum in Other_Sales: 16564\n",
      "Duplicate sum in Global_Sales: 16090\n",
      "Duplicate sum in Critic_Score: 16636\n",
      "Duplicate sum in Critic_Count: 16612\n",
      "Duplicate sum in User_Score: 16622\n",
      "Duplicate sum in User_Count: 15830\n",
      "Duplicate sum in Developer: 15022\n",
      "Duplicate sum in Rating: 16710\n"
     ]
    }
   ],
   "source": [
    "for col in df.columns:\n",
    "    dup_sum = df.duplicated(subset=col).sum()\n",
    "    print(f\"Duplicate sum in {col}: {dup_sum}\")"
   ]
  },
  {
   "cell_type": "markdown",
   "id": "96b7a99d",
   "metadata": {},
   "source": [
    "# Missing Variables: "
   ]
  },
  {
   "cell_type": "code",
   "execution_count": 11,
   "id": "393439db",
   "metadata": {},
   "outputs": [
    {
     "data": {
      "text/plain": [
       "Name                  2\n",
       "Platform              0\n",
       "Year_of_Release     269\n",
       "Genre                 2\n",
       "Publisher            54\n",
       "NA_Sales              0\n",
       "EU_Sales              0\n",
       "JP_Sales              0\n",
       "Other_Sales           0\n",
       "Global_Sales          0\n",
       "Critic_Score       8582\n",
       "Critic_Count       8582\n",
       "User_Score         6704\n",
       "User_Count         9129\n",
       "Developer          6623\n",
       "Rating             6769\n",
       "dtype: int64"
      ]
     },
     "execution_count": 11,
     "metadata": {},
     "output_type": "execute_result"
    }
   ],
   "source": [
    "df.isnull().sum()"
   ]
  },
  {
   "cell_type": "markdown",
   "id": "0acff8c8",
   "metadata": {},
   "source": [
    "Check the percentage of Missing variable for each features: "
   ]
  },
  {
   "cell_type": "code",
   "execution_count": 12,
   "id": "5b4348e0",
   "metadata": {},
   "outputs": [
    {
     "name": "stdout",
     "output_type": "stream",
     "text": [
      "Name                0.011962\n",
      "Platform            0.000000\n",
      "Year_of_Release     1.608948\n",
      "Genre               0.011962\n",
      "Publisher           0.322986\n",
      "NA_Sales            0.000000\n",
      "EU_Sales            0.000000\n",
      "JP_Sales            0.000000\n",
      "Other_Sales         0.000000\n",
      "Global_Sales        0.000000\n",
      "Critic_Score       51.330821\n",
      "Critic_Count       51.330821\n",
      "User_Score         40.098092\n",
      "User_Count         54.602548\n",
      "Developer          39.613613\n",
      "Rating             40.486871\n",
      "dtype: float64\n"
     ]
    }
   ],
   "source": [
    "missing_values = df.isnull().sum()\n",
    "total_values = df.shape[0]\n",
    "\n",
    "percentage_missing = (missing_values / total_values) * 100\n",
    "\n",
    "print(percentage_missing)"
   ]
  },
  {
   "cell_type": "code",
   "execution_count": 13,
   "id": "83e807f5",
   "metadata": {},
   "outputs": [
    {
     "data": {
      "text/plain": [
       "46716"
      ]
     },
     "execution_count": 13,
     "metadata": {},
     "output_type": "execute_result"
    }
   ],
   "source": [
    "df.isnull().sum().sum()"
   ]
  },
  {
   "cell_type": "markdown",
   "id": "a0e48dd3",
   "metadata": {},
   "source": [
    "# Handling Missing Variables: "
   ]
  },
  {
   "cell_type": "markdown",
   "id": "c6bbc1f1",
   "metadata": {},
   "source": [
    "It has been noticed that there are some features that are having missing variables like: \n",
    "\n",
    "    - Name\n",
    "    - Year_of_Release \n",
    "    - Genre               \n",
    "    - Publisher           \n",
    "    - Critic_Score\n",
    "    - Critic_Count\n",
    "    - User_Score\n",
    "    - Critic_Count\n",
    "    - User_Score \n",
    "    - User_Count \n",
    "    - Developer\n",
    "    - Rating  \n",
    "    \n",
    "To understand how to handle this missing variable is important before to understand which type of variable are; float and object. This is important to understand the correct approach to handle them. It is crucial to handle this before passing to the visualization part to avoid having naan values in the graphs."
   ]
  },
  {
   "cell_type": "markdown",
   "id": "1dddd395",
   "metadata": {},
   "source": [
    "Float Missing variable: Critic_Score, Critic_Count, User_count features have missing variable so for this reason they will ve filled with the mean it has been decided to have the average for the natute of the variable. Years of release even tho is a float will be handled into cateregorical variable because we cannot do an average of the years "
   ]
  },
  {
   "cell_type": "code",
   "execution_count": 14,
   "id": "198bc171",
   "metadata": {},
   "outputs": [],
   "source": [
    "numerical_column=['Critic_Score', 'Critic_Count', 'User_Count']"
   ]
  },
  {
   "cell_type": "code",
   "execution_count": 15,
   "id": "c42fdb88",
   "metadata": {},
   "outputs": [],
   "source": [
    "for column  in numerical_column:\n",
    "    df[column].fillna(df[column].mean(), inplace=True)"
   ]
  },
  {
   "cell_type": "code",
   "execution_count": 16,
   "id": "c3d98b21",
   "metadata": {},
   "outputs": [
    {
     "data": {
      "text/plain": [
       "Name                  2\n",
       "Platform              0\n",
       "Year_of_Release     269\n",
       "Genre                 2\n",
       "Publisher            54\n",
       "NA_Sales              0\n",
       "EU_Sales              0\n",
       "JP_Sales              0\n",
       "Other_Sales           0\n",
       "Global_Sales          0\n",
       "Critic_Score          0\n",
       "Critic_Count          0\n",
       "User_Score         6704\n",
       "User_Count            0\n",
       "Developer          6623\n",
       "Rating             6769\n",
       "dtype: int64"
      ]
     },
     "execution_count": 16,
     "metadata": {},
     "output_type": "execute_result"
    }
   ],
   "source": [
    "df.isnull().sum()"
   ]
  },
  {
   "cell_type": "markdown",
   "id": "969ba9dc",
   "metadata": {},
   "source": [
    "To handle the feature \" Years_of_release\" it will be used the mode. The reason behind is that the mode is the variable that will be most of the time present in the dataset"
   ]
  },
  {
   "cell_type": "code",
   "execution_count": 17,
   "id": "c8439394",
   "metadata": {},
   "outputs": [],
   "source": [
    "df['Year_of_Release'].fillna(df['Year_of_Release'].mean(), inplace=True)"
   ]
  },
  {
   "cell_type": "code",
   "execution_count": 18,
   "id": "09d87f6c",
   "metadata": {},
   "outputs": [
    {
     "data": {
      "text/plain": [
       "Name                  2\n",
       "Platform              0\n",
       "Year_of_Release       0\n",
       "Genre                 2\n",
       "Publisher            54\n",
       "NA_Sales              0\n",
       "EU_Sales              0\n",
       "JP_Sales              0\n",
       "Other_Sales           0\n",
       "Global_Sales          0\n",
       "Critic_Score          0\n",
       "Critic_Count          0\n",
       "User_Score         6704\n",
       "User_Count            0\n",
       "Developer          6623\n",
       "Rating             6769\n",
       "dtype: int64"
      ]
     },
     "execution_count": 18,
     "metadata": {},
     "output_type": "execute_result"
    }
   ],
   "source": [
    "df.isnull().sum()"
   ]
  },
  {
   "cell_type": "markdown",
   "id": "dc36f978",
   "metadata": {},
   "source": [
    "Object features missing variable. Due to the nature of visualization it has been avoided encode the variable to be filled after with the median the mode or the mean but it will be used \"Unknown\" so it will be noticed in the visualization. it has been avoided the dropna function due to the amount of missin variables "
   ]
  },
  {
   "cell_type": "code",
   "execution_count": 19,
   "id": "b60d3e53",
   "metadata": {},
   "outputs": [
    {
     "data": {
      "text/plain": [
       "Name                  2\n",
       "Platform              0\n",
       "Year_of_Release       0\n",
       "Genre                 2\n",
       "Publisher            54\n",
       "NA_Sales              0\n",
       "EU_Sales              0\n",
       "JP_Sales              0\n",
       "Other_Sales           0\n",
       "Global_Sales          0\n",
       "Critic_Score          0\n",
       "Critic_Count          0\n",
       "User_Score         6704\n",
       "User_Count            0\n",
       "Developer          6623\n",
       "Rating             6769\n",
       "dtype: int64"
      ]
     },
     "execution_count": 19,
     "metadata": {},
     "output_type": "execute_result"
    }
   ],
   "source": [
    "df.isnull().sum()"
   ]
  },
  {
   "cell_type": "code",
   "execution_count": 20,
   "id": "b42727ec",
   "metadata": {},
   "outputs": [],
   "source": [
    "categorical_columns = ['Name','Genre', 'Publisher', 'Developer', 'Rating']"
   ]
  },
  {
   "cell_type": "code",
   "execution_count": 21,
   "id": "64ecf004",
   "metadata": {},
   "outputs": [],
   "source": [
    "for column in categorical_columns:\n",
    "    df[column].fillna('Unknown', inplace=True)"
   ]
  },
  {
   "cell_type": "markdown",
   "id": "157621ef",
   "metadata": {},
   "source": [
    "Handling User Score due analyzing it has numerical variable but as a type it is an object. To do so before \"User Score\" Obeservation are analized: "
   ]
  },
  {
   "cell_type": "code",
   "execution_count": 22,
   "id": "a171d1b7",
   "metadata": {},
   "outputs": [
    {
     "data": {
      "text/plain": [
       "array(['8', nan, '8.3', '8.5', '6.6', '8.4', '8.6', '7.7', '6.3', '7.4',\n",
       "       '8.2', '9', '7.9', '8.1', '8.7', '7.1', '3.4', '5.3', '4.8', '3.2',\n",
       "       '8.9', '6.4', '7.8', '7.5', '2.6', '7.2', '9.2', '7', '7.3', '4.3',\n",
       "       '7.6', '5.7', '5', '9.1', '6.5', 'tbd', '8.8', '6.9', '9.4', '6.8',\n",
       "       '6.1', '6.7', '5.4', '4', '4.9', '4.5', '9.3', '6.2', '4.2', '6',\n",
       "       '3.7', '4.1', '5.8', '5.6', '5.5', '4.4', '4.6', '5.9', '3.9',\n",
       "       '3.1', '2.9', '5.2', '3.3', '4.7', '5.1', '3.5', '2.5', '1.9', '3',\n",
       "       '2.7', '2.2', '2', '9.5', '2.1', '3.6', '2.8', '1.8', '3.8', '0',\n",
       "       '1.6', '9.6', '2.4', '1.7', '1.1', '0.3', '1.5', '0.7', '1.2',\n",
       "       '2.3', '0.5', '1.3', '0.2', '0.6', '1.4', '0.9', '1', '9.7'],\n",
       "      dtype=object)"
      ]
     },
     "execution_count": 22,
     "metadata": {},
     "output_type": "execute_result"
    }
   ],
   "source": [
    "df['User_Score'].unique()"
   ]
  },
  {
   "cell_type": "code",
   "execution_count": 29,
   "id": "fd0988d1",
   "metadata": {},
   "outputs": [],
   "source": [
    "df['User_Score'].replace('tbd', pd.NA, inplace=True)"
   ]
  },
  {
   "cell_type": "code",
   "execution_count": 30,
   "id": "5fb80095",
   "metadata": {},
   "outputs": [],
   "source": [
    "df['User_Score'] = pd.to_numeric(df['User_Score'], errors='coerce')"
   ]
  },
  {
   "cell_type": "code",
   "execution_count": 31,
   "id": "e56ccc5b",
   "metadata": {},
   "outputs": [],
   "source": [
    "mean_value = df['User_Score'].mean()"
   ]
  },
  {
   "cell_type": "code",
   "execution_count": 32,
   "id": "868f01ba",
   "metadata": {},
   "outputs": [],
   "source": [
    "df['User_Score'].fillna(mean_value, inplace=True)"
   ]
  },
  {
   "cell_type": "markdown",
   "id": "eee83875",
   "metadata": {},
   "source": [
    "Change Object into Float:"
   ]
  },
  {
   "cell_type": "code",
   "execution_count": 33,
   "id": "27978fc1",
   "metadata": {},
   "outputs": [],
   "source": [
    "df['User_Score']=df['User_Score'].astype(float)"
   ]
  },
  {
   "cell_type": "code",
   "execution_count": 34,
   "id": "d1ce14c1",
   "metadata": {},
   "outputs": [
    {
     "name": "stdout",
     "output_type": "stream",
     "text": [
      "[8.         7.12504611 8.3        8.5        6.6        8.4\n",
      " 8.6        7.7        6.3        7.4        8.2        9.\n",
      " 7.9        8.1        8.7        7.1        3.4        5.3\n",
      " 4.8        3.2        8.9        6.4        7.8        7.5\n",
      " 2.6        7.2        9.2        7.         7.3        4.3\n",
      " 7.6        5.7        5.         9.1        6.5        8.8\n",
      " 6.9        9.4        6.8        6.1        6.7        5.4\n",
      " 4.         4.9        4.5        9.3        6.2        4.2\n",
      " 6.         3.7        4.1        5.8        5.6        5.5\n",
      " 4.4        4.6        5.9        3.9        3.1        2.9\n",
      " 5.2        3.3        4.7        5.1        3.5        2.5\n",
      " 1.9        3.         2.7        2.2        2.         9.5\n",
      " 2.1        3.6        2.8        1.8        3.8        0.\n",
      " 1.6        9.6        2.4        1.7        1.1        0.3\n",
      " 1.5        0.7        1.2        2.3        0.5        1.3\n",
      " 0.2        0.6        1.4        0.9        1.         9.7       ]\n"
     ]
    }
   ],
   "source": [
    "unique_user_scores = df[\"User_Score\"].unique()\n",
    "print(unique_user_scores)"
   ]
  },
  {
   "cell_type": "markdown",
   "id": "b0bf721f",
   "metadata": {},
   "source": [
    "Checking if some missing variable are left: "
   ]
  },
  {
   "cell_type": "code",
   "execution_count": 35,
   "id": "90254569",
   "metadata": {},
   "outputs": [
    {
     "data": {
      "text/plain": [
       "Name               0\n",
       "Platform           0\n",
       "Year_of_Release    0\n",
       "Genre              0\n",
       "Publisher          0\n",
       "NA_Sales           0\n",
       "EU_Sales           0\n",
       "JP_Sales           0\n",
       "Other_Sales        0\n",
       "Global_Sales       0\n",
       "Critic_Score       0\n",
       "Critic_Count       0\n",
       "User_Score         0\n",
       "User_Count         0\n",
       "Developer          0\n",
       "Rating             0\n",
       "dtype: int64"
      ]
     },
     "execution_count": 35,
     "metadata": {},
     "output_type": "execute_result"
    }
   ],
   "source": [
    "df.isnull().sum()"
   ]
  },
  {
   "cell_type": "code",
   "execution_count": 36,
   "id": "d70d4ae9",
   "metadata": {},
   "outputs": [
    {
     "data": {
      "text/html": [
       "<div>\n",
       "<style scoped>\n",
       "    .dataframe tbody tr th:only-of-type {\n",
       "        vertical-align: middle;\n",
       "    }\n",
       "\n",
       "    .dataframe tbody tr th {\n",
       "        vertical-align: top;\n",
       "    }\n",
       "\n",
       "    .dataframe thead th {\n",
       "        text-align: right;\n",
       "    }\n",
       "</style>\n",
       "<table border=\"1\" class=\"dataframe\">\n",
       "  <thead>\n",
       "    <tr style=\"text-align: right;\">\n",
       "      <th></th>\n",
       "      <th>Name</th>\n",
       "      <th>Platform</th>\n",
       "      <th>Year_of_Release</th>\n",
       "      <th>Genre</th>\n",
       "      <th>Publisher</th>\n",
       "      <th>NA_Sales</th>\n",
       "      <th>EU_Sales</th>\n",
       "      <th>JP_Sales</th>\n",
       "      <th>Other_Sales</th>\n",
       "      <th>Global_Sales</th>\n",
       "      <th>Critic_Score</th>\n",
       "      <th>Critic_Count</th>\n",
       "      <th>User_Score</th>\n",
       "      <th>User_Count</th>\n",
       "      <th>Developer</th>\n",
       "      <th>Rating</th>\n",
       "    </tr>\n",
       "  </thead>\n",
       "  <tbody>\n",
       "    <tr>\n",
       "      <th>0</th>\n",
       "      <td>Wii Sports</td>\n",
       "      <td>Wii</td>\n",
       "      <td>2006.0</td>\n",
       "      <td>Sports</td>\n",
       "      <td>Nintendo</td>\n",
       "      <td>41.36</td>\n",
       "      <td>28.96</td>\n",
       "      <td>3.77</td>\n",
       "      <td>8.45</td>\n",
       "      <td>82.53</td>\n",
       "      <td>76.000000</td>\n",
       "      <td>51.000000</td>\n",
       "      <td>8.000000</td>\n",
       "      <td>322.000000</td>\n",
       "      <td>Nintendo</td>\n",
       "      <td>E</td>\n",
       "    </tr>\n",
       "    <tr>\n",
       "      <th>1</th>\n",
       "      <td>Super Mario Bros.</td>\n",
       "      <td>NES</td>\n",
       "      <td>1985.0</td>\n",
       "      <td>Platform</td>\n",
       "      <td>Nintendo</td>\n",
       "      <td>29.08</td>\n",
       "      <td>3.58</td>\n",
       "      <td>6.81</td>\n",
       "      <td>0.77</td>\n",
       "      <td>40.24</td>\n",
       "      <td>68.967679</td>\n",
       "      <td>26.360821</td>\n",
       "      <td>7.125046</td>\n",
       "      <td>162.229908</td>\n",
       "      <td>Unknown</td>\n",
       "      <td>Unknown</td>\n",
       "    </tr>\n",
       "    <tr>\n",
       "      <th>2</th>\n",
       "      <td>Mario Kart Wii</td>\n",
       "      <td>Wii</td>\n",
       "      <td>2008.0</td>\n",
       "      <td>Racing</td>\n",
       "      <td>Nintendo</td>\n",
       "      <td>15.68</td>\n",
       "      <td>12.76</td>\n",
       "      <td>3.79</td>\n",
       "      <td>3.29</td>\n",
       "      <td>35.52</td>\n",
       "      <td>82.000000</td>\n",
       "      <td>73.000000</td>\n",
       "      <td>8.300000</td>\n",
       "      <td>709.000000</td>\n",
       "      <td>Nintendo</td>\n",
       "      <td>E</td>\n",
       "    </tr>\n",
       "    <tr>\n",
       "      <th>3</th>\n",
       "      <td>Wii Sports Resort</td>\n",
       "      <td>Wii</td>\n",
       "      <td>2009.0</td>\n",
       "      <td>Sports</td>\n",
       "      <td>Nintendo</td>\n",
       "      <td>15.61</td>\n",
       "      <td>10.93</td>\n",
       "      <td>3.28</td>\n",
       "      <td>2.95</td>\n",
       "      <td>32.77</td>\n",
       "      <td>80.000000</td>\n",
       "      <td>73.000000</td>\n",
       "      <td>8.000000</td>\n",
       "      <td>192.000000</td>\n",
       "      <td>Nintendo</td>\n",
       "      <td>E</td>\n",
       "    </tr>\n",
       "    <tr>\n",
       "      <th>4</th>\n",
       "      <td>Pokemon Red/Pokemon Blue</td>\n",
       "      <td>GB</td>\n",
       "      <td>1996.0</td>\n",
       "      <td>Role-Playing</td>\n",
       "      <td>Nintendo</td>\n",
       "      <td>11.27</td>\n",
       "      <td>8.89</td>\n",
       "      <td>10.22</td>\n",
       "      <td>1.00</td>\n",
       "      <td>31.37</td>\n",
       "      <td>68.967679</td>\n",
       "      <td>26.360821</td>\n",
       "      <td>7.125046</td>\n",
       "      <td>162.229908</td>\n",
       "      <td>Unknown</td>\n",
       "      <td>Unknown</td>\n",
       "    </tr>\n",
       "  </tbody>\n",
       "</table>\n",
       "</div>"
      ],
      "text/plain": [
       "                       Name Platform  Year_of_Release         Genre Publisher  \\\n",
       "0                Wii Sports      Wii           2006.0        Sports  Nintendo   \n",
       "1         Super Mario Bros.      NES           1985.0      Platform  Nintendo   \n",
       "2            Mario Kart Wii      Wii           2008.0        Racing  Nintendo   \n",
       "3         Wii Sports Resort      Wii           2009.0        Sports  Nintendo   \n",
       "4  Pokemon Red/Pokemon Blue       GB           1996.0  Role-Playing  Nintendo   \n",
       "\n",
       "   NA_Sales  EU_Sales  JP_Sales  Other_Sales  Global_Sales  Critic_Score  \\\n",
       "0     41.36     28.96      3.77         8.45         82.53     76.000000   \n",
       "1     29.08      3.58      6.81         0.77         40.24     68.967679   \n",
       "2     15.68     12.76      3.79         3.29         35.52     82.000000   \n",
       "3     15.61     10.93      3.28         2.95         32.77     80.000000   \n",
       "4     11.27      8.89     10.22         1.00         31.37     68.967679   \n",
       "\n",
       "   Critic_Count  User_Score  User_Count Developer   Rating  \n",
       "0     51.000000    8.000000  322.000000  Nintendo        E  \n",
       "1     26.360821    7.125046  162.229908   Unknown  Unknown  \n",
       "2     73.000000    8.300000  709.000000  Nintendo        E  \n",
       "3     73.000000    8.000000  192.000000  Nintendo        E  \n",
       "4     26.360821    7.125046  162.229908   Unknown  Unknown  "
      ]
     },
     "execution_count": 36,
     "metadata": {},
     "output_type": "execute_result"
    }
   ],
   "source": [
    "df.head()"
   ]
  },
  {
   "cell_type": "code",
   "execution_count": 37,
   "id": "e6a3b244",
   "metadata": {},
   "outputs": [
    {
     "data": {
      "text/plain": [
       "Name                object\n",
       "Platform            object\n",
       "Year_of_Release    float64\n",
       "Genre               object\n",
       "Publisher           object\n",
       "NA_Sales           float64\n",
       "EU_Sales           float64\n",
       "JP_Sales           float64\n",
       "Other_Sales        float64\n",
       "Global_Sales       float64\n",
       "Critic_Score       float64\n",
       "Critic_Count       float64\n",
       "User_Score         float64\n",
       "User_Count         float64\n",
       "Developer           object\n",
       "Rating              object\n",
       "dtype: object"
      ]
     },
     "execution_count": 37,
     "metadata": {},
     "output_type": "execute_result"
    }
   ],
   "source": [
    "df.dtypes"
   ]
  },
  {
   "cell_type": "markdown",
   "id": "94471ff1",
   "metadata": {},
   "source": [
    "It is important now to consider that some of the variables that are float should be integers. like years of release, critic score critic count and user count "
   ]
  },
  {
   "cell_type": "markdown",
   "id": "09e25d26",
   "metadata": {},
   "source": [
    "# Change float into Integers: "
   ]
  },
  {
   "cell_type": "code",
   "execution_count": 38,
   "id": "1d3b2d77",
   "metadata": {},
   "outputs": [],
   "source": [
    "df['Year_of_Release'] = df['Year_of_Release'].apply(np.int64)\n",
    "df['Critic_Score'] = df['Critic_Score'].apply(np.int64)\n",
    "df['Critic_Count'] = df['Critic_Count'].apply(np.int64)\n",
    "df['User_Count'] = df['User_Count'].apply(np.int64)\n",
    "df['User_Score'] = df['User_Score'].apply(np.int64)"
   ]
  },
  {
   "cell_type": "code",
   "execution_count": 39,
   "id": "a6e8c91b",
   "metadata": {},
   "outputs": [
    {
     "data": {
      "text/plain": [
       "Name                object\n",
       "Platform            object\n",
       "Year_of_Release      int64\n",
       "Genre               object\n",
       "Publisher           object\n",
       "NA_Sales           float64\n",
       "EU_Sales           float64\n",
       "JP_Sales           float64\n",
       "Other_Sales        float64\n",
       "Global_Sales       float64\n",
       "Critic_Score         int64\n",
       "Critic_Count         int64\n",
       "User_Score           int64\n",
       "User_Count           int64\n",
       "Developer           object\n",
       "Rating              object\n",
       "dtype: object"
      ]
     },
     "execution_count": 39,
     "metadata": {},
     "output_type": "execute_result"
    }
   ],
   "source": [
    "df.dtypes"
   ]
  },
  {
   "cell_type": "code",
   "execution_count": 40,
   "id": "dd25a6a9",
   "metadata": {
    "scrolled": true
   },
   "outputs": [
    {
     "data": {
      "text/html": [
       "<div>\n",
       "<style scoped>\n",
       "    .dataframe tbody tr th:only-of-type {\n",
       "        vertical-align: middle;\n",
       "    }\n",
       "\n",
       "    .dataframe tbody tr th {\n",
       "        vertical-align: top;\n",
       "    }\n",
       "\n",
       "    .dataframe thead th {\n",
       "        text-align: right;\n",
       "    }\n",
       "</style>\n",
       "<table border=\"1\" class=\"dataframe\">\n",
       "  <thead>\n",
       "    <tr style=\"text-align: right;\">\n",
       "      <th></th>\n",
       "      <th>Name</th>\n",
       "      <th>Platform</th>\n",
       "      <th>Year_of_Release</th>\n",
       "      <th>Genre</th>\n",
       "      <th>Publisher</th>\n",
       "      <th>NA_Sales</th>\n",
       "      <th>EU_Sales</th>\n",
       "      <th>JP_Sales</th>\n",
       "      <th>Other_Sales</th>\n",
       "      <th>Global_Sales</th>\n",
       "      <th>Critic_Score</th>\n",
       "      <th>Critic_Count</th>\n",
       "      <th>User_Score</th>\n",
       "      <th>User_Count</th>\n",
       "      <th>Developer</th>\n",
       "      <th>Rating</th>\n",
       "    </tr>\n",
       "  </thead>\n",
       "  <tbody>\n",
       "    <tr>\n",
       "      <th>0</th>\n",
       "      <td>Wii Sports</td>\n",
       "      <td>Wii</td>\n",
       "      <td>2006</td>\n",
       "      <td>Sports</td>\n",
       "      <td>Nintendo</td>\n",
       "      <td>41.36</td>\n",
       "      <td>28.96</td>\n",
       "      <td>3.77</td>\n",
       "      <td>8.45</td>\n",
       "      <td>82.53</td>\n",
       "      <td>76</td>\n",
       "      <td>51</td>\n",
       "      <td>8</td>\n",
       "      <td>322</td>\n",
       "      <td>Nintendo</td>\n",
       "      <td>E</td>\n",
       "    </tr>\n",
       "    <tr>\n",
       "      <th>1</th>\n",
       "      <td>Super Mario Bros.</td>\n",
       "      <td>NES</td>\n",
       "      <td>1985</td>\n",
       "      <td>Platform</td>\n",
       "      <td>Nintendo</td>\n",
       "      <td>29.08</td>\n",
       "      <td>3.58</td>\n",
       "      <td>6.81</td>\n",
       "      <td>0.77</td>\n",
       "      <td>40.24</td>\n",
       "      <td>68</td>\n",
       "      <td>26</td>\n",
       "      <td>7</td>\n",
       "      <td>162</td>\n",
       "      <td>Unknown</td>\n",
       "      <td>Unknown</td>\n",
       "    </tr>\n",
       "    <tr>\n",
       "      <th>2</th>\n",
       "      <td>Mario Kart Wii</td>\n",
       "      <td>Wii</td>\n",
       "      <td>2008</td>\n",
       "      <td>Racing</td>\n",
       "      <td>Nintendo</td>\n",
       "      <td>15.68</td>\n",
       "      <td>12.76</td>\n",
       "      <td>3.79</td>\n",
       "      <td>3.29</td>\n",
       "      <td>35.52</td>\n",
       "      <td>82</td>\n",
       "      <td>73</td>\n",
       "      <td>8</td>\n",
       "      <td>709</td>\n",
       "      <td>Nintendo</td>\n",
       "      <td>E</td>\n",
       "    </tr>\n",
       "    <tr>\n",
       "      <th>3</th>\n",
       "      <td>Wii Sports Resort</td>\n",
       "      <td>Wii</td>\n",
       "      <td>2009</td>\n",
       "      <td>Sports</td>\n",
       "      <td>Nintendo</td>\n",
       "      <td>15.61</td>\n",
       "      <td>10.93</td>\n",
       "      <td>3.28</td>\n",
       "      <td>2.95</td>\n",
       "      <td>32.77</td>\n",
       "      <td>80</td>\n",
       "      <td>73</td>\n",
       "      <td>8</td>\n",
       "      <td>192</td>\n",
       "      <td>Nintendo</td>\n",
       "      <td>E</td>\n",
       "    </tr>\n",
       "    <tr>\n",
       "      <th>4</th>\n",
       "      <td>Pokemon Red/Pokemon Blue</td>\n",
       "      <td>GB</td>\n",
       "      <td>1996</td>\n",
       "      <td>Role-Playing</td>\n",
       "      <td>Nintendo</td>\n",
       "      <td>11.27</td>\n",
       "      <td>8.89</td>\n",
       "      <td>10.22</td>\n",
       "      <td>1.00</td>\n",
       "      <td>31.37</td>\n",
       "      <td>68</td>\n",
       "      <td>26</td>\n",
       "      <td>7</td>\n",
       "      <td>162</td>\n",
       "      <td>Unknown</td>\n",
       "      <td>Unknown</td>\n",
       "    </tr>\n",
       "  </tbody>\n",
       "</table>\n",
       "</div>"
      ],
      "text/plain": [
       "                       Name Platform  Year_of_Release         Genre Publisher  \\\n",
       "0                Wii Sports      Wii             2006        Sports  Nintendo   \n",
       "1         Super Mario Bros.      NES             1985      Platform  Nintendo   \n",
       "2            Mario Kart Wii      Wii             2008        Racing  Nintendo   \n",
       "3         Wii Sports Resort      Wii             2009        Sports  Nintendo   \n",
       "4  Pokemon Red/Pokemon Blue       GB             1996  Role-Playing  Nintendo   \n",
       "\n",
       "   NA_Sales  EU_Sales  JP_Sales  Other_Sales  Global_Sales  Critic_Score  \\\n",
       "0     41.36     28.96      3.77         8.45         82.53            76   \n",
       "1     29.08      3.58      6.81         0.77         40.24            68   \n",
       "2     15.68     12.76      3.79         3.29         35.52            82   \n",
       "3     15.61     10.93      3.28         2.95         32.77            80   \n",
       "4     11.27      8.89     10.22         1.00         31.37            68   \n",
       "\n",
       "   Critic_Count  User_Score  User_Count Developer   Rating  \n",
       "0            51           8         322  Nintendo        E  \n",
       "1            26           7         162   Unknown  Unknown  \n",
       "2            73           8         709  Nintendo        E  \n",
       "3            73           8         192  Nintendo        E  \n",
       "4            26           7         162   Unknown  Unknown  "
      ]
     },
     "execution_count": 40,
     "metadata": {},
     "output_type": "execute_result"
    }
   ],
   "source": [
    "df.head()"
   ]
  },
  {
   "cell_type": "markdown",
   "id": "0cff4f9c",
   "metadata": {},
   "source": [
    "PART 1: Answering questions"
   ]
  },
  {
   "cell_type": "markdown",
   "id": "1f203640",
   "metadata": {},
   "source": [
    "# What are the top 5 games by global sales?"
   ]
  },
  {
   "cell_type": "markdown",
   "id": "d07b831d",
   "metadata": {},
   "source": [
    "The dataset will be reduced for the global sales that have more value than 30. The reason behind is to optimize the running of the karnel and start reducing the dataset to see the information needed"
   ]
  },
  {
   "cell_type": "code",
   "execution_count": 41,
   "id": "a598f5f9",
   "metadata": {},
   "outputs": [],
   "source": [
    "GlobalSales_df=df.loc[df[\"Global_Sales\"]>30]"
   ]
  },
  {
   "cell_type": "code",
   "execution_count": 42,
   "id": "fd1f662c",
   "metadata": {},
   "outputs": [
    {
     "data": {
      "text/html": [
       "<div>\n",
       "<style scoped>\n",
       "    .dataframe tbody tr th:only-of-type {\n",
       "        vertical-align: middle;\n",
       "    }\n",
       "\n",
       "    .dataframe tbody tr th {\n",
       "        vertical-align: top;\n",
       "    }\n",
       "\n",
       "    .dataframe thead th {\n",
       "        text-align: right;\n",
       "    }\n",
       "</style>\n",
       "<table border=\"1\" class=\"dataframe\">\n",
       "  <thead>\n",
       "    <tr style=\"text-align: right;\">\n",
       "      <th></th>\n",
       "      <th>Name</th>\n",
       "      <th>Platform</th>\n",
       "      <th>Year_of_Release</th>\n",
       "      <th>Genre</th>\n",
       "      <th>Publisher</th>\n",
       "      <th>NA_Sales</th>\n",
       "      <th>EU_Sales</th>\n",
       "      <th>JP_Sales</th>\n",
       "      <th>Other_Sales</th>\n",
       "      <th>Global_Sales</th>\n",
       "      <th>Critic_Score</th>\n",
       "      <th>Critic_Count</th>\n",
       "      <th>User_Score</th>\n",
       "      <th>User_Count</th>\n",
       "      <th>Developer</th>\n",
       "      <th>Rating</th>\n",
       "    </tr>\n",
       "  </thead>\n",
       "  <tbody>\n",
       "    <tr>\n",
       "      <th>0</th>\n",
       "      <td>Wii Sports</td>\n",
       "      <td>Wii</td>\n",
       "      <td>2006</td>\n",
       "      <td>Sports</td>\n",
       "      <td>Nintendo</td>\n",
       "      <td>41.36</td>\n",
       "      <td>28.96</td>\n",
       "      <td>3.77</td>\n",
       "      <td>8.45</td>\n",
       "      <td>82.53</td>\n",
       "      <td>76</td>\n",
       "      <td>51</td>\n",
       "      <td>8</td>\n",
       "      <td>322</td>\n",
       "      <td>Nintendo</td>\n",
       "      <td>E</td>\n",
       "    </tr>\n",
       "    <tr>\n",
       "      <th>1</th>\n",
       "      <td>Super Mario Bros.</td>\n",
       "      <td>NES</td>\n",
       "      <td>1985</td>\n",
       "      <td>Platform</td>\n",
       "      <td>Nintendo</td>\n",
       "      <td>29.08</td>\n",
       "      <td>3.58</td>\n",
       "      <td>6.81</td>\n",
       "      <td>0.77</td>\n",
       "      <td>40.24</td>\n",
       "      <td>68</td>\n",
       "      <td>26</td>\n",
       "      <td>7</td>\n",
       "      <td>162</td>\n",
       "      <td>Unknown</td>\n",
       "      <td>Unknown</td>\n",
       "    </tr>\n",
       "    <tr>\n",
       "      <th>2</th>\n",
       "      <td>Mario Kart Wii</td>\n",
       "      <td>Wii</td>\n",
       "      <td>2008</td>\n",
       "      <td>Racing</td>\n",
       "      <td>Nintendo</td>\n",
       "      <td>15.68</td>\n",
       "      <td>12.76</td>\n",
       "      <td>3.79</td>\n",
       "      <td>3.29</td>\n",
       "      <td>35.52</td>\n",
       "      <td>82</td>\n",
       "      <td>73</td>\n",
       "      <td>8</td>\n",
       "      <td>709</td>\n",
       "      <td>Nintendo</td>\n",
       "      <td>E</td>\n",
       "    </tr>\n",
       "    <tr>\n",
       "      <th>3</th>\n",
       "      <td>Wii Sports Resort</td>\n",
       "      <td>Wii</td>\n",
       "      <td>2009</td>\n",
       "      <td>Sports</td>\n",
       "      <td>Nintendo</td>\n",
       "      <td>15.61</td>\n",
       "      <td>10.93</td>\n",
       "      <td>3.28</td>\n",
       "      <td>2.95</td>\n",
       "      <td>32.77</td>\n",
       "      <td>80</td>\n",
       "      <td>73</td>\n",
       "      <td>8</td>\n",
       "      <td>192</td>\n",
       "      <td>Nintendo</td>\n",
       "      <td>E</td>\n",
       "    </tr>\n",
       "    <tr>\n",
       "      <th>4</th>\n",
       "      <td>Pokemon Red/Pokemon Blue</td>\n",
       "      <td>GB</td>\n",
       "      <td>1996</td>\n",
       "      <td>Role-Playing</td>\n",
       "      <td>Nintendo</td>\n",
       "      <td>11.27</td>\n",
       "      <td>8.89</td>\n",
       "      <td>10.22</td>\n",
       "      <td>1.00</td>\n",
       "      <td>31.37</td>\n",
       "      <td>68</td>\n",
       "      <td>26</td>\n",
       "      <td>7</td>\n",
       "      <td>162</td>\n",
       "      <td>Unknown</td>\n",
       "      <td>Unknown</td>\n",
       "    </tr>\n",
       "  </tbody>\n",
       "</table>\n",
       "</div>"
      ],
      "text/plain": [
       "                       Name Platform  Year_of_Release         Genre Publisher  \\\n",
       "0                Wii Sports      Wii             2006        Sports  Nintendo   \n",
       "1         Super Mario Bros.      NES             1985      Platform  Nintendo   \n",
       "2            Mario Kart Wii      Wii             2008        Racing  Nintendo   \n",
       "3         Wii Sports Resort      Wii             2009        Sports  Nintendo   \n",
       "4  Pokemon Red/Pokemon Blue       GB             1996  Role-Playing  Nintendo   \n",
       "\n",
       "   NA_Sales  EU_Sales  JP_Sales  Other_Sales  Global_Sales  Critic_Score  \\\n",
       "0     41.36     28.96      3.77         8.45         82.53            76   \n",
       "1     29.08      3.58      6.81         0.77         40.24            68   \n",
       "2     15.68     12.76      3.79         3.29         35.52            82   \n",
       "3     15.61     10.93      3.28         2.95         32.77            80   \n",
       "4     11.27      8.89     10.22         1.00         31.37            68   \n",
       "\n",
       "   Critic_Count  User_Score  User_Count Developer   Rating  \n",
       "0            51           8         322  Nintendo        E  \n",
       "1            26           7         162   Unknown  Unknown  \n",
       "2            73           8         709  Nintendo        E  \n",
       "3            73           8         192  Nintendo        E  \n",
       "4            26           7         162   Unknown  Unknown  "
      ]
     },
     "execution_count": 42,
     "metadata": {},
     "output_type": "execute_result"
    }
   ],
   "source": [
    "GlobalSales_df.head(5)"
   ]
  },
  {
   "cell_type": "code",
   "execution_count": 43,
   "id": "2d619cd4",
   "metadata": {},
   "outputs": [
    {
     "data": {
      "text/plain": [
       "<function matplotlib.pyplot.show(close=None, block=None)>"
      ]
     },
     "execution_count": 43,
     "metadata": {},
     "output_type": "execute_result"
    },
    {
     "data": {
      "image/png": "[encoded data removed]",
      "text/plain": [
       "<Figure size 640x480 with 1 Axes>"
      ]
     },
     "metadata": {},
     "output_type": "display_data"
    }
   ],
   "source": [
    "from numpy import mean\n",
    "sns.barplot(data=GlobalSales_df, x=\"Global_Sales\", y=\"Name\", color=\"blue\", estimator=mean );\n",
    "plt.title(\"Top Games by Global Sales\")\n",
    "plt.show"
   ]
  },
  {
   "cell_type": "markdown",
   "id": "5add9981",
   "metadata": {},
   "source": [
    "# Is there a correlation between the “na_sales” and “jp_sales” for the years 2010-2014?  "
   ]
  },
  {
   "cell_type": "markdown",
   "id": "0b95f5c4",
   "metadata": {},
   "source": [
    "The correlation is the Comparison between observations represented by two variables (in this case NA_sales and jp_sales) to determine if they tend to move in the same or opposite directions.To show this it is used a scatterplot. A scatterplot shows the relationshop between the variables where everydots reppresent an observation: \n"
   ]
  },
  {
   "cell_type": "code",
   "execution_count": 44,
   "id": "d725e125",
   "metadata": {},
   "outputs": [
    {
     "data": {
      "image/png": "[encoded data removed]",
      "text/plain": [
       "<Figure size 900x500 with 1 Axes>"
      ]
     },
     "metadata": {},
     "output_type": "display_data"
    }
   ],
   "source": [
    "Specific_Years = [2010,2011,2012,2013,2014]\n",
    "df_years = df[df['Year_of_Release'].isin(Specific_Years)]\n",
    "plt.figure(figsize=(9,5))\n",
    "sns.scatterplot(data=df_years, x='NA_Sales', y='JP_Sales', alpha=0.7, hue='Year_of_Release');"
   ]
  },
  {
   "cell_type": "markdown",
   "id": "e6dbabb9",
   "metadata": {},
   "source": [
    "based on the scatterplot results don't show correlation between the sales for these specific years. It is important to consider that the lack of correletation not necessary means the lack of causation. "
   ]
  },
  {
   "cell_type": "markdown",
   "id": "32d0e716",
   "metadata": {},
   "source": [
    "# What is the distribution of the most popular 4 game genres?  "
   ]
  },
  {
   "cell_type": "markdown",
   "id": "ab4e72c2",
   "metadata": {},
   "source": [
    "histogram is the most useful visualization for distribution "
   ]
  },
  {
   "cell_type": "code",
   "execution_count": 45,
   "id": "e8222532",
   "metadata": {
    "scrolled": true
   },
   "outputs": [
    {
     "data": {
      "text/html": [
       "<div>\n",
       "<style scoped>\n",
       "    .dataframe tbody tr th:only-of-type {\n",
       "        vertical-align: middle;\n",
       "    }\n",
       "\n",
       "    .dataframe tbody tr th {\n",
       "        vertical-align: top;\n",
       "    }\n",
       "\n",
       "    .dataframe thead th {\n",
       "        text-align: right;\n",
       "    }\n",
       "</style>\n",
       "<table border=\"1\" class=\"dataframe\">\n",
       "  <thead>\n",
       "    <tr style=\"text-align: right;\">\n",
       "      <th></th>\n",
       "      <th>Name</th>\n",
       "      <th>Platform</th>\n",
       "      <th>Year_of_Release</th>\n",
       "      <th>Genre</th>\n",
       "      <th>Publisher</th>\n",
       "      <th>NA_Sales</th>\n",
       "      <th>EU_Sales</th>\n",
       "      <th>JP_Sales</th>\n",
       "      <th>Other_Sales</th>\n",
       "      <th>Global_Sales</th>\n",
       "      <th>Critic_Score</th>\n",
       "      <th>Critic_Count</th>\n",
       "      <th>User_Score</th>\n",
       "      <th>User_Count</th>\n",
       "      <th>Developer</th>\n",
       "      <th>Rating</th>\n",
       "    </tr>\n",
       "  </thead>\n",
       "  <tbody>\n",
       "    <tr>\n",
       "      <th>0</th>\n",
       "      <td>Wii Sports</td>\n",
       "      <td>Wii</td>\n",
       "      <td>2006</td>\n",
       "      <td>Sports</td>\n",
       "      <td>Nintendo</td>\n",
       "      <td>41.36</td>\n",
       "      <td>28.96</td>\n",
       "      <td>3.77</td>\n",
       "      <td>8.45</td>\n",
       "      <td>82.53</td>\n",
       "      <td>76</td>\n",
       "      <td>51</td>\n",
       "      <td>8</td>\n",
       "      <td>322</td>\n",
       "      <td>Nintendo</td>\n",
       "      <td>E</td>\n",
       "    </tr>\n",
       "    <tr>\n",
       "      <th>1</th>\n",
       "      <td>Super Mario Bros.</td>\n",
       "      <td>NES</td>\n",
       "      <td>1985</td>\n",
       "      <td>Platform</td>\n",
       "      <td>Nintendo</td>\n",
       "      <td>29.08</td>\n",
       "      <td>3.58</td>\n",
       "      <td>6.81</td>\n",
       "      <td>0.77</td>\n",
       "      <td>40.24</td>\n",
       "      <td>68</td>\n",
       "      <td>26</td>\n",
       "      <td>7</td>\n",
       "      <td>162</td>\n",
       "      <td>Unknown</td>\n",
       "      <td>Unknown</td>\n",
       "    </tr>\n",
       "    <tr>\n",
       "      <th>2</th>\n",
       "      <td>Mario Kart Wii</td>\n",
       "      <td>Wii</td>\n",
       "      <td>2008</td>\n",
       "      <td>Racing</td>\n",
       "      <td>Nintendo</td>\n",
       "      <td>15.68</td>\n",
       "      <td>12.76</td>\n",
       "      <td>3.79</td>\n",
       "      <td>3.29</td>\n",
       "      <td>35.52</td>\n",
       "      <td>82</td>\n",
       "      <td>73</td>\n",
       "      <td>8</td>\n",
       "      <td>709</td>\n",
       "      <td>Nintendo</td>\n",
       "      <td>E</td>\n",
       "    </tr>\n",
       "    <tr>\n",
       "      <th>3</th>\n",
       "      <td>Wii Sports Resort</td>\n",
       "      <td>Wii</td>\n",
       "      <td>2009</td>\n",
       "      <td>Sports</td>\n",
       "      <td>Nintendo</td>\n",
       "      <td>15.61</td>\n",
       "      <td>10.93</td>\n",
       "      <td>3.28</td>\n",
       "      <td>2.95</td>\n",
       "      <td>32.77</td>\n",
       "      <td>80</td>\n",
       "      <td>73</td>\n",
       "      <td>8</td>\n",
       "      <td>192</td>\n",
       "      <td>Nintendo</td>\n",
       "      <td>E</td>\n",
       "    </tr>\n",
       "    <tr>\n",
       "      <th>4</th>\n",
       "      <td>Pokemon Red/Pokemon Blue</td>\n",
       "      <td>GB</td>\n",
       "      <td>1996</td>\n",
       "      <td>Role-Playing</td>\n",
       "      <td>Nintendo</td>\n",
       "      <td>11.27</td>\n",
       "      <td>8.89</td>\n",
       "      <td>10.22</td>\n",
       "      <td>1.00</td>\n",
       "      <td>31.37</td>\n",
       "      <td>68</td>\n",
       "      <td>26</td>\n",
       "      <td>7</td>\n",
       "      <td>162</td>\n",
       "      <td>Unknown</td>\n",
       "      <td>Unknown</td>\n",
       "    </tr>\n",
       "  </tbody>\n",
       "</table>\n",
       "</div>"
      ],
      "text/plain": [
       "                       Name Platform  Year_of_Release         Genre Publisher  \\\n",
       "0                Wii Sports      Wii             2006        Sports  Nintendo   \n",
       "1         Super Mario Bros.      NES             1985      Platform  Nintendo   \n",
       "2            Mario Kart Wii      Wii             2008        Racing  Nintendo   \n",
       "3         Wii Sports Resort      Wii             2009        Sports  Nintendo   \n",
       "4  Pokemon Red/Pokemon Blue       GB             1996  Role-Playing  Nintendo   \n",
       "\n",
       "   NA_Sales  EU_Sales  JP_Sales  Other_Sales  Global_Sales  Critic_Score  \\\n",
       "0     41.36     28.96      3.77         8.45         82.53            76   \n",
       "1     29.08      3.58      6.81         0.77         40.24            68   \n",
       "2     15.68     12.76      3.79         3.29         35.52            82   \n",
       "3     15.61     10.93      3.28         2.95         32.77            80   \n",
       "4     11.27      8.89     10.22         1.00         31.37            68   \n",
       "\n",
       "   Critic_Count  User_Score  User_Count Developer   Rating  \n",
       "0            51           8         322  Nintendo        E  \n",
       "1            26           7         162   Unknown  Unknown  \n",
       "2            73           8         709  Nintendo        E  \n",
       "3            73           8         192  Nintendo        E  \n",
       "4            26           7         162   Unknown  Unknown  "
      ]
     },
     "execution_count": 45,
     "metadata": {},
     "output_type": "execute_result"
    }
   ],
   "source": [
    "df.head()"
   ]
  },
  {
   "cell_type": "code",
   "execution_count": 46,
   "id": "652f574f",
   "metadata": {
    "scrolled": false
   },
   "outputs": [
    {
     "data": {
      "image/png": "[encoded data removed]",
      "text/plain": [
       "<Figure size 2000x1000 with 1 Axes>"
      ]
     },
     "metadata": {},
     "output_type": "display_data"
    }
   ],
   "source": [
    "plt.figure(figsize=(20, 10))\n",
    "sns.histplot(df[\"Genre\"]);\n",
    "plt.title('Distribution of Genre')\n",
    "plt.grid(True)\n",
    "plt.show()"
   ]
  },
  {
   "cell_type": "code",
   "execution_count": 47,
   "id": "7a2ef2bb",
   "metadata": {},
   "outputs": [],
   "source": [
    "genre_counts = df['Genre'].value_counts().nlargest(4)\n",
    "top_genres = genre_counts.index.to_list()"
   ]
  },
  {
   "cell_type": "code",
   "execution_count": 48,
   "id": "4784ee1d",
   "metadata": {},
   "outputs": [
    {
     "data": {
      "text/plain": [
       "['Action', 'Sports', 'Misc', 'Role-Playing']"
      ]
     },
     "execution_count": 48,
     "metadata": {},
     "output_type": "execute_result"
    }
   ],
   "source": [
    "top_genres"
   ]
  },
  {
   "cell_type": "markdown",
   "id": "2bbb3266",
   "metadata": {},
   "source": [
    "# Do older games (2005 and earlier) have a higher MEAN “eu_sales” than newer games (after 2005)?  "
   ]
  },
  {
   "cell_type": "markdown",
   "id": "06d54e4a",
   "metadata": {},
   "source": [
    "To show and obtain the mean Boxplot are the visualization that we need to use "
   ]
  },
  {
   "cell_type": "code",
   "execution_count": 49,
   "id": "ce06f1c4",
   "metadata": {},
   "outputs": [],
   "source": [
    "Oldergames_df=df.loc[df[\"Year_of_Release\"]<=2005]"
   ]
  },
  {
   "cell_type": "code",
   "execution_count": 50,
   "id": "ecfdeff0",
   "metadata": {},
   "outputs": [
    {
     "data": {
      "text/html": [
       "<div>\n",
       "<style scoped>\n",
       "    .dataframe tbody tr th:only-of-type {\n",
       "        vertical-align: middle;\n",
       "    }\n",
       "\n",
       "    .dataframe tbody tr th {\n",
       "        vertical-align: top;\n",
       "    }\n",
       "\n",
       "    .dataframe thead th {\n",
       "        text-align: right;\n",
       "    }\n",
       "</style>\n",
       "<table border=\"1\" class=\"dataframe\">\n",
       "  <thead>\n",
       "    <tr style=\"text-align: right;\">\n",
       "      <th></th>\n",
       "      <th>Name</th>\n",
       "      <th>Platform</th>\n",
       "      <th>Year_of_Release</th>\n",
       "      <th>Genre</th>\n",
       "      <th>Publisher</th>\n",
       "      <th>NA_Sales</th>\n",
       "      <th>EU_Sales</th>\n",
       "      <th>JP_Sales</th>\n",
       "      <th>Other_Sales</th>\n",
       "      <th>Global_Sales</th>\n",
       "      <th>Critic_Score</th>\n",
       "      <th>Critic_Count</th>\n",
       "      <th>User_Score</th>\n",
       "      <th>User_Count</th>\n",
       "      <th>Developer</th>\n",
       "      <th>Rating</th>\n",
       "    </tr>\n",
       "  </thead>\n",
       "  <tbody>\n",
       "    <tr>\n",
       "      <th>1</th>\n",
       "      <td>Super Mario Bros.</td>\n",
       "      <td>NES</td>\n",
       "      <td>1985</td>\n",
       "      <td>Platform</td>\n",
       "      <td>Nintendo</td>\n",
       "      <td>29.08</td>\n",
       "      <td>3.58</td>\n",
       "      <td>6.81</td>\n",
       "      <td>0.77</td>\n",
       "      <td>40.24</td>\n",
       "      <td>68</td>\n",
       "      <td>26</td>\n",
       "      <td>7</td>\n",
       "      <td>162</td>\n",
       "      <td>Unknown</td>\n",
       "      <td>Unknown</td>\n",
       "    </tr>\n",
       "    <tr>\n",
       "      <th>4</th>\n",
       "      <td>Pokemon Red/Pokemon Blue</td>\n",
       "      <td>GB</td>\n",
       "      <td>1996</td>\n",
       "      <td>Role-Playing</td>\n",
       "      <td>Nintendo</td>\n",
       "      <td>11.27</td>\n",
       "      <td>8.89</td>\n",
       "      <td>10.22</td>\n",
       "      <td>1.00</td>\n",
       "      <td>31.37</td>\n",
       "      <td>68</td>\n",
       "      <td>26</td>\n",
       "      <td>7</td>\n",
       "      <td>162</td>\n",
       "      <td>Unknown</td>\n",
       "      <td>Unknown</td>\n",
       "    </tr>\n",
       "    <tr>\n",
       "      <th>5</th>\n",
       "      <td>Tetris</td>\n",
       "      <td>GB</td>\n",
       "      <td>1989</td>\n",
       "      <td>Puzzle</td>\n",
       "      <td>Nintendo</td>\n",
       "      <td>23.20</td>\n",
       "      <td>2.26</td>\n",
       "      <td>4.22</td>\n",
       "      <td>0.58</td>\n",
       "      <td>30.26</td>\n",
       "      <td>68</td>\n",
       "      <td>26</td>\n",
       "      <td>7</td>\n",
       "      <td>162</td>\n",
       "      <td>Unknown</td>\n",
       "      <td>Unknown</td>\n",
       "    </tr>\n",
       "    <tr>\n",
       "      <th>9</th>\n",
       "      <td>Duck Hunt</td>\n",
       "      <td>NES</td>\n",
       "      <td>1984</td>\n",
       "      <td>Shooter</td>\n",
       "      <td>Nintendo</td>\n",
       "      <td>26.93</td>\n",
       "      <td>0.63</td>\n",
       "      <td>0.28</td>\n",
       "      <td>0.47</td>\n",
       "      <td>28.31</td>\n",
       "      <td>68</td>\n",
       "      <td>26</td>\n",
       "      <td>7</td>\n",
       "      <td>162</td>\n",
       "      <td>Unknown</td>\n",
       "      <td>Unknown</td>\n",
       "    </tr>\n",
       "    <tr>\n",
       "      <th>10</th>\n",
       "      <td>Nintendogs</td>\n",
       "      <td>DS</td>\n",
       "      <td>2005</td>\n",
       "      <td>Simulation</td>\n",
       "      <td>Nintendo</td>\n",
       "      <td>9.05</td>\n",
       "      <td>10.95</td>\n",
       "      <td>1.93</td>\n",
       "      <td>2.74</td>\n",
       "      <td>24.67</td>\n",
       "      <td>68</td>\n",
       "      <td>26</td>\n",
       "      <td>7</td>\n",
       "      <td>162</td>\n",
       "      <td>Unknown</td>\n",
       "      <td>Unknown</td>\n",
       "    </tr>\n",
       "    <tr>\n",
       "      <th>...</th>\n",
       "      <td>...</td>\n",
       "      <td>...</td>\n",
       "      <td>...</td>\n",
       "      <td>...</td>\n",
       "      <td>...</td>\n",
       "      <td>...</td>\n",
       "      <td>...</td>\n",
       "      <td>...</td>\n",
       "      <td>...</td>\n",
       "      <td>...</td>\n",
       "      <td>...</td>\n",
       "      <td>...</td>\n",
       "      <td>...</td>\n",
       "      <td>...</td>\n",
       "      <td>...</td>\n",
       "      <td>...</td>\n",
       "    </tr>\n",
       "    <tr>\n",
       "      <th>228</th>\n",
       "      <td>The Lord of the Rings: The Two Towers</td>\n",
       "      <td>PS2</td>\n",
       "      <td>2002</td>\n",
       "      <td>Action</td>\n",
       "      <td>Electronic Arts</td>\n",
       "      <td>1.94</td>\n",
       "      <td>1.95</td>\n",
       "      <td>0.08</td>\n",
       "      <td>0.70</td>\n",
       "      <td>4.67</td>\n",
       "      <td>82</td>\n",
       "      <td>32</td>\n",
       "      <td>8</td>\n",
       "      <td>78</td>\n",
       "      <td>Stormfront Studios</td>\n",
       "      <td>T</td>\n",
       "    </tr>\n",
       "    <tr>\n",
       "      <th>229</th>\n",
       "      <td>Tomb Raider</td>\n",
       "      <td>PS</td>\n",
       "      <td>1996</td>\n",
       "      <td>Action</td>\n",
       "      <td>Eidos Interactive</td>\n",
       "      <td>2.29</td>\n",
       "      <td>1.97</td>\n",
       "      <td>0.13</td>\n",
       "      <td>0.24</td>\n",
       "      <td>4.63</td>\n",
       "      <td>91</td>\n",
       "      <td>13</td>\n",
       "      <td>8</td>\n",
       "      <td>147</td>\n",
       "      <td>Core Design Ltd.</td>\n",
       "      <td>T</td>\n",
       "    </tr>\n",
       "    <tr>\n",
       "      <th>232</th>\n",
       "      <td>The Legend of Zelda: A Link to the Past</td>\n",
       "      <td>SNES</td>\n",
       "      <td>1991</td>\n",
       "      <td>Action</td>\n",
       "      <td>Nintendo</td>\n",
       "      <td>2.42</td>\n",
       "      <td>0.91</td>\n",
       "      <td>1.15</td>\n",
       "      <td>0.13</td>\n",
       "      <td>4.61</td>\n",
       "      <td>68</td>\n",
       "      <td>26</td>\n",
       "      <td>7</td>\n",
       "      <td>162</td>\n",
       "      <td>Unknown</td>\n",
       "      <td>Unknown</td>\n",
       "    </tr>\n",
       "    <tr>\n",
       "      <th>233</th>\n",
       "      <td>The Legend of Zelda: The Wind Waker</td>\n",
       "      <td>GC</td>\n",
       "      <td>2002</td>\n",
       "      <td>Action</td>\n",
       "      <td>Nintendo</td>\n",
       "      <td>2.60</td>\n",
       "      <td>0.99</td>\n",
       "      <td>0.89</td>\n",
       "      <td>0.13</td>\n",
       "      <td>4.60</td>\n",
       "      <td>96</td>\n",
       "      <td>80</td>\n",
       "      <td>8</td>\n",
       "      <td>968</td>\n",
       "      <td>Nintendo</td>\n",
       "      <td>E</td>\n",
       "    </tr>\n",
       "    <tr>\n",
       "      <th>238</th>\n",
       "      <td>Madden NFL 2005</td>\n",
       "      <td>PS2</td>\n",
       "      <td>2004</td>\n",
       "      <td>Sports</td>\n",
       "      <td>Electronic Arts</td>\n",
       "      <td>4.18</td>\n",
       "      <td>0.26</td>\n",
       "      <td>0.01</td>\n",
       "      <td>0.08</td>\n",
       "      <td>4.53</td>\n",
       "      <td>91</td>\n",
       "      <td>30</td>\n",
       "      <td>7</td>\n",
       "      <td>78</td>\n",
       "      <td>EA Tiburon</td>\n",
       "      <td>E</td>\n",
       "    </tr>\n",
       "  </tbody>\n",
       "</table>\n",
       "<p>100 rows × 16 columns</p>\n",
       "</div>"
      ],
      "text/plain": [
       "                                        Name Platform  Year_of_Release  \\\n",
       "1                          Super Mario Bros.      NES             1985   \n",
       "4                   Pokemon Red/Pokemon Blue       GB             1996   \n",
       "5                                     Tetris       GB             1989   \n",
       "9                                  Duck Hunt      NES             1984   \n",
       "10                                Nintendogs       DS             2005   \n",
       "..                                       ...      ...              ...   \n",
       "228    The Lord of the Rings: The Two Towers      PS2             2002   \n",
       "229                              Tomb Raider       PS             1996   \n",
       "232  The Legend of Zelda: A Link to the Past     SNES             1991   \n",
       "233      The Legend of Zelda: The Wind Waker       GC             2002   \n",
       "238                          Madden NFL 2005      PS2             2004   \n",
       "\n",
       "            Genre          Publisher  NA_Sales  EU_Sales  JP_Sales  \\\n",
       "1        Platform           Nintendo     29.08      3.58      6.81   \n",
       "4    Role-Playing           Nintendo     11.27      8.89     10.22   \n",
       "5          Puzzle           Nintendo     23.20      2.26      4.22   \n",
       "9         Shooter           Nintendo     26.93      0.63      0.28   \n",
       "10     Simulation           Nintendo      9.05     10.95      1.93   \n",
       "..            ...                ...       ...       ...       ...   \n",
       "228        Action    Electronic Arts      1.94      1.95      0.08   \n",
       "229        Action  Eidos Interactive      2.29      1.97      0.13   \n",
       "232        Action           Nintendo      2.42      0.91      1.15   \n",
       "233        Action           Nintendo      2.60      0.99      0.89   \n",
       "238        Sports    Electronic Arts      4.18      0.26      0.01   \n",
       "\n",
       "     Other_Sales  Global_Sales  Critic_Score  Critic_Count  User_Score  \\\n",
       "1           0.77         40.24            68            26           7   \n",
       "4           1.00         31.37            68            26           7   \n",
       "5           0.58         30.26            68            26           7   \n",
       "9           0.47         28.31            68            26           7   \n",
       "10          2.74         24.67            68            26           7   \n",
       "..           ...           ...           ...           ...         ...   \n",
       "228         0.70          4.67            82            32           8   \n",
       "229         0.24          4.63            91            13           8   \n",
       "232         0.13          4.61            68            26           7   \n",
       "233         0.13          4.60            96            80           8   \n",
       "238         0.08          4.53            91            30           7   \n",
       "\n",
       "     User_Count           Developer   Rating  \n",
       "1           162             Unknown  Unknown  \n",
       "4           162             Unknown  Unknown  \n",
       "5           162             Unknown  Unknown  \n",
       "9           162             Unknown  Unknown  \n",
       "10          162             Unknown  Unknown  \n",
       "..          ...                 ...      ...  \n",
       "228          78  Stormfront Studios        T  \n",
       "229         147    Core Design Ltd.        T  \n",
       "232         162             Unknown  Unknown  \n",
       "233         968            Nintendo        E  \n",
       "238          78          EA Tiburon        E  \n",
       "\n",
       "[100 rows x 16 columns]"
      ]
     },
     "execution_count": 50,
     "metadata": {},
     "output_type": "execute_result"
    }
   ],
   "source": [
    "Oldergames_df.head(100)"
   ]
  },
  {
   "cell_type": "code",
   "execution_count": 51,
   "id": "38ad27c0",
   "metadata": {},
   "outputs": [],
   "source": [
    "Newergames_df=df.loc[df[\"Year_of_Release\"]>2005]"
   ]
  },
  {
   "cell_type": "code",
   "execution_count": 52,
   "id": "20fa3cb2",
   "metadata": {},
   "outputs": [
    {
     "data": {
      "text/html": [
       "<div>\n",
       "<style scoped>\n",
       "    .dataframe tbody tr th:only-of-type {\n",
       "        vertical-align: middle;\n",
       "    }\n",
       "\n",
       "    .dataframe tbody tr th {\n",
       "        vertical-align: top;\n",
       "    }\n",
       "\n",
       "    .dataframe thead th {\n",
       "        text-align: right;\n",
       "    }\n",
       "</style>\n",
       "<table border=\"1\" class=\"dataframe\">\n",
       "  <thead>\n",
       "    <tr style=\"text-align: right;\">\n",
       "      <th></th>\n",
       "      <th>Name</th>\n",
       "      <th>Platform</th>\n",
       "      <th>Year_of_Release</th>\n",
       "      <th>Genre</th>\n",
       "      <th>Publisher</th>\n",
       "      <th>NA_Sales</th>\n",
       "      <th>EU_Sales</th>\n",
       "      <th>JP_Sales</th>\n",
       "      <th>Other_Sales</th>\n",
       "      <th>Global_Sales</th>\n",
       "      <th>Critic_Score</th>\n",
       "      <th>Critic_Count</th>\n",
       "      <th>User_Score</th>\n",
       "      <th>User_Count</th>\n",
       "      <th>Developer</th>\n",
       "      <th>Rating</th>\n",
       "    </tr>\n",
       "  </thead>\n",
       "  <tbody>\n",
       "    <tr>\n",
       "      <th>0</th>\n",
       "      <td>Wii Sports</td>\n",
       "      <td>Wii</td>\n",
       "      <td>2006</td>\n",
       "      <td>Sports</td>\n",
       "      <td>Nintendo</td>\n",
       "      <td>41.36</td>\n",
       "      <td>28.96</td>\n",
       "      <td>3.77</td>\n",
       "      <td>8.45</td>\n",
       "      <td>82.53</td>\n",
       "      <td>76</td>\n",
       "      <td>51</td>\n",
       "      <td>8</td>\n",
       "      <td>322</td>\n",
       "      <td>Nintendo</td>\n",
       "      <td>E</td>\n",
       "    </tr>\n",
       "    <tr>\n",
       "      <th>2</th>\n",
       "      <td>Mario Kart Wii</td>\n",
       "      <td>Wii</td>\n",
       "      <td>2008</td>\n",
       "      <td>Racing</td>\n",
       "      <td>Nintendo</td>\n",
       "      <td>15.68</td>\n",
       "      <td>12.76</td>\n",
       "      <td>3.79</td>\n",
       "      <td>3.29</td>\n",
       "      <td>35.52</td>\n",
       "      <td>82</td>\n",
       "      <td>73</td>\n",
       "      <td>8</td>\n",
       "      <td>709</td>\n",
       "      <td>Nintendo</td>\n",
       "      <td>E</td>\n",
       "    </tr>\n",
       "    <tr>\n",
       "      <th>3</th>\n",
       "      <td>Wii Sports Resort</td>\n",
       "      <td>Wii</td>\n",
       "      <td>2009</td>\n",
       "      <td>Sports</td>\n",
       "      <td>Nintendo</td>\n",
       "      <td>15.61</td>\n",
       "      <td>10.93</td>\n",
       "      <td>3.28</td>\n",
       "      <td>2.95</td>\n",
       "      <td>32.77</td>\n",
       "      <td>80</td>\n",
       "      <td>73</td>\n",
       "      <td>8</td>\n",
       "      <td>192</td>\n",
       "      <td>Nintendo</td>\n",
       "      <td>E</td>\n",
       "    </tr>\n",
       "    <tr>\n",
       "      <th>6</th>\n",
       "      <td>New Super Mario Bros.</td>\n",
       "      <td>DS</td>\n",
       "      <td>2006</td>\n",
       "      <td>Platform</td>\n",
       "      <td>Nintendo</td>\n",
       "      <td>11.28</td>\n",
       "      <td>9.14</td>\n",
       "      <td>6.50</td>\n",
       "      <td>2.88</td>\n",
       "      <td>29.80</td>\n",
       "      <td>89</td>\n",
       "      <td>65</td>\n",
       "      <td>8</td>\n",
       "      <td>431</td>\n",
       "      <td>Nintendo</td>\n",
       "      <td>E</td>\n",
       "    </tr>\n",
       "    <tr>\n",
       "      <th>7</th>\n",
       "      <td>Wii Play</td>\n",
       "      <td>Wii</td>\n",
       "      <td>2006</td>\n",
       "      <td>Misc</td>\n",
       "      <td>Nintendo</td>\n",
       "      <td>13.96</td>\n",
       "      <td>9.18</td>\n",
       "      <td>2.93</td>\n",
       "      <td>2.84</td>\n",
       "      <td>28.92</td>\n",
       "      <td>58</td>\n",
       "      <td>41</td>\n",
       "      <td>6</td>\n",
       "      <td>129</td>\n",
       "      <td>Nintendo</td>\n",
       "      <td>E</td>\n",
       "    </tr>\n",
       "  </tbody>\n",
       "</table>\n",
       "</div>"
      ],
      "text/plain": [
       "                    Name Platform  Year_of_Release     Genre Publisher  \\\n",
       "0             Wii Sports      Wii             2006    Sports  Nintendo   \n",
       "2         Mario Kart Wii      Wii             2008    Racing  Nintendo   \n",
       "3      Wii Sports Resort      Wii             2009    Sports  Nintendo   \n",
       "6  New Super Mario Bros.       DS             2006  Platform  Nintendo   \n",
       "7               Wii Play      Wii             2006      Misc  Nintendo   \n",
       "\n",
       "   NA_Sales  EU_Sales  JP_Sales  Other_Sales  Global_Sales  Critic_Score  \\\n",
       "0     41.36     28.96      3.77         8.45         82.53            76   \n",
       "2     15.68     12.76      3.79         3.29         35.52            82   \n",
       "3     15.61     10.93      3.28         2.95         32.77            80   \n",
       "6     11.28      9.14      6.50         2.88         29.80            89   \n",
       "7     13.96      9.18      2.93         2.84         28.92            58   \n",
       "\n",
       "   Critic_Count  User_Score  User_Count Developer Rating  \n",
       "0            51           8         322  Nintendo      E  \n",
       "2            73           8         709  Nintendo      E  \n",
       "3            73           8         192  Nintendo      E  \n",
       "6            65           8         431  Nintendo      E  \n",
       "7            41           6         129  Nintendo      E  "
      ]
     },
     "execution_count": 52,
     "metadata": {},
     "output_type": "execute_result"
    }
   ],
   "source": [
    "Newergames_df.head()"
   ]
  },
  {
   "cell_type": "code",
   "execution_count": 53,
   "id": "c0a06684",
   "metadata": {},
   "outputs": [
    {
     "name": "stdout",
     "output_type": "stream",
     "text": [
      "0.1479159168984132\n",
      "0.14335847633415047\n"
     ]
    }
   ],
   "source": [
    "Oldergames_mean= Oldergames_df['EU_Sales'].mean()\n",
    "Newergames_mean= Newergames_df['EU_Sales'].mean()\n",
    "print(Oldergames_mean)\n",
    "print(Newergames_mean)"
   ]
  },
  {
   "cell_type": "markdown",
   "id": "994a8b22",
   "metadata": {},
   "source": [
    "For EU sales Data the means to be calculating aggregating the data by years"
   ]
  },
  {
   "cell_type": "code",
   "execution_count": 54,
   "id": "031d47c4",
   "metadata": {},
   "outputs": [],
   "source": [
    "older_sales_by_year = Oldergames_df.groupby('Year_of_Release')['EU_Sales'].mean().reset_index()\n",
    "newer_sales_by_year = Newergames_df.groupby('Year_of_Release')['EU_Sales'].mean().reset_index()"
   ]
  },
  {
   "cell_type": "markdown",
   "id": "90ae6168",
   "metadata": {},
   "source": [
    "Now using a barplot to show the mean for both new datasets for older and newer games: "
   ]
  },
  {
   "cell_type": "code",
   "execution_count": 55,
   "id": "4f017a3b",
   "metadata": {},
   "outputs": [
    {
     "data": {
      "image/png": "[encoded data removed]",
      "text/plain": [
       "<Figure size 640x480 with 1 Axes>"
      ]
     },
     "metadata": {},
     "output_type": "display_data"
    },
    {
     "data": {
      "image/png": "[encoded data removed]",
      "text/plain": [
       "<Figure size 640x480 with 1 Axes>"
      ]
     },
     "metadata": {},
     "output_type": "display_data"
    }
   ],
   "source": [
    "\n",
    "sns.barplot(data=older_sales_by_year, x=\"Year_of_Release\", y=\"EU_Sales\")\n",
    "plt.title('Mean EU Sales for Older Games (<= 2005)')\n",
    "plt.xlabel('Year of Release')\n",
    "plt.ylabel('Mean EU Sales')\n",
    "plt.xticks(rotation=45)\n",
    "plt.show()\n",
    "sns.barplot(data=newer_sales_by_year, x=\"Year_of_Release\", y=\"EU_Sales\")\n",
    "plt.title('Mean EU Sales for Newer Games (> 2005)')\n",
    "plt.xlabel('Year of Release')\n",
    "plt.ylabel('Mean EU Sales')\n",
    "plt.xticks(rotation=45)\n",
    "plt.show()"
   ]
  },
  {
   "cell_type": "markdown",
   "id": "28b33de1",
   "metadata": {},
   "source": [
    "# What are the 3 most common “developer” in the dataset?  "
   ]
  },
  {
   "cell_type": "code",
   "execution_count": 56,
   "id": "d3b256ed",
   "metadata": {},
   "outputs": [
    {
     "data": {
      "text/plain": [
       "<bound method Series.unique of 0            Nintendo\n",
       "1            Nintendo\n",
       "2            Nintendo\n",
       "3            Nintendo\n",
       "4            Nintendo\n",
       "             ...     \n",
       "16714      Tecmo Koei\n",
       "16715     Codemasters\n",
       "16716    Idea Factory\n",
       "16717         Wanadoo\n",
       "16718      Tecmo Koei\n",
       "Name: Publisher, Length: 16719, dtype: object>"
      ]
     },
     "execution_count": 56,
     "metadata": {},
     "output_type": "execute_result"
    }
   ],
   "source": [
    "df[\"Publisher\"].unique"
   ]
  },
  {
   "cell_type": "code",
   "execution_count": 57,
   "id": "939a5b7d",
   "metadata": {},
   "outputs": [
    {
     "name": "stdout",
     "output_type": "stream",
     "text": [
      "Publisher\n",
      "Electronic Arts                 1356\n",
      "Activision                       985\n",
      "Namco Bandai Games               939\n",
      "Ubisoft                          933\n",
      "Konami Digital Entertainment     834\n",
      "                                ... \n",
      "KSS                                1\n",
      "Giza10                             1\n",
      "Palcom                             1\n",
      "EON Digital Entertainment          1\n",
      "Red Flagship                       1\n",
      "Name: count, Length: 581, dtype: int64\n"
     ]
    }
   ],
   "source": [
    "publisher_counts = df[\"Publisher\"].value_counts().sort_values(ascending=False)\n",
    "print(publisher_counts)"
   ]
  },
  {
   "cell_type": "code",
   "execution_count": 58,
   "id": "445af61d",
   "metadata": {},
   "outputs": [
    {
     "data": {
      "text/plain": [
       "Publisher\n",
       "Electronic Arts       1356\n",
       "Activision             985\n",
       "Namco Bandai Games     939\n",
       "Name: count, dtype: int64"
      ]
     },
     "execution_count": 58,
     "metadata": {},
     "output_type": "execute_result"
    }
   ],
   "source": [
    "top_3_developers = publisher_counts.head(3)\n",
    "top_3_developers"
   ]
  },
  {
   "cell_type": "code",
   "execution_count": 59,
   "id": "849d82ce",
   "metadata": {},
   "outputs": [],
   "source": [
    "most_common_developers = df[df[\"Publisher\"].isin(publisher_counts[publisher_counts > 900].index)]"
   ]
  },
  {
   "cell_type": "code",
   "execution_count": 60,
   "id": "fda83031",
   "metadata": {},
   "outputs": [
    {
     "name": "stderr",
     "output_type": "stream",
     "text": [
      "C:\\Users\\cristinap\\AppData\\Local\\anaconda3\\Lib\\site-packages\\seaborn\\axisgrid.py:118: UserWarning: The figure layout has changed to tight\n",
      "  self._figure.tight_layout(*args, **kwargs)\n"
     ]
    },
    {
     "data": {
      "text/plain": [
       "<Figure size 3000x1500 with 0 Axes>"
      ]
     },
     "metadata": {},
     "output_type": "display_data"
    },
    {
     "data": {
      "image/png": "[encoded data removed]",
      "text/plain": [
       "<Figure size 500x500 with 1 Axes>"
      ]
     },
     "metadata": {},
     "output_type": "display_data"
    }
   ],
   "source": [
    "plt.figure(figsize=(30, 15))\n",
    "sns.displot(most_common_developers[\"Publisher\"]);\n",
    "plt.title('Most Commun Developer in dataset')\n",
    "plt.grid(True)\n",
    "plt.xticks(rotation=45)\n",
    "plt.show()"
   ]
  },
  {
   "cell_type": "markdown",
   "id": "a438e087",
   "metadata": {},
   "source": [
    "# Part 2: "
   ]
  },
  {
   "cell_type": "markdown",
   "id": "d9903803",
   "metadata": {},
   "source": [
    "From where was the most amount of sales? EU_Sales? NA_Sales or JP_Sales on Global Sales? "
   ]
  },
  {
   "cell_type": "code",
   "execution_count": 62,
   "id": "f65255af",
   "metadata": {},
   "outputs": [
    {
     "name": "stdout",
     "output_type": "stream",
     "text": [
      "Total EU Sales: 2424.67\n",
      "Total NA Sales: 4402.620000000001\n",
      "Total JP Sales: 1297.43\n"
     ]
    },
    {
     "ename": "NameError",
     "evalue": "name 'total_Other_Sales' is not defined",
     "output_type": "error",
     "traceback": [
      "\u001b[1;31m---------------------------------------------------------------------------\u001b[0m",
      "\u001b[1;31mNameError\u001b[0m                                 Traceback (most recent call last)",
      "Cell \u001b[1;32mIn[62], line 8\u001b[0m\n\u001b[0;32m      6\u001b[0m \u001b[38;5;28mprint\u001b[39m(\u001b[38;5;124mf\u001b[39m\u001b[38;5;124m\"\u001b[39m\u001b[38;5;124mTotal NA Sales: \u001b[39m\u001b[38;5;132;01m{\u001b[39;00mtotal_na_sales\u001b[38;5;132;01m}\u001b[39;00m\u001b[38;5;124m\"\u001b[39m)\n\u001b[0;32m      7\u001b[0m \u001b[38;5;28mprint\u001b[39m(\u001b[38;5;124mf\u001b[39m\u001b[38;5;124m\"\u001b[39m\u001b[38;5;124mTotal JP Sales: \u001b[39m\u001b[38;5;132;01m{\u001b[39;00mtotal_jp_sales\u001b[38;5;132;01m}\u001b[39;00m\u001b[38;5;124m\"\u001b[39m)\n\u001b[1;32m----> 8\u001b[0m \u001b[38;5;28mprint\u001b[39m(\u001b[38;5;124mf\u001b[39m\u001b[38;5;124m\"\u001b[39m\u001b[38;5;124mTotal other sales: \u001b[39m\u001b[38;5;132;01m{\u001b[39;00mtotal_Other_Sales\u001b[38;5;132;01m}\u001b[39;00m\u001b[38;5;124m\"\u001b[39m)\n",
      "\u001b[1;31mNameError\u001b[0m: name 'total_Other_Sales' is not defined"
     ]
    }
   ],
   "source": [
    "total_eu_sales = df[\"EU_Sales\"].sum()\n",
    "total_na_sales = df[\"NA_Sales\"].sum()\n",
    "total_jp_sales = df[\"JP_Sales\"].sum()\n",
    "total_other_sales=df[\"Other_Sales\"].sum()\n",
    "print(f\"Total EU Sales: {total_eu_sales}\")\n",
    "print(f\"Total NA Sales: {total_na_sales}\")\n",
    "print(f\"Total JP Sales: {total_jp_sales}\")\n",
    "print(f\"Total other sales: {total_Other_Sales}\")"
   ]
  },
  {
   "cell_type": "code",
   "execution_count": null,
   "id": "e3b77588",
   "metadata": {},
   "outputs": [],
   "source": [
    "sales_data = pd.DataFrame({\n",
    "    'Region': ['EU', 'NA', 'JP', 'Other'],\n",
    "    'Total Sales': [total_eu_sales, total_na_sales, total_jp_sales, total_other_sales]\n",
    "})"
   ]
  },
  {
   "cell_type": "code",
   "execution_count": null,
   "id": "8e244881",
   "metadata": {},
   "outputs": [],
   "source": [
    "plt.figure(figsize=(10, 6))\n",
    "sns.barplot(data=sales_data, x='Region', y='Total Sales')\n",
    "plt.xlabel('Region')\n",
    "plt.ylabel('Total Sales')\n",
    "plt.title(\"Sales by Region\")\n",
    "plt.legend(labels=['EU:European','NA: North America', 'JP:Japan',\"other: Other Countries not included before\"], loc='upper right')\n",
    "plt.show()"
   ]
  },
  {
   "cell_type": "code",
   "execution_count": null,
   "id": "8fd89365",
   "metadata": {},
   "outputs": [],
   "source": [
    "lineplot?"
   ]
  },
  {
   "cell_type": "markdown",
   "id": "cbfb48cd",
   "metadata": {},
   "source": [
    "Does some genre have better sales in a specific region? "
   ]
  },
  {
   "cell_type": "code",
   "execution_count": null,
   "id": "67f17545",
   "metadata": {},
   "outputs": [],
   "source": [
    "genre_sales = df.groupby('Genre')[['EU_Sales', 'NA_Sales', 'JP_Sales', 'Other_Sales']].sum().reset_index()\n"
   ]
  },
  {
   "cell_type": "code",
   "execution_count": null,
   "id": "bdf59b54",
   "metadata": {},
   "outputs": [],
   "source": [
    "genre_sales.plot(kind='bar')\n",
    "plt.xlabel('Genre')\n",
    "plt.ylabel('Total Sales')\n",
    "plt.title('Total Sales of Each Genre in Each Region')\n",
    "plt.legend(title='Region', loc='upper center')\n",
    "plt.xticks(rotation=45)\n",
    "plt.show()"
   ]
  },
  {
   "cell_type": "markdown",
   "id": "5e67e5c6",
   "metadata": {},
   "source": [
    "what is the distribution of age rating into the global sales? "
   ]
  },
  {
   "cell_type": "code",
   "execution_count": null,
   "id": "74543501",
   "metadata": {},
   "outputs": [],
   "source": [
    "plt.figure(figsize=(10, 6))\n",
    "sns.boxplot(data=df, x='Rating', y='Global_Sales')\n",
    "plt.xlabel('Age Rating')\n",
    "plt.ylabel('Global Sales')\n",
    "plt.title('Distribution of Age Ratings in Relation to Global Sales')\n",
    "plt.show()"
   ]
  },
  {
   "cell_type": "markdown",
   "id": "85c13679",
   "metadata": {},
   "source": [
    "what are the games that have the highest rate? "
   ]
  },
  {
   "cell_type": "code",
   "execution_count": null,
   "id": "ddcae9c8",
   "metadata": {},
   "outputs": [],
   "source": [
    "unique_user_scores = df[\"User_Score\"].unique()\n",
    "print(unique_user_scores)"
   ]
  },
  {
   "cell_type": "code",
   "execution_count": null,
   "id": "76acb47d",
   "metadata": {},
   "outputs": [],
   "source": [
    "from numpy import mean\n",
    "sns.barplot(data=df, x=\"Genre\", y=\"User_Score\", color=\"green\", estimator=mean );\n",
    "plt.title(\"Top Genre by User Score\")\n",
    "plt.xticks(rotation=45)\n",
    "plt.show"
   ]
  },
  {
   "cell_type": "markdown",
   "id": "8b766727",
   "metadata": {},
   "source": [
    "# References: "
   ]
  },
  {
   "cell_type": "markdown",
   "id": "c4e3b9f8",
   "metadata": {},
   "source": [
    "- Chia, Austin . “How to Make a Seaborn Histogram: A Detailed Guide.” Https://Www.datacamp.com/Tutorial/How-To-Make-a-Seaborn-Histogram, Austin Chia , Jan. 2024, www.datacamp.com/tutorial/how-to-make-a-seaborn-histogram. Accessed 24 Mar. 2024.\n",
    "- “How to Sum Columns with a Duplicate Name with Pandas?” Stack Overflow, stackoverflow.com/questions/61161241/how-to-sum-columns-with-a-duplicate-name-with-pandas. Accessed 24 Mar. 2024. \n",
    "- “Seaborn.barplot — Seaborn 0.11.1 Documentation.” Seaborn.pydata.org, seaborn.pydata.org/generated/seaborn.barplot.html.\n",
    "- “Matplotlib.pyplot.legend — Matplotlib 3.3.4 Documentation.” Matplotlib.org, matplotlib.org/stable/api/_as_gen/matplotlib.pyplot.legend.html."
   ]
  },
  {
   "cell_type": "code",
   "execution_count": null,
   "id": "b7a35cdc",
   "metadata": {},
   "outputs": [],
   "source": []
  }
 ],
 "metadata": {
  "kernelspec": {
   "display_name": "Python 3 (ipykernel)",
   "language": "python",
   "name": "python3"
  },
  "language_info": {
   "codemirror_mode": {
    "name": "ipython",
    "version": 3
   },
   "file_extension": ".py",
   "mimetype": "text/x-python",
   "name": "python",
   "nbconvert_exporter": "python",
   "pygments_lexer": "ipython3",
   "version": "3.11.5"
  }
 },
 "nbformat": 4,
 "nbformat_minor": 5
}

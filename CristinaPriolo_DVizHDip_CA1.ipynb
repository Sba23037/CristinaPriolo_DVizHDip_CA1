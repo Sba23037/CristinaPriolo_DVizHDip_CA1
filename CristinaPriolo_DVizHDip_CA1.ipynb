{
 "cells": [
  {
   "cell_type": "markdown",
   "id": "24e452f7",
   "metadata": {},
   "source": [
    "# Introduction: "
   ]
  },
  {
   "cell_type": "markdown",
   "id": "699811ea",
   "metadata": {},
   "source": [
    "In the domain of the retail company of videogames the dataset VGsales is going to be analized to determinate sales strategy for the coming winter season. To do so it will be first used the library and import the dataset. Missing variable will be checked and filled with the different EDA procedure to pass to answer some question with visualizations. "
   ]
  },
  {
   "cell_type": "code",
   "execution_count": 1,
   "id": "f0d6f97d",
   "metadata": {},
   "outputs": [],
   "source": [
    "import pandas as pd\n",
    "%matplotlib inline\n",
    "import numpy as np\n",
    "import matplotlib.pyplot as plt\n",
    "import seaborn as sns\n",
    "sns.set()"
   ]
  },
  {
   "cell_type": "code",
   "execution_count": 2,
   "id": "d995f6f6",
   "metadata": {},
   "outputs": [],
   "source": [
    "df=pd.read_csv(\"vgsales.csv\")"
   ]
  },
  {
   "cell_type": "code",
   "execution_count": 3,
   "id": "3d467f6d",
   "metadata": {},
   "outputs": [
    {
     "data": {
      "text/plain": [
       "(16719, 16)"
      ]
     },
     "execution_count": 3,
     "metadata": {},
     "output_type": "execute_result"
    }
   ],
   "source": [
    "df.shape"
   ]
  },
  {
   "cell_type": "code",
   "execution_count": 4,
   "id": "d6974bf3",
   "metadata": {},
   "outputs": [
    {
     "name": "stdout",
     "output_type": "stream",
     "text": [
      "<class 'pandas.core.frame.DataFrame'>\n",
      "RangeIndex: 16719 entries, 0 to 16718\n",
      "Data columns (total 16 columns):\n",
      " #   Column           Non-Null Count  Dtype  \n",
      "---  ------           --------------  -----  \n",
      " 0   Name             16717 non-null  object \n",
      " 1   Platform         16719 non-null  object \n",
      " 2   Year_of_Release  16450 non-null  float64\n",
      " 3   Genre            16717 non-null  object \n",
      " 4   Publisher        16665 non-null  object \n",
      " 5   NA_Sales         16719 non-null  float64\n",
      " 6   EU_Sales         16719 non-null  float64\n",
      " 7   JP_Sales         16719 non-null  float64\n",
      " 8   Other_Sales      16719 non-null  float64\n",
      " 9   Global_Sales     16719 non-null  float64\n",
      " 10  Critic_Score     8137 non-null   float64\n",
      " 11  Critic_Count     8137 non-null   float64\n",
      " 12  User_Score       10015 non-null  object \n",
      " 13  User_Count       7590 non-null   float64\n",
      " 14  Developer        10096 non-null  object \n",
      " 15  Rating           9950 non-null   object \n",
      "dtypes: float64(9), object(7)\n",
      "memory usage: 2.0+ MB\n"
     ]
    }
   ],
   "source": [
    "df.info()"
   ]
  },
  {
   "cell_type": "code",
   "execution_count": 5,
   "id": "db7a49ea",
   "metadata": {},
   "outputs": [
    {
     "data": {
      "text/html": [
       "<div>\n",
       "<style scoped>\n",
       "    .dataframe tbody tr th:only-of-type {\n",
       "        vertical-align: middle;\n",
       "    }\n",
       "\n",
       "    .dataframe tbody tr th {\n",
       "        vertical-align: top;\n",
       "    }\n",
       "\n",
       "    .dataframe thead th {\n",
       "        text-align: right;\n",
       "    }\n",
       "</style>\n",
       "<table border=\"1\" class=\"dataframe\">\n",
       "  <thead>\n",
       "    <tr style=\"text-align: right;\">\n",
       "      <th></th>\n",
       "      <th>Name</th>\n",
       "      <th>Platform</th>\n",
       "      <th>Genre</th>\n",
       "      <th>Publisher</th>\n",
       "      <th>User_Score</th>\n",
       "      <th>Developer</th>\n",
       "      <th>Rating</th>\n",
       "    </tr>\n",
       "  </thead>\n",
       "  <tbody>\n",
       "    <tr>\n",
       "      <th>count</th>\n",
       "      <td>16717</td>\n",
       "      <td>16719</td>\n",
       "      <td>16717</td>\n",
       "      <td>16665</td>\n",
       "      <td>10015</td>\n",
       "      <td>10096</td>\n",
       "      <td>9950</td>\n",
       "    </tr>\n",
       "    <tr>\n",
       "      <th>unique</th>\n",
       "      <td>11562</td>\n",
       "      <td>31</td>\n",
       "      <td>12</td>\n",
       "      <td>581</td>\n",
       "      <td>96</td>\n",
       "      <td>1696</td>\n",
       "      <td>8</td>\n",
       "    </tr>\n",
       "    <tr>\n",
       "      <th>top</th>\n",
       "      <td>Need for Speed: Most Wanted</td>\n",
       "      <td>PS2</td>\n",
       "      <td>Action</td>\n",
       "      <td>Electronic Arts</td>\n",
       "      <td>tbd</td>\n",
       "      <td>Ubisoft</td>\n",
       "      <td>E</td>\n",
       "    </tr>\n",
       "    <tr>\n",
       "      <th>freq</th>\n",
       "      <td>12</td>\n",
       "      <td>2161</td>\n",
       "      <td>3370</td>\n",
       "      <td>1356</td>\n",
       "      <td>2425</td>\n",
       "      <td>204</td>\n",
       "      <td>3991</td>\n",
       "    </tr>\n",
       "  </tbody>\n",
       "</table>\n",
       "</div>"
      ],
      "text/plain": [
       "                               Name Platform   Genre        Publisher  \\\n",
       "count                         16717    16719   16717            16665   \n",
       "unique                        11562       31      12              581   \n",
       "top     Need for Speed: Most Wanted      PS2  Action  Electronic Arts   \n",
       "freq                             12     2161    3370             1356   \n",
       "\n",
       "       User_Score Developer Rating  \n",
       "count       10015     10096   9950  \n",
       "unique         96      1696      8  \n",
       "top           tbd   Ubisoft      E  \n",
       "freq         2425       204   3991  "
      ]
     },
     "execution_count": 5,
     "metadata": {},
     "output_type": "execute_result"
    }
   ],
   "source": [
    "df.describe(include=object)"
   ]
  },
  {
   "cell_type": "code",
   "execution_count": 6,
   "id": "c769665e",
   "metadata": {},
   "outputs": [
    {
     "data": {
      "text/html": [
       "<div>\n",
       "<style scoped>\n",
       "    .dataframe tbody tr th:only-of-type {\n",
       "        vertical-align: middle;\n",
       "    }\n",
       "\n",
       "    .dataframe tbody tr th {\n",
       "        vertical-align: top;\n",
       "    }\n",
       "\n",
       "    .dataframe thead th {\n",
       "        text-align: right;\n",
       "    }\n",
       "</style>\n",
       "<table border=\"1\" class=\"dataframe\">\n",
       "  <thead>\n",
       "    <tr style=\"text-align: right;\">\n",
       "      <th></th>\n",
       "      <th>Year_of_Release</th>\n",
       "      <th>NA_Sales</th>\n",
       "      <th>EU_Sales</th>\n",
       "      <th>JP_Sales</th>\n",
       "      <th>Other_Sales</th>\n",
       "      <th>Global_Sales</th>\n",
       "      <th>Critic_Score</th>\n",
       "      <th>Critic_Count</th>\n",
       "      <th>User_Count</th>\n",
       "    </tr>\n",
       "  </thead>\n",
       "  <tbody>\n",
       "    <tr>\n",
       "      <th>count</th>\n",
       "      <td>16450.000000</td>\n",
       "      <td>16719.000000</td>\n",
       "      <td>16719.000000</td>\n",
       "      <td>16719.000000</td>\n",
       "      <td>16719.000000</td>\n",
       "      <td>16719.000000</td>\n",
       "      <td>8137.000000</td>\n",
       "      <td>8137.000000</td>\n",
       "      <td>7590.000000</td>\n",
       "    </tr>\n",
       "    <tr>\n",
       "      <th>mean</th>\n",
       "      <td>2006.487356</td>\n",
       "      <td>0.263330</td>\n",
       "      <td>0.145025</td>\n",
       "      <td>0.077602</td>\n",
       "      <td>0.047332</td>\n",
       "      <td>0.533543</td>\n",
       "      <td>68.967679</td>\n",
       "      <td>26.360821</td>\n",
       "      <td>162.229908</td>\n",
       "    </tr>\n",
       "    <tr>\n",
       "      <th>std</th>\n",
       "      <td>5.878995</td>\n",
       "      <td>0.813514</td>\n",
       "      <td>0.503283</td>\n",
       "      <td>0.308818</td>\n",
       "      <td>0.186710</td>\n",
       "      <td>1.547935</td>\n",
       "      <td>13.938165</td>\n",
       "      <td>18.980495</td>\n",
       "      <td>561.282326</td>\n",
       "    </tr>\n",
       "    <tr>\n",
       "      <th>min</th>\n",
       "      <td>1980.000000</td>\n",
       "      <td>0.000000</td>\n",
       "      <td>0.000000</td>\n",
       "      <td>0.000000</td>\n",
       "      <td>0.000000</td>\n",
       "      <td>0.010000</td>\n",
       "      <td>13.000000</td>\n",
       "      <td>3.000000</td>\n",
       "      <td>4.000000</td>\n",
       "    </tr>\n",
       "    <tr>\n",
       "      <th>25%</th>\n",
       "      <td>2003.000000</td>\n",
       "      <td>0.000000</td>\n",
       "      <td>0.000000</td>\n",
       "      <td>0.000000</td>\n",
       "      <td>0.000000</td>\n",
       "      <td>0.060000</td>\n",
       "      <td>60.000000</td>\n",
       "      <td>12.000000</td>\n",
       "      <td>10.000000</td>\n",
       "    </tr>\n",
       "    <tr>\n",
       "      <th>50%</th>\n",
       "      <td>2007.000000</td>\n",
       "      <td>0.080000</td>\n",
       "      <td>0.020000</td>\n",
       "      <td>0.000000</td>\n",
       "      <td>0.010000</td>\n",
       "      <td>0.170000</td>\n",
       "      <td>71.000000</td>\n",
       "      <td>21.000000</td>\n",
       "      <td>24.000000</td>\n",
       "    </tr>\n",
       "    <tr>\n",
       "      <th>75%</th>\n",
       "      <td>2010.000000</td>\n",
       "      <td>0.240000</td>\n",
       "      <td>0.110000</td>\n",
       "      <td>0.040000</td>\n",
       "      <td>0.030000</td>\n",
       "      <td>0.470000</td>\n",
       "      <td>79.000000</td>\n",
       "      <td>36.000000</td>\n",
       "      <td>81.000000</td>\n",
       "    </tr>\n",
       "    <tr>\n",
       "      <th>max</th>\n",
       "      <td>2020.000000</td>\n",
       "      <td>41.360000</td>\n",
       "      <td>28.960000</td>\n",
       "      <td>10.220000</td>\n",
       "      <td>10.570000</td>\n",
       "      <td>82.530000</td>\n",
       "      <td>98.000000</td>\n",
       "      <td>113.000000</td>\n",
       "      <td>10665.000000</td>\n",
       "    </tr>\n",
       "  </tbody>\n",
       "</table>\n",
       "</div>"
      ],
      "text/plain": [
       "       Year_of_Release      NA_Sales      EU_Sales      JP_Sales  \\\n",
       "count     16450.000000  16719.000000  16719.000000  16719.000000   \n",
       "mean       2006.487356      0.263330      0.145025      0.077602   \n",
       "std           5.878995      0.813514      0.503283      0.308818   \n",
       "min        1980.000000      0.000000      0.000000      0.000000   \n",
       "25%        2003.000000      0.000000      0.000000      0.000000   \n",
       "50%        2007.000000      0.080000      0.020000      0.000000   \n",
       "75%        2010.000000      0.240000      0.110000      0.040000   \n",
       "max        2020.000000     41.360000     28.960000     10.220000   \n",
       "\n",
       "        Other_Sales  Global_Sales  Critic_Score  Critic_Count    User_Count  \n",
       "count  16719.000000  16719.000000   8137.000000   8137.000000   7590.000000  \n",
       "mean       0.047332      0.533543     68.967679     26.360821    162.229908  \n",
       "std        0.186710      1.547935     13.938165     18.980495    561.282326  \n",
       "min        0.000000      0.010000     13.000000      3.000000      4.000000  \n",
       "25%        0.000000      0.060000     60.000000     12.000000     10.000000  \n",
       "50%        0.010000      0.170000     71.000000     21.000000     24.000000  \n",
       "75%        0.030000      0.470000     79.000000     36.000000     81.000000  \n",
       "max       10.570000     82.530000     98.000000    113.000000  10665.000000  "
      ]
     },
     "execution_count": 6,
     "metadata": {},
     "output_type": "execute_result"
    }
   ],
   "source": [
    "df.describe(include=float)"
   ]
  },
  {
   "cell_type": "code",
   "execution_count": 7,
   "id": "2c61b483",
   "metadata": {},
   "outputs": [
    {
     "name": "stdout",
     "output_type": "stream",
     "text": [
      "The data set has 16719 rows and 16 columns\n"
     ]
    },
    {
     "data": {
      "text/html": [
       "<div>\n",
       "<style scoped>\n",
       "    .dataframe tbody tr th:only-of-type {\n",
       "        vertical-align: middle;\n",
       "    }\n",
       "\n",
       "    .dataframe tbody tr th {\n",
       "        vertical-align: top;\n",
       "    }\n",
       "\n",
       "    .dataframe thead th {\n",
       "        text-align: right;\n",
       "    }\n",
       "</style>\n",
       "<table border=\"1\" class=\"dataframe\">\n",
       "  <thead>\n",
       "    <tr style=\"text-align: right;\">\n",
       "      <th></th>\n",
       "      <th>Year_of_Release</th>\n",
       "      <th>NA_Sales</th>\n",
       "      <th>EU_Sales</th>\n",
       "      <th>JP_Sales</th>\n",
       "      <th>Other_Sales</th>\n",
       "      <th>Global_Sales</th>\n",
       "      <th>Critic_Score</th>\n",
       "      <th>Critic_Count</th>\n",
       "      <th>User_Count</th>\n",
       "    </tr>\n",
       "  </thead>\n",
       "  <tbody>\n",
       "    <tr>\n",
       "      <th>count</th>\n",
       "      <td>16450.000000</td>\n",
       "      <td>16719.000000</td>\n",
       "      <td>16719.000000</td>\n",
       "      <td>16719.000000</td>\n",
       "      <td>16719.000000</td>\n",
       "      <td>16719.000000</td>\n",
       "      <td>8137.000000</td>\n",
       "      <td>8137.000000</td>\n",
       "      <td>7590.000000</td>\n",
       "    </tr>\n",
       "    <tr>\n",
       "      <th>mean</th>\n",
       "      <td>2006.487356</td>\n",
       "      <td>0.263330</td>\n",
       "      <td>0.145025</td>\n",
       "      <td>0.077602</td>\n",
       "      <td>0.047332</td>\n",
       "      <td>0.533543</td>\n",
       "      <td>68.967679</td>\n",
       "      <td>26.360821</td>\n",
       "      <td>162.229908</td>\n",
       "    </tr>\n",
       "    <tr>\n",
       "      <th>std</th>\n",
       "      <td>5.878995</td>\n",
       "      <td>0.813514</td>\n",
       "      <td>0.503283</td>\n",
       "      <td>0.308818</td>\n",
       "      <td>0.186710</td>\n",
       "      <td>1.547935</td>\n",
       "      <td>13.938165</td>\n",
       "      <td>18.980495</td>\n",
       "      <td>561.282326</td>\n",
       "    </tr>\n",
       "    <tr>\n",
       "      <th>min</th>\n",
       "      <td>1980.000000</td>\n",
       "      <td>0.000000</td>\n",
       "      <td>0.000000</td>\n",
       "      <td>0.000000</td>\n",
       "      <td>0.000000</td>\n",
       "      <td>0.010000</td>\n",
       "      <td>13.000000</td>\n",
       "      <td>3.000000</td>\n",
       "      <td>4.000000</td>\n",
       "    </tr>\n",
       "    <tr>\n",
       "      <th>25%</th>\n",
       "      <td>2003.000000</td>\n",
       "      <td>0.000000</td>\n",
       "      <td>0.000000</td>\n",
       "      <td>0.000000</td>\n",
       "      <td>0.000000</td>\n",
       "      <td>0.060000</td>\n",
       "      <td>60.000000</td>\n",
       "      <td>12.000000</td>\n",
       "      <td>10.000000</td>\n",
       "    </tr>\n",
       "    <tr>\n",
       "      <th>50%</th>\n",
       "      <td>2007.000000</td>\n",
       "      <td>0.080000</td>\n",
       "      <td>0.020000</td>\n",
       "      <td>0.000000</td>\n",
       "      <td>0.010000</td>\n",
       "      <td>0.170000</td>\n",
       "      <td>71.000000</td>\n",
       "      <td>21.000000</td>\n",
       "      <td>24.000000</td>\n",
       "    </tr>\n",
       "    <tr>\n",
       "      <th>75%</th>\n",
       "      <td>2010.000000</td>\n",
       "      <td>0.240000</td>\n",
       "      <td>0.110000</td>\n",
       "      <td>0.040000</td>\n",
       "      <td>0.030000</td>\n",
       "      <td>0.470000</td>\n",
       "      <td>79.000000</td>\n",
       "      <td>36.000000</td>\n",
       "      <td>81.000000</td>\n",
       "    </tr>\n",
       "    <tr>\n",
       "      <th>max</th>\n",
       "      <td>2020.000000</td>\n",
       "      <td>41.360000</td>\n",
       "      <td>28.960000</td>\n",
       "      <td>10.220000</td>\n",
       "      <td>10.570000</td>\n",
       "      <td>82.530000</td>\n",
       "      <td>98.000000</td>\n",
       "      <td>113.000000</td>\n",
       "      <td>10665.000000</td>\n",
       "    </tr>\n",
       "  </tbody>\n",
       "</table>\n",
       "</div>"
      ],
      "text/plain": [
       "       Year_of_Release      NA_Sales      EU_Sales      JP_Sales  \\\n",
       "count     16450.000000  16719.000000  16719.000000  16719.000000   \n",
       "mean       2006.487356      0.263330      0.145025      0.077602   \n",
       "std           5.878995      0.813514      0.503283      0.308818   \n",
       "min        1980.000000      0.000000      0.000000      0.000000   \n",
       "25%        2003.000000      0.000000      0.000000      0.000000   \n",
       "50%        2007.000000      0.080000      0.020000      0.000000   \n",
       "75%        2010.000000      0.240000      0.110000      0.040000   \n",
       "max        2020.000000     41.360000     28.960000     10.220000   \n",
       "\n",
       "        Other_Sales  Global_Sales  Critic_Score  Critic_Count    User_Count  \n",
       "count  16719.000000  16719.000000   8137.000000   8137.000000   7590.000000  \n",
       "mean       0.047332      0.533543     68.967679     26.360821    162.229908  \n",
       "std        0.186710      1.547935     13.938165     18.980495    561.282326  \n",
       "min        0.000000      0.010000     13.000000      3.000000      4.000000  \n",
       "25%        0.000000      0.060000     60.000000     12.000000     10.000000  \n",
       "50%        0.010000      0.170000     71.000000     21.000000     24.000000  \n",
       "75%        0.030000      0.470000     79.000000     36.000000     81.000000  \n",
       "max       10.570000     82.530000     98.000000    113.000000  10665.000000  "
      ]
     },
     "metadata": {},
     "output_type": "display_data"
    },
    {
     "data": {
      "text/html": [
       "<div>\n",
       "<style scoped>\n",
       "    .dataframe tbody tr th:only-of-type {\n",
       "        vertical-align: middle;\n",
       "    }\n",
       "\n",
       "    .dataframe tbody tr th {\n",
       "        vertical-align: top;\n",
       "    }\n",
       "\n",
       "    .dataframe thead th {\n",
       "        text-align: right;\n",
       "    }\n",
       "</style>\n",
       "<table border=\"1\" class=\"dataframe\">\n",
       "  <thead>\n",
       "    <tr style=\"text-align: right;\">\n",
       "      <th></th>\n",
       "      <th>Name</th>\n",
       "      <th>Platform</th>\n",
       "      <th>Year_of_Release</th>\n",
       "      <th>Genre</th>\n",
       "      <th>Publisher</th>\n",
       "      <th>NA_Sales</th>\n",
       "      <th>EU_Sales</th>\n",
       "      <th>JP_Sales</th>\n",
       "      <th>Other_Sales</th>\n",
       "      <th>Global_Sales</th>\n",
       "      <th>Critic_Score</th>\n",
       "      <th>Critic_Count</th>\n",
       "      <th>User_Score</th>\n",
       "      <th>User_Count</th>\n",
       "      <th>Developer</th>\n",
       "      <th>Rating</th>\n",
       "    </tr>\n",
       "  </thead>\n",
       "  <tbody>\n",
       "    <tr>\n",
       "      <th>0</th>\n",
       "      <td>Wii Sports</td>\n",
       "      <td>Wii</td>\n",
       "      <td>2006.0</td>\n",
       "      <td>Sports</td>\n",
       "      <td>Nintendo</td>\n",
       "      <td>41.36</td>\n",
       "      <td>28.96</td>\n",
       "      <td>3.77</td>\n",
       "      <td>8.45</td>\n",
       "      <td>82.53</td>\n",
       "      <td>76.0</td>\n",
       "      <td>51.0</td>\n",
       "      <td>8</td>\n",
       "      <td>322.0</td>\n",
       "      <td>Nintendo</td>\n",
       "      <td>E</td>\n",
       "    </tr>\n",
       "    <tr>\n",
       "      <th>1</th>\n",
       "      <td>Super Mario Bros.</td>\n",
       "      <td>NES</td>\n",
       "      <td>1985.0</td>\n",
       "      <td>Platform</td>\n",
       "      <td>Nintendo</td>\n",
       "      <td>29.08</td>\n",
       "      <td>3.58</td>\n",
       "      <td>6.81</td>\n",
       "      <td>0.77</td>\n",
       "      <td>40.24</td>\n",
       "      <td>NaN</td>\n",
       "      <td>NaN</td>\n",
       "      <td>NaN</td>\n",
       "      <td>NaN</td>\n",
       "      <td>NaN</td>\n",
       "      <td>NaN</td>\n",
       "    </tr>\n",
       "    <tr>\n",
       "      <th>2</th>\n",
       "      <td>Mario Kart Wii</td>\n",
       "      <td>Wii</td>\n",
       "      <td>2008.0</td>\n",
       "      <td>Racing</td>\n",
       "      <td>Nintendo</td>\n",
       "      <td>15.68</td>\n",
       "      <td>12.76</td>\n",
       "      <td>3.79</td>\n",
       "      <td>3.29</td>\n",
       "      <td>35.52</td>\n",
       "      <td>82.0</td>\n",
       "      <td>73.0</td>\n",
       "      <td>8.3</td>\n",
       "      <td>709.0</td>\n",
       "      <td>Nintendo</td>\n",
       "      <td>E</td>\n",
       "    </tr>\n",
       "    <tr>\n",
       "      <th>3</th>\n",
       "      <td>Wii Sports Resort</td>\n",
       "      <td>Wii</td>\n",
       "      <td>2009.0</td>\n",
       "      <td>Sports</td>\n",
       "      <td>Nintendo</td>\n",
       "      <td>15.61</td>\n",
       "      <td>10.93</td>\n",
       "      <td>3.28</td>\n",
       "      <td>2.95</td>\n",
       "      <td>32.77</td>\n",
       "      <td>80.0</td>\n",
       "      <td>73.0</td>\n",
       "      <td>8</td>\n",
       "      <td>192.0</td>\n",
       "      <td>Nintendo</td>\n",
       "      <td>E</td>\n",
       "    </tr>\n",
       "    <tr>\n",
       "      <th>4</th>\n",
       "      <td>Pokemon Red/Pokemon Blue</td>\n",
       "      <td>GB</td>\n",
       "      <td>1996.0</td>\n",
       "      <td>Role-Playing</td>\n",
       "      <td>Nintendo</td>\n",
       "      <td>11.27</td>\n",
       "      <td>8.89</td>\n",
       "      <td>10.22</td>\n",
       "      <td>1.00</td>\n",
       "      <td>31.37</td>\n",
       "      <td>NaN</td>\n",
       "      <td>NaN</td>\n",
       "      <td>NaN</td>\n",
       "      <td>NaN</td>\n",
       "      <td>NaN</td>\n",
       "      <td>NaN</td>\n",
       "    </tr>\n",
       "  </tbody>\n",
       "</table>\n",
       "</div>"
      ],
      "text/plain": [
       "                       Name Platform  Year_of_Release         Genre Publisher  \\\n",
       "0                Wii Sports      Wii           2006.0        Sports  Nintendo   \n",
       "1         Super Mario Bros.      NES           1985.0      Platform  Nintendo   \n",
       "2            Mario Kart Wii      Wii           2008.0        Racing  Nintendo   \n",
       "3         Wii Sports Resort      Wii           2009.0        Sports  Nintendo   \n",
       "4  Pokemon Red/Pokemon Blue       GB           1996.0  Role-Playing  Nintendo   \n",
       "\n",
       "   NA_Sales  EU_Sales  JP_Sales  Other_Sales  Global_Sales  Critic_Score  \\\n",
       "0     41.36     28.96      3.77         8.45         82.53          76.0   \n",
       "1     29.08      3.58      6.81         0.77         40.24           NaN   \n",
       "2     15.68     12.76      3.79         3.29         35.52          82.0   \n",
       "3     15.61     10.93      3.28         2.95         32.77          80.0   \n",
       "4     11.27      8.89     10.22         1.00         31.37           NaN   \n",
       "\n",
       "   Critic_Count User_Score  User_Count Developer Rating  \n",
       "0          51.0          8       322.0  Nintendo      E  \n",
       "1           NaN        NaN         NaN       NaN    NaN  \n",
       "2          73.0        8.3       709.0  Nintendo      E  \n",
       "3          73.0          8       192.0  Nintendo      E  \n",
       "4           NaN        NaN         NaN       NaN    NaN  "
      ]
     },
     "metadata": {},
     "output_type": "display_data"
    },
    {
     "data": {
      "text/plain": [
       "float64    9\n",
       "object     7\n",
       "Name: count, dtype: int64"
      ]
     },
     "metadata": {},
     "output_type": "display_data"
    }
   ],
   "source": [
    "print(\"The data set has {} rows and {} columns\".format(df.shape[0], df.shape[1]))\n",
    "display(df.describe())\n",
    "display(df.head())\n",
    "display(df.dtypes.value_counts())"
   ]
  },
  {
   "cell_type": "code",
   "execution_count": 8,
   "id": "caf0dc91",
   "metadata": {},
   "outputs": [
    {
     "data": {
      "text/plain": [
       "Name                object\n",
       "Platform            object\n",
       "Year_of_Release    float64\n",
       "Genre               object\n",
       "Publisher           object\n",
       "NA_Sales           float64\n",
       "EU_Sales           float64\n",
       "JP_Sales           float64\n",
       "Other_Sales        float64\n",
       "Global_Sales       float64\n",
       "Critic_Score       float64\n",
       "Critic_Count       float64\n",
       "User_Score          object\n",
       "User_Count         float64\n",
       "Developer           object\n",
       "Rating              object\n",
       "dtype: object"
      ]
     },
     "execution_count": 8,
     "metadata": {},
     "output_type": "execute_result"
    }
   ],
   "source": [
    "df.dtypes"
   ]
  },
  {
   "cell_type": "markdown",
   "id": "495779a3",
   "metadata": {},
   "source": [
    "# Checking for Duplicates: "
   ]
  },
  {
   "cell_type": "code",
   "execution_count": 9,
   "id": "5685be25",
   "metadata": {},
   "outputs": [
    {
     "data": {
      "text/plain": [
       "0"
      ]
     },
     "execution_count": 9,
     "metadata": {},
     "output_type": "execute_result"
    }
   ],
   "source": [
    "df.duplicated().sum() "
   ]
  },
  {
   "cell_type": "code",
   "execution_count": 12,
   "id": "e37fedbe",
   "metadata": {},
   "outputs": [
    {
     "name": "stdout",
     "output_type": "stream",
     "text": [
      "Duplicate sum in Name: 5156\n",
      "Duplicate sum in Platform: 16688\n",
      "Duplicate sum in Year_of_Release: 16679\n",
      "Duplicate sum in Genre: 16706\n",
      "Duplicate sum in Publisher: 16137\n",
      "Duplicate sum in NA_Sales: 16317\n",
      "Duplicate sum in EU_Sales: 16412\n",
      "Duplicate sum in JP_Sales: 16475\n",
      "Duplicate sum in Other_Sales: 16564\n",
      "Duplicate sum in Global_Sales: 16090\n",
      "Duplicate sum in Critic_Score: 16636\n",
      "Duplicate sum in Critic_Count: 16612\n",
      "Duplicate sum in User_Score: 16622\n",
      "Duplicate sum in User_Count: 15830\n",
      "Duplicate sum in Developer: 15022\n",
      "Duplicate sum in Rating: 16710\n"
     ]
    }
   ],
   "source": [
    "for col in df.columns:\n",
    "    dup_sum = df.duplicated(subset=col).sum()\n",
    "    print(f\"Duplicate sum in {col}: {dup_sum}\")"
   ]
  },
  {
   "cell_type": "markdown",
   "id": "96b7a99d",
   "metadata": {},
   "source": [
    "# Missing Variables: "
   ]
  },
  {
   "cell_type": "code",
   "execution_count": null,
   "id": "393439db",
   "metadata": {},
   "outputs": [],
   "source": [
    "df.isnull().sum()"
   ]
  },
  {
   "cell_type": "markdown",
   "id": "0acff8c8",
   "metadata": {},
   "source": [
    "Check the percentage of Missing variable for each features: "
   ]
  },
  {
   "cell_type": "code",
   "execution_count": null,
   "id": "5b4348e0",
   "metadata": {},
   "outputs": [],
   "source": [
    "missing_values = df.isnull().sum()\n",
    "total_values = df.shape[0]\n",
    "\n",
    "percentage_missing = (missing_values / total_values) * 100\n",
    "\n",
    "print(percentage_missing)"
   ]
  },
  {
   "cell_type": "code",
   "execution_count": null,
   "id": "83e807f5",
   "metadata": {},
   "outputs": [],
   "source": [
    "df.isnull().sum().sum()"
   ]
  },
  {
   "cell_type": "markdown",
   "id": "a0e48dd3",
   "metadata": {},
   "source": [
    "# Handling Missing Variables: "
   ]
  },
  {
   "cell_type": "markdown",
   "id": "c6bbc1f1",
   "metadata": {},
   "source": [
    "It has been noticed that there are some features that are having missing variables like: \n",
    "\n",
    "    - Name\n",
    "    - Year_of_Release \n",
    "    - Genre               \n",
    "    - Publisher           \n",
    "    - Critic_Score\n",
    "    - Critic_Count\n",
    "    - User_Score\n",
    "    - Critic_Count\n",
    "    - User_Score \n",
    "    - User_Count \n",
    "    - Developer\n",
    "    - Rating  \n",
    "    \n",
    "To understand how to handle this missing variable is important before to understand which type of variable are; float and object. This is important to understand the correct approach to handle them. It is crucial to handle this before passing to the visualization part to avoid having naan values in the graphs."
   ]
  },
  {
   "cell_type": "markdown",
   "id": "1dddd395",
   "metadata": {},
   "source": [
    "Float Missing variable: Critic_Score, Critic_Count, User_count features have missing variable so for this reason they will ve filled with the mean it has been decided to have the average for the natute of the variable. Years of release even tho is a float will be handled into cateregorical variable because we cannot do an average of the years "
   ]
  },
  {
   "cell_type": "code",
   "execution_count": null,
   "id": "198bc171",
   "metadata": {},
   "outputs": [],
   "source": [
    "numerical_column=['Critic_Score', 'Critic_Count', 'User_Count']"
   ]
  },
  {
   "cell_type": "code",
   "execution_count": null,
   "id": "c42fdb88",
   "metadata": {},
   "outputs": [],
   "source": [
    "for column  in numerical_column:\n",
    "    df[column].fillna(df[column].mean(), inplace=True)"
   ]
  },
  {
   "cell_type": "code",
   "execution_count": null,
   "id": "c3d98b21",
   "metadata": {},
   "outputs": [],
   "source": [
    "df.isnull().sum()"
   ]
  },
  {
   "cell_type": "markdown",
   "id": "969ba9dc",
   "metadata": {},
   "source": [
    "To handle the feature \" Years_of_release\" it will be used the mode. The reason behind is that the mode is the variable that will be most of the time present in the dataset"
   ]
  },
  {
   "cell_type": "code",
   "execution_count": null,
   "id": "c8439394",
   "metadata": {},
   "outputs": [],
   "source": [
    "df['Year_of_Release'].fillna(df['Year_of_Release'].mean(), inplace=True)"
   ]
  },
  {
   "cell_type": "code",
   "execution_count": null,
   "id": "09d87f6c",
   "metadata": {},
   "outputs": [],
   "source": [
    "df.isnull().sum()"
   ]
  },
  {
   "cell_type": "markdown",
   "id": "dc36f978",
   "metadata": {},
   "source": [
    "Object features missing variable. Due to the nature of visualization it has been avoided encode the variable to be filled after with the median the mode or the mean but it will be used \"Unknown\" so it will be noticed in the visualization. it has been avoided the dropna function due to the amount of missin variables "
   ]
  },
  {
   "cell_type": "code",
   "execution_count": null,
   "id": "b60d3e53",
   "metadata": {},
   "outputs": [],
   "source": [
    "df.isnull().sum()"
   ]
  },
  {
   "cell_type": "code",
   "execution_count": null,
   "id": "b42727ec",
   "metadata": {},
   "outputs": [],
   "source": [
    "categorical_columns = ['Name','Genre', 'Publisher', 'Developer', 'Rating']"
   ]
  },
  {
   "cell_type": "code",
   "execution_count": null,
   "id": "64ecf004",
   "metadata": {},
   "outputs": [],
   "source": [
    "for column in categorical_columns:\n",
    "    df[column].fillna('Unknown', inplace=True)"
   ]
  },
  {
   "cell_type": "code",
   "execution_count": null,
   "id": "85e7bd56",
   "metadata": {},
   "outputs": [],
   "source": [
    "Supposefloat=['User_Score']"
   ]
  },
  {
   "cell_type": "code",
   "execution_count": null,
   "id": "af6ced8d",
   "metadata": {},
   "outputs": [],
   "source": [
    "for column in Supposefloat:\n",
    "    df[column].fillna('0', inplace=True)"
   ]
  },
  {
   "cell_type": "code",
   "execution_count": null,
   "id": "d1ce14c1",
   "metadata": {},
   "outputs": [],
   "source": [
    "unique_user_scores = df[\"User_Score\"].unique()\n",
    "print(unique_user_scores)"
   ]
  },
  {
   "cell_type": "code",
   "execution_count": null,
   "id": "b507a791",
   "metadata": {},
   "outputs": [],
   "source": [
    "df[\"User_Score\"] = df[\"User_Score\"].replace('tbd', 0)"
   ]
  },
  {
   "cell_type": "code",
   "execution_count": null,
   "id": "d980771b",
   "metadata": {},
   "outputs": [],
   "source": [
    "unique_user_scores = df[\"User_Score\"].unique()\n",
    "print(unique_user_scores)"
   ]
  },
  {
   "cell_type": "markdown",
   "id": "05934cff",
   "metadata": {},
   "source": [
    "# Change Object into Float "
   ]
  },
  {
   "cell_type": "code",
   "execution_count": null,
   "id": "439cd7c6",
   "metadata": {},
   "outputs": [],
   "source": [
    "df['User_Score']=df['User_Score'].astype(float)"
   ]
  },
  {
   "cell_type": "code",
   "execution_count": null,
   "id": "90254569",
   "metadata": {},
   "outputs": [],
   "source": [
    "df.isnull().sum()"
   ]
  },
  {
   "cell_type": "code",
   "execution_count": null,
   "id": "d70d4ae9",
   "metadata": {},
   "outputs": [],
   "source": [
    "df.head()"
   ]
  },
  {
   "cell_type": "code",
   "execution_count": null,
   "id": "e6a3b244",
   "metadata": {},
   "outputs": [],
   "source": [
    "df.dtypes"
   ]
  },
  {
   "cell_type": "markdown",
   "id": "94471ff1",
   "metadata": {},
   "source": [
    "It is important now to consider that some of the variables that are float should be integers. like years of release, critic score critic count and user count "
   ]
  },
  {
   "cell_type": "markdown",
   "id": "09e25d26",
   "metadata": {},
   "source": [
    "# Change float into Integers: "
   ]
  },
  {
   "cell_type": "code",
   "execution_count": null,
   "id": "1d3b2d77",
   "metadata": {},
   "outputs": [],
   "source": [
    "df['Year_of_Release'] = df['Year_of_Release'].apply(np.int64)\n",
    "df['Critic_Score'] = df['Critic_Score'].apply(np.int64)\n",
    "df['Critic_Count'] = df['Critic_Count'].apply(np.int64)\n",
    "df['User_Count'] = df['User_Count'].apply(np.int64)\n",
    "df['User_Score'] = df['User_Score'].apply(np.int64)"
   ]
  },
  {
   "cell_type": "code",
   "execution_count": null,
   "id": "a6e8c91b",
   "metadata": {},
   "outputs": [],
   "source": [
    "df.dtypes"
   ]
  },
  {
   "cell_type": "code",
   "execution_count": null,
   "id": "dd25a6a9",
   "metadata": {
    "scrolled": true
   },
   "outputs": [],
   "source": [
    "df.head()"
   ]
  },
  {
   "cell_type": "markdown",
   "id": "0cff4f9c",
   "metadata": {},
   "source": [
    "PART 1: Answering questions"
   ]
  },
  {
   "cell_type": "markdown",
   "id": "1f203640",
   "metadata": {},
   "source": [
    "# What are the top 5 games by global sales?"
   ]
  },
  {
   "cell_type": "markdown",
   "id": "d07b831d",
   "metadata": {},
   "source": [
    "The dataset will be reduced for the global sales that have more value than 30. The reason behind is to optimize the running of the karnel and start reducing the dataset to see the information needed"
   ]
  },
  {
   "cell_type": "code",
   "execution_count": null,
   "id": "a598f5f9",
   "metadata": {},
   "outputs": [],
   "source": [
    "GlobalSales_df=df.loc[df[\"Global_Sales\"]>30]"
   ]
  },
  {
   "cell_type": "code",
   "execution_count": null,
   "id": "fd1f662c",
   "metadata": {},
   "outputs": [],
   "source": [
    "GlobalSales_df.head(5)"
   ]
  },
  {
   "cell_type": "code",
   "execution_count": null,
   "id": "2d619cd4",
   "metadata": {},
   "outputs": [],
   "source": [
    "from numpy import mean\n",
    "sns.barplot(data=GlobalSales_df, x=\"Global_Sales\", y=\"Name\", color=\"blue\", estimator=mean );\n",
    "plt.title(\"Top Games by Global Sales\")\n",
    "plt.show"
   ]
  },
  {
   "cell_type": "markdown",
   "id": "5add9981",
   "metadata": {},
   "source": [
    "# Is there a correlation between the “na_sales” and “jp_sales” for the years 2010-2014?  "
   ]
  },
  {
   "cell_type": "markdown",
   "id": "0b95f5c4",
   "metadata": {},
   "source": [
    "The correlation is the Comparison between observations represented by two variables (in this case NA_sales and jp_sales) to determine if they tend to move in the same or opposite directions.To show this it is used a scatterplot. A scatterplot shows the relationshop between the variables where everydots reppresent an observation: \n"
   ]
  },
  {
   "cell_type": "code",
   "execution_count": null,
   "id": "d725e125",
   "metadata": {},
   "outputs": [],
   "source": [
    "Specific_Years = [2010,2011,2012,2013,2014]\n",
    "df_years = df[df['Year_of_Release'].isin(Specific_Years)]\n",
    "plt.figure(figsize=(9,5))\n",
    "sns.scatterplot(data=df_years, x='NA_Sales', y='JP_Sales', alpha=0.7, hue='Year_of_Release');"
   ]
  },
  {
   "cell_type": "markdown",
   "id": "e6dbabb9",
   "metadata": {},
   "source": [
    "based on the scatterplot results don't show correlation between the sales for these specific years. It is important to consider that the lack of correletation not necessary means the lack of causation. "
   ]
  },
  {
   "cell_type": "markdown",
   "id": "32d0e716",
   "metadata": {},
   "source": [
    "# What is the distribution of the most popular 4 game genres?  "
   ]
  },
  {
   "cell_type": "markdown",
   "id": "ab4e72c2",
   "metadata": {},
   "source": [
    "histogram is the most useful visualization for distribution "
   ]
  },
  {
   "cell_type": "code",
   "execution_count": null,
   "id": "e8222532",
   "metadata": {
    "scrolled": true
   },
   "outputs": [],
   "source": [
    "df.head()"
   ]
  },
  {
   "cell_type": "code",
   "execution_count": null,
   "id": "652f574f",
   "metadata": {
    "scrolled": false
   },
   "outputs": [],
   "source": [
    "plt.figure(figsize=(20, 10))\n",
    "sns.histplot(df[\"Genre\"]);\n",
    "plt.title('Distribution of Genre')\n",
    "plt.grid(True)\n",
    "plt.show()"
   ]
  },
  {
   "cell_type": "code",
   "execution_count": null,
   "id": "7a2ef2bb",
   "metadata": {},
   "outputs": [],
   "source": [
    "genre_counts = df['Genre'].value_counts().nlargest(4)\n",
    "top_genres = genre_counts.index.to_list()"
   ]
  },
  {
   "cell_type": "code",
   "execution_count": null,
   "id": "4784ee1d",
   "metadata": {},
   "outputs": [],
   "source": [
    "top_genres"
   ]
  },
  {
   "cell_type": "markdown",
   "id": "2bbb3266",
   "metadata": {},
   "source": [
    "# Do older games (2005 and earlier) have a higher MEAN “eu_sales” than newer games (after 2005)?  "
   ]
  },
  {
   "cell_type": "markdown",
   "id": "06d54e4a",
   "metadata": {},
   "source": [
    "To show and obtain the mean Boxplot are the visualization that we need to use "
   ]
  },
  {
   "cell_type": "code",
   "execution_count": null,
   "id": "ce06f1c4",
   "metadata": {},
   "outputs": [],
   "source": [
    "Oldergames_df=df.loc[df[\"Year_of_Release\"]<=2005]"
   ]
  },
  {
   "cell_type": "code",
   "execution_count": null,
   "id": "ecfdeff0",
   "metadata": {},
   "outputs": [],
   "source": [
    "Oldergames_df.head(100)"
   ]
  },
  {
   "cell_type": "code",
   "execution_count": null,
   "id": "38ad27c0",
   "metadata": {},
   "outputs": [],
   "source": [
    "Newergames_df=df.loc[df[\"Year_of_Release\"]>2005]"
   ]
  },
  {
   "cell_type": "code",
   "execution_count": null,
   "id": "20fa3cb2",
   "metadata": {},
   "outputs": [],
   "source": [
    "Newergames_df.head()"
   ]
  },
  {
   "cell_type": "code",
   "execution_count": null,
   "id": "c0a06684",
   "metadata": {},
   "outputs": [],
   "source": [
    "Oldergames_mean= Oldergames_df['EU_Sales'].mean()\n",
    "Newergames_mean= Newergames_df['EU_Sales'].mean()\n",
    "print(Oldergames_mean)\n",
    "print(Newergames_mean)"
   ]
  },
  {
   "cell_type": "markdown",
   "id": "994a8b22",
   "metadata": {},
   "source": [
    "For EU sales Data the means to be calculating aggregating the data by years"
   ]
  },
  {
   "cell_type": "code",
   "execution_count": null,
   "id": "031d47c4",
   "metadata": {},
   "outputs": [],
   "source": [
    "older_sales_by_year = Oldergames_df.groupby('Year_of_Release')['EU_Sales'].mean().reset_index()\n",
    "newer_sales_by_year = Newergames_df.groupby('Year_of_Release')['EU_Sales'].mean().reset_index()"
   ]
  },
  {
   "cell_type": "markdown",
   "id": "90ae6168",
   "metadata": {},
   "source": [
    "Now using a barplot to show the mean for both new datasets for older and newer games: "
   ]
  },
  {
   "cell_type": "code",
   "execution_count": null,
   "id": "4f017a3b",
   "metadata": {},
   "outputs": [],
   "source": [
    "\n",
    "sns.barplot(data=older_sales_by_year, x=\"Year_of_Release\", y=\"EU_Sales\")\n",
    "plt.title('Mean EU Sales for Older Games (<= 2005)')\n",
    "plt.xlabel('Year of Release')\n",
    "plt.ylabel('Mean EU Sales')\n",
    "plt.xticks(rotation=45)\n",
    "plt.show()\n",
    "sns.barplot(data=newer_sales_by_year, x=\"Year_of_Release\", y=\"EU_Sales\")\n",
    "plt.title('Mean EU Sales for Newer Games (> 2005)')\n",
    "plt.xlabel('Year of Release')\n",
    "plt.ylabel('Mean EU Sales')\n",
    "plt.xticks(rotation=45)\n",
    "plt.show()"
   ]
  },
  {
   "cell_type": "markdown",
   "id": "28b33de1",
   "metadata": {},
   "source": [
    "# What are the 3 most common “developer” in the dataset?  "
   ]
  },
  {
   "cell_type": "code",
   "execution_count": null,
   "id": "d3b256ed",
   "metadata": {},
   "outputs": [],
   "source": [
    "df[\"Publisher\"].unique"
   ]
  },
  {
   "cell_type": "code",
   "execution_count": null,
   "id": "939a5b7d",
   "metadata": {},
   "outputs": [],
   "source": [
    "publisher_counts = df[\"Publisher\"].value_counts().sort_values(ascending=False)\n",
    "print(publisher_counts)"
   ]
  },
  {
   "cell_type": "code",
   "execution_count": null,
   "id": "b858b209",
   "metadata": {},
   "outputs": [],
   "source": [
    "top_3_developers = publisher_counts.head(3)\n",
    "top_3_developers"
   ]
  },
  {
   "cell_type": "code",
   "execution_count": null,
   "id": "849d82ce",
   "metadata": {},
   "outputs": [],
   "source": [
    "most_common_developers = df[df[\"Publisher\"].isin(publisher_counts[publisher_counts > 900].index)]"
   ]
  },
  {
   "cell_type": "code",
   "execution_count": null,
   "id": "fda83031",
   "metadata": {},
   "outputs": [],
   "source": [
    "plt.figure(figsize=(30, 15))\n",
    "sns.displot(most_common_developers[\"Publisher\"]);\n",
    "plt.title('Most Commun Developer in dataset')\n",
    "plt.grid(True)\n",
    "plt.xticks(rotation=45)\n",
    "plt.show()"
   ]
  },
  {
   "cell_type": "markdown",
   "id": "a438e087",
   "metadata": {},
   "source": [
    "# Part 2: "
   ]
  },
  {
   "cell_type": "markdown",
   "id": "d9903803",
   "metadata": {},
   "source": [
    "From where was the most amount of sales? EU_Sales? NA_Sales or JP_Sales on Global Sales? "
   ]
  },
  {
   "cell_type": "code",
   "execution_count": null,
   "id": "f65255af",
   "metadata": {},
   "outputs": [],
   "source": [
    "total_eu_sales = df[\"EU_Sales\"].sum()\n",
    "total_na_sales = df[\"NA_Sales\"].sum()\n",
    "total_jp_sales = df[\"JP_Sales\"].sum()\n",
    "total_other_sales=df[\"Other_Sales\"].sum()\n",
    "print(f\"Total EU Sales: {total_eu_sales}\")\n",
    "print(f\"Total NA Sales: {total_na_sales}\")\n",
    "print(f\"Total JP Sales: {total_jp_sales}\")\n",
    "print(f\"Total Other Sales: {total_Other_Sales}\")"
   ]
  },
  {
   "cell_type": "code",
   "execution_count": null,
   "id": "e3b77588",
   "metadata": {},
   "outputs": [],
   "source": [
    "sales_data = pd.DataFrame({\n",
    "    'Region': ['EU', 'NA', 'JP', 'Other'],\n",
    "    'Total Sales': [total_eu_sales, total_na_sales, total_jp_sales, total_other_sales]\n",
    "})"
   ]
  },
  {
   "cell_type": "code",
   "execution_count": null,
   "id": "8e244881",
   "metadata": {},
   "outputs": [],
   "source": [
    "plt.figure(figsize=(10, 6))\n",
    "sns.barplot(data=sales_data, x='Region', y='Total Sales')\n",
    "plt.xlabel('Region')\n",
    "plt.ylabel('Total Sales')\n",
    "plt.title(\"Sales by Region\")\n",
    "plt.legend(labels=['EU:European','NA: North America', 'JP:Japan',\"other: Other Countries not included before\"], loc='upper right')\n",
    "plt.show()"
   ]
  },
  {
   "cell_type": "code",
   "execution_count": null,
   "id": "0f54c319",
   "metadata": {},
   "outputs": [],
   "source": [
    "lineplot?"
   ]
  },
  {
   "cell_type": "markdown",
   "id": "cbfb48cd",
   "metadata": {},
   "source": [
    "Does some genre have better sales in a specific region? "
   ]
  },
  {
   "cell_type": "code",
   "execution_count": null,
   "id": "67f17545",
   "metadata": {},
   "outputs": [],
   "source": [
    "genre_sales = df.groupby('Genre')[['EU_Sales', 'NA_Sales', 'JP_Sales', 'Other_Sales']].sum().reset_index()\n"
   ]
  },
  {
   "cell_type": "code",
   "execution_count": null,
   "id": "bdf59b54",
   "metadata": {},
   "outputs": [],
   "source": [
    "genre_sales.plot(kind='bar')\n",
    "plt.xlabel('Genre')\n",
    "plt.ylabel('Total Sales')\n",
    "plt.title('Total Sales of Each Genre in Each Region')\n",
    "plt.legend(title='Region', loc='upper center')\n",
    "plt.xticks(rotation=45)\n",
    "plt.show()"
   ]
  },
  {
   "cell_type": "markdown",
   "id": "5e67e5c6",
   "metadata": {},
   "source": [
    "what is the distribution of age rating into the global sales? "
   ]
  },
  {
   "cell_type": "code",
   "execution_count": null,
   "id": "74543501",
   "metadata": {},
   "outputs": [],
   "source": [
    "plt.figure(figsize=(10, 6))\n",
    "sns.boxplot(data=df, x='Rating', y='Global_Sales')\n",
    "plt.xlabel('Age Rating')\n",
    "plt.ylabel('Global Sales')\n",
    "plt.title('Distribution of Age Ratings in Relation to Global Sales')\n",
    "plt.show()"
   ]
  },
  {
   "cell_type": "markdown",
   "id": "85c13679",
   "metadata": {},
   "source": [
    "what are the games that have the highest rate? "
   ]
  },
  {
   "cell_type": "code",
   "execution_count": null,
   "id": "ddcae9c8",
   "metadata": {},
   "outputs": [],
   "source": [
    "unique_user_scores = df[\"User_Score\"].unique()\n",
    "print(unique_user_scores)"
   ]
  },
  {
   "cell_type": "code",
   "execution_count": null,
   "id": "76acb47d",
   "metadata": {},
   "outputs": [],
   "source": [
    "from numpy import mean\n",
    "sns.barplot(data=df, x=\"Genre\", y=\"User_Score\", color=\"green\", estimator=mean );\n",
    "plt.title(\"Top Genre by User Score\")\n",
    "plt.xticks(rotation=45)\n",
    "plt.show"
   ]
  },
  {
   "cell_type": "markdown",
   "id": "8b766727",
   "metadata": {},
   "source": [
    "# References: "
   ]
  },
  {
   "cell_type": "markdown",
   "id": "c4e3b9f8",
   "metadata": {},
   "source": [
    "https://www.datacamp.com/tutorial/how-to-make-a-seaborn-histogram\n",
    "- “How to Sum Columns with a Duplicate Name with Pandas?” Stack Overflow, stackoverflow.com/questions/61161241/how-to-sum-columns-with-a-duplicate-name-with-pandas. Accessed 24 Mar. 2024. \n",
    "- “Seaborn.barplot — Seaborn 0.11.1 Documentation.” Seaborn.pydata.org, seaborn.pydata.org/generated/seaborn.barplot.html.\n",
    "- “Matplotlib.pyplot.legend — Matplotlib 3.3.4 Documentation.” Matplotlib.org, matplotlib.org/stable/api/_as_gen/matplotlib.pyplot.legend.html."
   ]
  }
 ],
 "metadata": {
  "kernelspec": {
   "display_name": "Python 3 (ipykernel)",
   "language": "python",
   "name": "python3"
  },
  "language_info": {
   "codemirror_mode": {
    "name": "ipython",
    "version": 3
   },
   "file_extension": ".py",
   "mimetype": "text/x-python",
   "name": "python",
   "nbconvert_exporter": "python",
   "pygments_lexer": "ipython3",
   "version": "3.11.5"
  }
 },
 "nbformat": 4,
 "nbformat_minor": 5
}
